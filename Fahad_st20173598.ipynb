{
 "cells": [
  {
   "cell_type": "markdown",
   "metadata": {},
   "source": [
    "# CIS7031 - Programming for Data Analysis\n",
    "## Assessment Title: Employment in Wales\n",
    "### Submitted By: FAHAD AHMED\n",
    "#### STUDENT ID: ST20173598"
   ]
  },
  {
   "cell_type": "code",
   "execution_count": 1,
   "metadata": {},
   "outputs": [
    {
     "data": {
      "text/html": [
       "        <script type=\"text/javascript\">\n",
       "        window.PlotlyConfig = {MathJaxConfig: 'local'};\n",
       "        if (window.MathJax) {MathJax.Hub.Config({SVG: {font: \"STIX-Web\"}});}\n",
       "        if (typeof require !== 'undefined') {\n",
       "        require.undef(\"plotly\");\n",
       "        requirejs.config({\n",
       "            paths: {\n",
       "                'plotly': ['https://cdn.plot.ly/plotly-latest.min']\n",
       "            }\n",
       "        });\n",
       "        require(['plotly'], function(Plotly) {\n",
       "            window._Plotly = Plotly;\n",
       "        });\n",
       "        }\n",
       "        </script>\n",
       "        "
      ]
     },
     "metadata": {},
     "output_type": "display_data"
    }
   ],
   "source": [
    "## importing packages\n",
    "import pandas as pd\n",
    "import numpy as np\n",
    "import matplotlib.pyplot as plt\n",
    "import plotly.offline as py\n",
    "import plotly.graph_objs as go\n",
    "from sklearn.impute import SimpleImputer\n",
    "from sklearn.cluster import KMeans\n",
    "from sklearn import preprocessing\n",
    "from scipy.cluster import hierarchy\n",
    "from sklearn.decomposition import PCA\n",
    "from sklearn.preprocessing import StandardScaler\n",
    "from scipy import stats\n",
    "import seaborn as sns\n",
    "\n",
    "py.init_notebook_mode(connected=True)\n",
    "import plotly.express as px\n",
    "\n",
    "%matplotlib inline"
   ]
  },
  {
   "cell_type": "markdown",
   "metadata": {},
   "source": [
    "## 1.Data processing"
   ]
  },
  {
   "cell_type": "markdown",
   "metadata": {},
   "source": [
    "### 1.1 Download the dataset for the period 2009 – 2018 and create a dataframe that concatenates Wales (total) employment.\n",
    "below code read file"
   ]
  },
  {
   "cell_type": "code",
   "execution_count": 2,
   "metadata": {},
   "outputs": [
    {
     "data": {
      "text/html": [
       "<div>\n",
       "<style scoped>\n",
       "    .dataframe tbody tr th:only-of-type {\n",
       "        vertical-align: middle;\n",
       "    }\n",
       "\n",
       "    .dataframe tbody tr th {\n",
       "        vertical-align: top;\n",
       "    }\n",
       "\n",
       "    .dataframe thead th {\n",
       "        text-align: right;\n",
       "    }\n",
       "</style>\n",
       "<table border=\"1\" class=\"dataframe\">\n",
       "  <thead>\n",
       "    <tr style=\"text-align: right;\">\n",
       "      <th></th>\n",
       "      <th>All industries</th>\n",
       "      <th>Unnamed: 1</th>\n",
       "      <th>29966500</th>\n",
       "      <th>783400</th>\n",
       "      <th>552900</th>\n",
       "      <th>1336300</th>\n",
       "    </tr>\n",
       "  </thead>\n",
       "  <tbody>\n",
       "    <tr>\n",
       "      <td>0</td>\n",
       "      <td>All industries</td>\n",
       "      <td>Agriculture, forestry and fishing</td>\n",
       "      <td>389600</td>\n",
       "      <td>25700</td>\n",
       "      <td>12000</td>\n",
       "      <td>37700</td>\n",
       "    </tr>\n",
       "    <tr>\n",
       "      <td>1</td>\n",
       "      <td>NaN</td>\n",
       "      <td>Production</td>\n",
       "      <td>2832800</td>\n",
       "      <td>90200</td>\n",
       "      <td>66600</td>\n",
       "      <td>156700</td>\n",
       "    </tr>\n",
       "    <tr>\n",
       "      <td>2</td>\n",
       "      <td>NaN</td>\n",
       "      <td>Construction</td>\n",
       "      <td>2169500</td>\n",
       "      <td>60700</td>\n",
       "      <td>35900</td>\n",
       "      <td>96600</td>\n",
       "    </tr>\n",
       "    <tr>\n",
       "      <td>3</td>\n",
       "      <td>NaN</td>\n",
       "      <td>Wholesale, retail, transport, hotels and food</td>\n",
       "      <td>7899000</td>\n",
       "      <td>207700</td>\n",
       "      <td>137700</td>\n",
       "      <td>345400</td>\n",
       "    </tr>\n",
       "    <tr>\n",
       "      <td>4</td>\n",
       "      <td>NaN</td>\n",
       "      <td>Information and communication</td>\n",
       "      <td>1153800</td>\n",
       "      <td>12900</td>\n",
       "      <td>14900</td>\n",
       "      <td>27800</td>\n",
       "    </tr>\n",
       "    <tr>\n",
       "      <td>5</td>\n",
       "      <td>NaN</td>\n",
       "      <td>Finance and insurance activities</td>\n",
       "      <td>1089300</td>\n",
       "      <td>13900</td>\n",
       "      <td>19800</td>\n",
       "      <td>33800</td>\n",
       "    </tr>\n",
       "    <tr>\n",
       "      <td>6</td>\n",
       "      <td>NaN</td>\n",
       "      <td>Real estate activities</td>\n",
       "      <td>465500</td>\n",
       "      <td>7100</td>\n",
       "      <td>6500</td>\n",
       "      <td>13500</td>\n",
       "    </tr>\n",
       "    <tr>\n",
       "      <td>7</td>\n",
       "      <td>NaN</td>\n",
       "      <td>Professional, scientific and technical activit...</td>\n",
       "      <td>4572800</td>\n",
       "      <td>72400</td>\n",
       "      <td>72500</td>\n",
       "      <td>144800</td>\n",
       "    </tr>\n",
       "    <tr>\n",
       "      <td>8</td>\n",
       "      <td>NaN</td>\n",
       "      <td>Public administration, defence, education and ...</td>\n",
       "      <td>7739900</td>\n",
       "      <td>255700</td>\n",
       "      <td>160000</td>\n",
       "      <td>415600</td>\n",
       "    </tr>\n",
       "    <tr>\n",
       "      <td>9</td>\n",
       "      <td>NaN</td>\n",
       "      <td>Other service activities</td>\n",
       "      <td>1654600</td>\n",
       "      <td>37000</td>\n",
       "      <td>27200</td>\n",
       "      <td>64200</td>\n",
       "    </tr>\n",
       "  </tbody>\n",
       "</table>\n",
       "</div>"
      ],
      "text/plain": [
       "   All industries                                          Unnamed: 1  \\\n",
       "0  All industries                  Agriculture, forestry and fishing    \n",
       "1              NaN                                        Production    \n",
       "2              NaN                                      Construction    \n",
       "3              NaN     Wholesale, retail, transport, hotels and food    \n",
       "4              NaN                     Information and communication    \n",
       "5              NaN                  Finance and insurance activities    \n",
       "6              NaN                            Real estate activities    \n",
       "7              NaN  Professional, scientific and technical activit...   \n",
       "8              NaN  Public administration, defence, education and ...   \n",
       "9              NaN                          Other service activities    \n",
       "\n",
       "   29966500  783400  552900  1336300  \n",
       "0    389600   25700   12000    37700  \n",
       "1   2832800   90200   66600   156700  \n",
       "2   2169500   60700   35900    96600  \n",
       "3   7899000  207700  137700   345400  \n",
       "4   1153800   12900   14900    27800  \n",
       "5   1089300   13900   19800    33800  \n",
       "6    465500    7100    6500    13500  \n",
       "7   4572800   72400   72500   144800  \n",
       "8   7739900  255700  160000   415600  \n",
       "9   1654600   37000   27200    64200  "
      ]
     },
     "execution_count": 2,
     "metadata": {},
     "output_type": "execute_result"
    }
   ],
   "source": [
    "_2009 = pd.read_excel('D:/Study/Fahad/export_2009.xlsx', skiprows=2)\n",
    "_2009"
   ]
  },
  {
   "cell_type": "code",
   "execution_count": 3,
   "metadata": {},
   "outputs": [
    {
     "data": {
      "text/html": [
       "<div>\n",
       "<style scoped>\n",
       "    .dataframe tbody tr th:only-of-type {\n",
       "        vertical-align: middle;\n",
       "    }\n",
       "\n",
       "    .dataframe tbody tr th {\n",
       "        vertical-align: top;\n",
       "    }\n",
       "\n",
       "    .dataframe thead th {\n",
       "        text-align: right;\n",
       "    }\n",
       "</style>\n",
       "<table border=\"1\" class=\"dataframe\">\n",
       "  <thead>\n",
       "    <tr style=\"text-align: right;\">\n",
       "      <th></th>\n",
       "      <th>Industry</th>\n",
       "      <th>2009</th>\n",
       "    </tr>\n",
       "  </thead>\n",
       "  <tbody>\n",
       "    <tr>\n",
       "      <td>0</td>\n",
       "      <td>Agriculture, forestry and fishing</td>\n",
       "      <td>37700</td>\n",
       "    </tr>\n",
       "    <tr>\n",
       "      <td>1</td>\n",
       "      <td>Production</td>\n",
       "      <td>156700</td>\n",
       "    </tr>\n",
       "    <tr>\n",
       "      <td>2</td>\n",
       "      <td>Construction</td>\n",
       "      <td>96600</td>\n",
       "    </tr>\n",
       "    <tr>\n",
       "      <td>3</td>\n",
       "      <td>Wholesale, retail, transport, hotels and food</td>\n",
       "      <td>345400</td>\n",
       "    </tr>\n",
       "    <tr>\n",
       "      <td>4</td>\n",
       "      <td>Information and communication</td>\n",
       "      <td>27800</td>\n",
       "    </tr>\n",
       "    <tr>\n",
       "      <td>5</td>\n",
       "      <td>Finance and insurance activities</td>\n",
       "      <td>33800</td>\n",
       "    </tr>\n",
       "    <tr>\n",
       "      <td>6</td>\n",
       "      <td>Real estate activities</td>\n",
       "      <td>13500</td>\n",
       "    </tr>\n",
       "    <tr>\n",
       "      <td>7</td>\n",
       "      <td>Professional, scientific and technical activit...</td>\n",
       "      <td>144800</td>\n",
       "    </tr>\n",
       "    <tr>\n",
       "      <td>8</td>\n",
       "      <td>Public administration, defence, education and ...</td>\n",
       "      <td>415600</td>\n",
       "    </tr>\n",
       "    <tr>\n",
       "      <td>9</td>\n",
       "      <td>Other service activities</td>\n",
       "      <td>64200</td>\n",
       "    </tr>\n",
       "  </tbody>\n",
       "</table>\n",
       "</div>"
      ],
      "text/plain": [
       "                                            Industry    2009\n",
       "0                 Agriculture, forestry and fishing    37700\n",
       "1                                        Production   156700\n",
       "2                                      Construction    96600\n",
       "3     Wholesale, retail, transport, hotels and food   345400\n",
       "4                     Information and communication    27800\n",
       "5                  Finance and insurance activities    33800\n",
       "6                            Real estate activities    13500\n",
       "7  Professional, scientific and technical activit...  144800\n",
       "8  Public administration, defence, education and ...  415600\n",
       "9                          Other service activities    64200"
      ]
     },
     "execution_count": 3,
     "metadata": {},
     "output_type": "execute_result"
    }
   ],
   "source": [
    "_2009.columns = [\"empty\", \"Industry\", \"Uni\", \"West Wales\", \"East Wal\", \"2009\"]\n",
    "data = _2009.drop([\"empty\", \"Uni\", \"West Wales\", \"East Wal\"], axis=1)\n",
    "data"
   ]
  },
  {
   "cell_type": "code",
   "execution_count": 4,
   "metadata": {},
   "outputs": [
    {
     "data": {
      "text/html": [
       "<div>\n",
       "<style scoped>\n",
       "    .dataframe tbody tr th:only-of-type {\n",
       "        vertical-align: middle;\n",
       "    }\n",
       "\n",
       "    .dataframe tbody tr th {\n",
       "        vertical-align: top;\n",
       "    }\n",
       "\n",
       "    .dataframe thead th {\n",
       "        text-align: right;\n",
       "    }\n",
       "</style>\n",
       "<table border=\"1\" class=\"dataframe\">\n",
       "  <thead>\n",
       "    <tr style=\"text-align: right;\">\n",
       "      <th></th>\n",
       "      <th>Industry</th>\n",
       "      <th>2009</th>\n",
       "      <th>2010</th>\n",
       "      <th>2011</th>\n",
       "      <th>2012</th>\n",
       "      <th>2013</th>\n",
       "      <th>2014</th>\n",
       "      <th>2015</th>\n",
       "      <th>2016</th>\n",
       "      <th>2017</th>\n",
       "      <th>2018</th>\n",
       "    </tr>\n",
       "  </thead>\n",
       "  <tbody>\n",
       "    <tr>\n",
       "      <td>0</td>\n",
       "      <td>Agriculture, forestry and fishing</td>\n",
       "      <td>37700</td>\n",
       "      <td>38200</td>\n",
       "      <td>36100</td>\n",
       "      <td>36100</td>\n",
       "      <td>36800</td>\n",
       "      <td>42700</td>\n",
       "      <td>40700</td>\n",
       "      <td>43200</td>\n",
       "      <td>40200</td>\n",
       "      <td>41100</td>\n",
       "    </tr>\n",
       "    <tr>\n",
       "      <td>1</td>\n",
       "      <td>Production</td>\n",
       "      <td>156700</td>\n",
       "      <td>149800</td>\n",
       "      <td>158600</td>\n",
       "      <td>154400</td>\n",
       "      <td>164200</td>\n",
       "      <td>173300</td>\n",
       "      <td>172300</td>\n",
       "      <td>162500</td>\n",
       "      <td>165100</td>\n",
       "      <td>165700</td>\n",
       "    </tr>\n",
       "    <tr>\n",
       "      <td>2</td>\n",
       "      <td>Construction</td>\n",
       "      <td>96600</td>\n",
       "      <td>93200</td>\n",
       "      <td>90000</td>\n",
       "      <td>91300</td>\n",
       "      <td>89300</td>\n",
       "      <td>97000</td>\n",
       "      <td>92600</td>\n",
       "      <td>102700</td>\n",
       "      <td>90800</td>\n",
       "      <td>101800</td>\n",
       "    </tr>\n",
       "    <tr>\n",
       "      <td>3</td>\n",
       "      <td>Wholesale, retail, transport, hotels and food</td>\n",
       "      <td>345400</td>\n",
       "      <td>344500</td>\n",
       "      <td>343100</td>\n",
       "      <td>347300</td>\n",
       "      <td>345100</td>\n",
       "      <td>337300</td>\n",
       "      <td>357700</td>\n",
       "      <td>360200</td>\n",
       "      <td>333500</td>\n",
       "      <td>347600</td>\n",
       "    </tr>\n",
       "    <tr>\n",
       "      <td>4</td>\n",
       "      <td>Information and communication</td>\n",
       "      <td>27800</td>\n",
       "      <td>27900</td>\n",
       "      <td>26400</td>\n",
       "      <td>27200</td>\n",
       "      <td>26900</td>\n",
       "      <td>35700</td>\n",
       "      <td>24000</td>\n",
       "      <td>34400</td>\n",
       "      <td>58900</td>\n",
       "      <td>31500</td>\n",
       "    </tr>\n",
       "    <tr>\n",
       "      <td>5</td>\n",
       "      <td>Finance and insurance activities</td>\n",
       "      <td>33800</td>\n",
       "      <td>29800</td>\n",
       "      <td>33200</td>\n",
       "      <td>31100</td>\n",
       "      <td>32400</td>\n",
       "      <td>32400</td>\n",
       "      <td>30800</td>\n",
       "      <td>31000</td>\n",
       "      <td>32100</td>\n",
       "      <td>35500</td>\n",
       "    </tr>\n",
       "    <tr>\n",
       "      <td>6</td>\n",
       "      <td>Real estate activities</td>\n",
       "      <td>13500</td>\n",
       "      <td>14600</td>\n",
       "      <td>17600</td>\n",
       "      <td>18800</td>\n",
       "      <td>18000</td>\n",
       "      <td>22200</td>\n",
       "      <td>19100</td>\n",
       "      <td>22700</td>\n",
       "      <td>18200</td>\n",
       "      <td>25200</td>\n",
       "    </tr>\n",
       "    <tr>\n",
       "      <td>7</td>\n",
       "      <td>Professional, scientific and technical activit...</td>\n",
       "      <td>144800</td>\n",
       "      <td>145800</td>\n",
       "      <td>143600</td>\n",
       "      <td>137300</td>\n",
       "      <td>149900</td>\n",
       "      <td>152900</td>\n",
       "      <td>166200</td>\n",
       "      <td>161200</td>\n",
       "      <td>176400</td>\n",
       "      <td>187100</td>\n",
       "    </tr>\n",
       "    <tr>\n",
       "      <td>8</td>\n",
       "      <td>Public administration, defence, education and ...</td>\n",
       "      <td>415600</td>\n",
       "      <td>418600</td>\n",
       "      <td>425600</td>\n",
       "      <td>421000</td>\n",
       "      <td>427000</td>\n",
       "      <td>427600</td>\n",
       "      <td>423200</td>\n",
       "      <td>418500</td>\n",
       "      <td>424500</td>\n",
       "      <td>434900</td>\n",
       "    </tr>\n",
       "    <tr>\n",
       "      <td>9</td>\n",
       "      <td>Other service activities</td>\n",
       "      <td>64200</td>\n",
       "      <td>68000</td>\n",
       "      <td>72400</td>\n",
       "      <td>72800</td>\n",
       "      <td>75500</td>\n",
       "      <td>73300</td>\n",
       "      <td>77200</td>\n",
       "      <td>72400</td>\n",
       "      <td>83200</td>\n",
       "      <td>81800</td>\n",
       "    </tr>\n",
       "  </tbody>\n",
       "</table>\n",
       "</div>"
      ],
      "text/plain": [
       "                                            Industry    2009    2010    2011  \\\n",
       "0                 Agriculture, forestry and fishing    37700   38200   36100   \n",
       "1                                        Production   156700  149800  158600   \n",
       "2                                      Construction    96600   93200   90000   \n",
       "3     Wholesale, retail, transport, hotels and food   345400  344500  343100   \n",
       "4                     Information and communication    27800   27900   26400   \n",
       "5                  Finance and insurance activities    33800   29800   33200   \n",
       "6                            Real estate activities    13500   14600   17600   \n",
       "7  Professional, scientific and technical activit...  144800  145800  143600   \n",
       "8  Public administration, defence, education and ...  415600  418600  425600   \n",
       "9                          Other service activities    64200   68000   72400   \n",
       "\n",
       "     2012    2013    2014    2015    2016    2017    2018  \n",
       "0   36100   36800   42700   40700   43200   40200   41100  \n",
       "1  154400  164200  173300  172300  162500  165100  165700  \n",
       "2   91300   89300   97000   92600  102700   90800  101800  \n",
       "3  347300  345100  337300  357700  360200  333500  347600  \n",
       "4   27200   26900   35700   24000   34400   58900   31500  \n",
       "5   31100   32400   32400   30800   31000   32100   35500  \n",
       "6   18800   18000   22200   19100   22700   18200   25200  \n",
       "7  137300  149900  152900  166200  161200  176400  187100  \n",
       "8  421000  427000  427600  423200  418500  424500  434900  \n",
       "9   72800   75500   73300   77200   72400   83200   81800  "
      ]
     },
     "execution_count": 4,
     "metadata": {},
     "output_type": "execute_result"
    }
   ],
   "source": [
    "filename = [\n",
    "    'D:/Study/Fahad/export_2009.xlsx',\n",
    "    'D:/Study/Fahad/export_2010.xlsx',\n",
    "    'D:/Study/Fahad/export_2011.xlsx',\n",
    "    'D:/Study/Fahad/export_2012.xlsx',\n",
    "    'D:/Study/Fahad/export_2013.xlsx',\n",
    "    'D:/Study/Fahad/export_2014.xlsx',\n",
    "    'D:/Study/Fahad/export_2015.xlsx',\n",
    "    'D:/Study/Fahad/export_2016.xlsx',\n",
    "    'D:/Study/Fahad/export_2017.xlsx',\n",
    "    'D:/Study/Fahad/export_2018.xlsx',\n",
    "]\n",
    "years = [\"2009\", \"2010\", \"2011\", \"2012\", \"2013\", \"2014\", \"2015\", \"2016\", \"2017\", \"2018\"]\n",
    "for year, file in zip(years[1:], filename[1:]):\n",
    "    df_ = pd.read_excel(file, skiprows=2)\n",
    "    df_.columns = [\"empty\", \"Industry\", \"Uni\", \"West Wales\", \"East Wal\", year]\n",
    "    data[year] = df_[year]\n",
    "data"
   ]
  },
  {
   "cell_type": "markdown",
   "metadata": {},
   "source": [
    "## The final dataframe"
   ]
  },
  {
   "cell_type": "code",
   "execution_count": 5,
   "metadata": {},
   "outputs": [
    {
     "data": {
      "text/html": [
       "<div>\n",
       "<style scoped>\n",
       "    .dataframe tbody tr th:only-of-type {\n",
       "        vertical-align: middle;\n",
       "    }\n",
       "\n",
       "    .dataframe tbody tr th {\n",
       "        vertical-align: top;\n",
       "    }\n",
       "\n",
       "    .dataframe thead th {\n",
       "        text-align: right;\n",
       "    }\n",
       "</style>\n",
       "<table border=\"1\" class=\"dataframe\">\n",
       "  <thead>\n",
       "    <tr style=\"text-align: right;\">\n",
       "      <th></th>\n",
       "      <th>Industry</th>\n",
       "      <th>2009</th>\n",
       "      <th>2010</th>\n",
       "      <th>2011</th>\n",
       "      <th>2012</th>\n",
       "      <th>2013</th>\n",
       "      <th>2014</th>\n",
       "      <th>2015</th>\n",
       "      <th>2016</th>\n",
       "      <th>2017</th>\n",
       "      <th>2018</th>\n",
       "    </tr>\n",
       "  </thead>\n",
       "  <tbody>\n",
       "    <tr>\n",
       "      <td>0</td>\n",
       "      <td>Agriculture</td>\n",
       "      <td>37700</td>\n",
       "      <td>38200</td>\n",
       "      <td>36100</td>\n",
       "      <td>36100</td>\n",
       "      <td>36800</td>\n",
       "      <td>42700</td>\n",
       "      <td>40700</td>\n",
       "      <td>43200</td>\n",
       "      <td>40200</td>\n",
       "      <td>41100</td>\n",
       "    </tr>\n",
       "    <tr>\n",
       "      <td>1</td>\n",
       "      <td>Production</td>\n",
       "      <td>156700</td>\n",
       "      <td>149800</td>\n",
       "      <td>158600</td>\n",
       "      <td>154400</td>\n",
       "      <td>164200</td>\n",
       "      <td>173300</td>\n",
       "      <td>172300</td>\n",
       "      <td>162500</td>\n",
       "      <td>165100</td>\n",
       "      <td>165700</td>\n",
       "    </tr>\n",
       "    <tr>\n",
       "      <td>2</td>\n",
       "      <td>Construction</td>\n",
       "      <td>96600</td>\n",
       "      <td>93200</td>\n",
       "      <td>90000</td>\n",
       "      <td>91300</td>\n",
       "      <td>89300</td>\n",
       "      <td>97000</td>\n",
       "      <td>92600</td>\n",
       "      <td>102700</td>\n",
       "      <td>90800</td>\n",
       "      <td>101800</td>\n",
       "    </tr>\n",
       "    <tr>\n",
       "      <td>3</td>\n",
       "      <td>Retail</td>\n",
       "      <td>345400</td>\n",
       "      <td>344500</td>\n",
       "      <td>343100</td>\n",
       "      <td>347300</td>\n",
       "      <td>345100</td>\n",
       "      <td>337300</td>\n",
       "      <td>357700</td>\n",
       "      <td>360200</td>\n",
       "      <td>333500</td>\n",
       "      <td>347600</td>\n",
       "    </tr>\n",
       "    <tr>\n",
       "      <td>4</td>\n",
       "      <td>ICT</td>\n",
       "      <td>27800</td>\n",
       "      <td>27900</td>\n",
       "      <td>26400</td>\n",
       "      <td>27200</td>\n",
       "      <td>26900</td>\n",
       "      <td>35700</td>\n",
       "      <td>24000</td>\n",
       "      <td>34400</td>\n",
       "      <td>58900</td>\n",
       "      <td>31500</td>\n",
       "    </tr>\n",
       "    <tr>\n",
       "      <td>5</td>\n",
       "      <td>Finance</td>\n",
       "      <td>33800</td>\n",
       "      <td>29800</td>\n",
       "      <td>33200</td>\n",
       "      <td>31100</td>\n",
       "      <td>32400</td>\n",
       "      <td>32400</td>\n",
       "      <td>30800</td>\n",
       "      <td>31000</td>\n",
       "      <td>32100</td>\n",
       "      <td>35500</td>\n",
       "    </tr>\n",
       "    <tr>\n",
       "      <td>6</td>\n",
       "      <td>Real_Estate</td>\n",
       "      <td>13500</td>\n",
       "      <td>14600</td>\n",
       "      <td>17600</td>\n",
       "      <td>18800</td>\n",
       "      <td>18000</td>\n",
       "      <td>22200</td>\n",
       "      <td>19100</td>\n",
       "      <td>22700</td>\n",
       "      <td>18200</td>\n",
       "      <td>25200</td>\n",
       "    </tr>\n",
       "    <tr>\n",
       "      <td>7</td>\n",
       "      <td>Professional_Service</td>\n",
       "      <td>144800</td>\n",
       "      <td>145800</td>\n",
       "      <td>143600</td>\n",
       "      <td>137300</td>\n",
       "      <td>149900</td>\n",
       "      <td>152900</td>\n",
       "      <td>166200</td>\n",
       "      <td>161200</td>\n",
       "      <td>176400</td>\n",
       "      <td>187100</td>\n",
       "    </tr>\n",
       "    <tr>\n",
       "      <td>8</td>\n",
       "      <td>Public_Adminstration</td>\n",
       "      <td>415600</td>\n",
       "      <td>418600</td>\n",
       "      <td>425600</td>\n",
       "      <td>421000</td>\n",
       "      <td>427000</td>\n",
       "      <td>427600</td>\n",
       "      <td>423200</td>\n",
       "      <td>418500</td>\n",
       "      <td>424500</td>\n",
       "      <td>434900</td>\n",
       "    </tr>\n",
       "    <tr>\n",
       "      <td>9</td>\n",
       "      <td>Other_Service</td>\n",
       "      <td>64200</td>\n",
       "      <td>68000</td>\n",
       "      <td>72400</td>\n",
       "      <td>72800</td>\n",
       "      <td>75500</td>\n",
       "      <td>73300</td>\n",
       "      <td>77200</td>\n",
       "      <td>72400</td>\n",
       "      <td>83200</td>\n",
       "      <td>81800</td>\n",
       "    </tr>\n",
       "  </tbody>\n",
       "</table>\n",
       "</div>"
      ],
      "text/plain": [
       "                Industry    2009    2010    2011    2012    2013    2014  \\\n",
       "0            Agriculture   37700   38200   36100   36100   36800   42700   \n",
       "1             Production  156700  149800  158600  154400  164200  173300   \n",
       "2           Construction   96600   93200   90000   91300   89300   97000   \n",
       "3                 Retail  345400  344500  343100  347300  345100  337300   \n",
       "4                    ICT   27800   27900   26400   27200   26900   35700   \n",
       "5                Finance   33800   29800   33200   31100   32400   32400   \n",
       "6            Real_Estate   13500   14600   17600   18800   18000   22200   \n",
       "7   Professional_Service  144800  145800  143600  137300  149900  152900   \n",
       "8  Public_Adminstration   415600  418600  425600  421000  427000  427600   \n",
       "9          Other_Service   64200   68000   72400   72800   75500   73300   \n",
       "\n",
       "     2015    2016    2017    2018  \n",
       "0   40700   43200   40200   41100  \n",
       "1  172300  162500  165100  165700  \n",
       "2   92600  102700   90800  101800  \n",
       "3  357700  360200  333500  347600  \n",
       "4   24000   34400   58900   31500  \n",
       "5   30800   31000   32100   35500  \n",
       "6   19100   22700   18200   25200  \n",
       "7  166200  161200  176400  187100  \n",
       "8  423200  418500  424500  434900  \n",
       "9   77200   72400   83200   81800  "
      ]
     },
     "execution_count": 5,
     "metadata": {},
     "output_type": "execute_result"
    }
   ],
   "source": [
    "data[\"Industry\"] = [\n",
    "    \"Agriculture\",\n",
    "    \"Production\",\n",
    "    \"Construction\",\n",
    "    \"Retail\",\n",
    "    \"ICT\",\n",
    "    \"Finance\",\n",
    "    \"Real_Estate\",\n",
    "    \"Professional_Service\",\n",
    "    \"Public_Adminstration \",\n",
    "    \"Other_Service\",\n",
    "]\n",
    "data"
   ]
  },
  {
   "cell_type": "code",
   "execution_count": 6,
   "metadata": {},
   "outputs": [
    {
     "data": {
      "text/html": [
       "<div>\n",
       "<style scoped>\n",
       "    .dataframe tbody tr th:only-of-type {\n",
       "        vertical-align: middle;\n",
       "    }\n",
       "\n",
       "    .dataframe tbody tr th {\n",
       "        vertical-align: top;\n",
       "    }\n",
       "\n",
       "    .dataframe thead th {\n",
       "        text-align: right;\n",
       "    }\n",
       "</style>\n",
       "<table border=\"1\" class=\"dataframe\">\n",
       "  <thead>\n",
       "    <tr style=\"text-align: right;\">\n",
       "      <th></th>\n",
       "      <th>Industry</th>\n",
       "      <th>2009</th>\n",
       "      <th>2010</th>\n",
       "      <th>2011</th>\n",
       "      <th>2012</th>\n",
       "      <th>2013</th>\n",
       "      <th>2014</th>\n",
       "      <th>2015</th>\n",
       "      <th>2016</th>\n",
       "      <th>2017</th>\n",
       "      <th>2018</th>\n",
       "    </tr>\n",
       "  </thead>\n",
       "  <tbody>\n",
       "    <tr>\n",
       "      <td>0</td>\n",
       "      <td>False</td>\n",
       "      <td>False</td>\n",
       "      <td>False</td>\n",
       "      <td>False</td>\n",
       "      <td>False</td>\n",
       "      <td>False</td>\n",
       "      <td>False</td>\n",
       "      <td>False</td>\n",
       "      <td>False</td>\n",
       "      <td>False</td>\n",
       "      <td>False</td>\n",
       "    </tr>\n",
       "    <tr>\n",
       "      <td>1</td>\n",
       "      <td>False</td>\n",
       "      <td>False</td>\n",
       "      <td>False</td>\n",
       "      <td>False</td>\n",
       "      <td>False</td>\n",
       "      <td>False</td>\n",
       "      <td>False</td>\n",
       "      <td>False</td>\n",
       "      <td>False</td>\n",
       "      <td>False</td>\n",
       "      <td>False</td>\n",
       "    </tr>\n",
       "    <tr>\n",
       "      <td>2</td>\n",
       "      <td>False</td>\n",
       "      <td>False</td>\n",
       "      <td>False</td>\n",
       "      <td>False</td>\n",
       "      <td>False</td>\n",
       "      <td>False</td>\n",
       "      <td>False</td>\n",
       "      <td>False</td>\n",
       "      <td>False</td>\n",
       "      <td>False</td>\n",
       "      <td>False</td>\n",
       "    </tr>\n",
       "    <tr>\n",
       "      <td>3</td>\n",
       "      <td>False</td>\n",
       "      <td>False</td>\n",
       "      <td>False</td>\n",
       "      <td>False</td>\n",
       "      <td>False</td>\n",
       "      <td>False</td>\n",
       "      <td>False</td>\n",
       "      <td>False</td>\n",
       "      <td>False</td>\n",
       "      <td>False</td>\n",
       "      <td>False</td>\n",
       "    </tr>\n",
       "    <tr>\n",
       "      <td>4</td>\n",
       "      <td>False</td>\n",
       "      <td>False</td>\n",
       "      <td>False</td>\n",
       "      <td>False</td>\n",
       "      <td>False</td>\n",
       "      <td>False</td>\n",
       "      <td>False</td>\n",
       "      <td>False</td>\n",
       "      <td>False</td>\n",
       "      <td>False</td>\n",
       "      <td>False</td>\n",
       "    </tr>\n",
       "    <tr>\n",
       "      <td>5</td>\n",
       "      <td>False</td>\n",
       "      <td>False</td>\n",
       "      <td>False</td>\n",
       "      <td>False</td>\n",
       "      <td>False</td>\n",
       "      <td>False</td>\n",
       "      <td>False</td>\n",
       "      <td>False</td>\n",
       "      <td>False</td>\n",
       "      <td>False</td>\n",
       "      <td>False</td>\n",
       "    </tr>\n",
       "    <tr>\n",
       "      <td>6</td>\n",
       "      <td>False</td>\n",
       "      <td>False</td>\n",
       "      <td>False</td>\n",
       "      <td>False</td>\n",
       "      <td>False</td>\n",
       "      <td>False</td>\n",
       "      <td>False</td>\n",
       "      <td>False</td>\n",
       "      <td>False</td>\n",
       "      <td>False</td>\n",
       "      <td>False</td>\n",
       "    </tr>\n",
       "    <tr>\n",
       "      <td>7</td>\n",
       "      <td>False</td>\n",
       "      <td>False</td>\n",
       "      <td>False</td>\n",
       "      <td>False</td>\n",
       "      <td>False</td>\n",
       "      <td>False</td>\n",
       "      <td>False</td>\n",
       "      <td>False</td>\n",
       "      <td>False</td>\n",
       "      <td>False</td>\n",
       "      <td>False</td>\n",
       "    </tr>\n",
       "    <tr>\n",
       "      <td>8</td>\n",
       "      <td>False</td>\n",
       "      <td>False</td>\n",
       "      <td>False</td>\n",
       "      <td>False</td>\n",
       "      <td>False</td>\n",
       "      <td>False</td>\n",
       "      <td>False</td>\n",
       "      <td>False</td>\n",
       "      <td>False</td>\n",
       "      <td>False</td>\n",
       "      <td>False</td>\n",
       "    </tr>\n",
       "    <tr>\n",
       "      <td>9</td>\n",
       "      <td>False</td>\n",
       "      <td>False</td>\n",
       "      <td>False</td>\n",
       "      <td>False</td>\n",
       "      <td>False</td>\n",
       "      <td>False</td>\n",
       "      <td>False</td>\n",
       "      <td>False</td>\n",
       "      <td>False</td>\n",
       "      <td>False</td>\n",
       "      <td>False</td>\n",
       "    </tr>\n",
       "  </tbody>\n",
       "</table>\n",
       "</div>"
      ],
      "text/plain": [
       "   Industry   2009   2010   2011   2012   2013   2014   2015   2016   2017  \\\n",
       "0     False  False  False  False  False  False  False  False  False  False   \n",
       "1     False  False  False  False  False  False  False  False  False  False   \n",
       "2     False  False  False  False  False  False  False  False  False  False   \n",
       "3     False  False  False  False  False  False  False  False  False  False   \n",
       "4     False  False  False  False  False  False  False  False  False  False   \n",
       "5     False  False  False  False  False  False  False  False  False  False   \n",
       "6     False  False  False  False  False  False  False  False  False  False   \n",
       "7     False  False  False  False  False  False  False  False  False  False   \n",
       "8     False  False  False  False  False  False  False  False  False  False   \n",
       "9     False  False  False  False  False  False  False  False  False  False   \n",
       "\n",
       "    2018  \n",
       "0  False  \n",
       "1  False  \n",
       "2  False  \n",
       "3  False  \n",
       "4  False  \n",
       "5  False  \n",
       "6  False  \n",
       "7  False  \n",
       "8  False  \n",
       "9  False  "
      ]
     },
     "execution_count": 6,
     "metadata": {},
     "output_type": "execute_result"
    }
   ],
   "source": [
    "cdata = data.copy()\n",
    "cdata.isnull()"
   ]
  },
  {
   "cell_type": "markdown",
   "metadata": {},
   "source": [
    "#### No null values found in the dataset"
   ]
  },
  {
   "cell_type": "code",
   "execution_count": 7,
   "metadata": {},
   "outputs": [
    {
     "data": {
      "text/plain": [
       "(array([], dtype=int64), array([], dtype=int64))"
      ]
     },
     "execution_count": 7,
     "metadata": {},
     "output_type": "execute_result"
    }
   ],
   "source": [
    "z_score = np.abs(stats.zscore(cdata.drop('Industry', axis = 1)))\n",
    "np.where(z_score>3)"
   ]
  },
  {
   "cell_type": "markdown",
   "metadata": {},
   "source": [
    "#### No outliers found in the dataset"
   ]
  },
  {
   "cell_type": "markdown",
   "metadata": {},
   "source": [
    "# 2.Data analysis"
   ]
  },
  {
   "cell_type": "markdown",
   "metadata": {},
   "source": [
    "## 2.1 Which industry employed highest and lowest workers over the period?"
   ]
  },
  {
   "cell_type": "code",
   "execution_count": 8,
   "metadata": {},
   "outputs": [
    {
     "data": {
      "text/html": [
       "<div>\n",
       "<style scoped>\n",
       "    .dataframe tbody tr th:only-of-type {\n",
       "        vertical-align: middle;\n",
       "    }\n",
       "\n",
       "    .dataframe tbody tr th {\n",
       "        vertical-align: top;\n",
       "    }\n",
       "\n",
       "    .dataframe thead th {\n",
       "        text-align: right;\n",
       "    }\n",
       "</style>\n",
       "<table border=\"1\" class=\"dataframe\">\n",
       "  <thead>\n",
       "    <tr style=\"text-align: right;\">\n",
       "      <th></th>\n",
       "      <th>2009</th>\n",
       "      <th>2010</th>\n",
       "      <th>2011</th>\n",
       "      <th>2012</th>\n",
       "      <th>2013</th>\n",
       "      <th>2014</th>\n",
       "      <th>2015</th>\n",
       "      <th>2016</th>\n",
       "      <th>2017</th>\n",
       "      <th>2018</th>\n",
       "    </tr>\n",
       "    <tr>\n",
       "      <th>Industry</th>\n",
       "      <th></th>\n",
       "      <th></th>\n",
       "      <th></th>\n",
       "      <th></th>\n",
       "      <th></th>\n",
       "      <th></th>\n",
       "      <th></th>\n",
       "      <th></th>\n",
       "      <th></th>\n",
       "      <th></th>\n",
       "    </tr>\n",
       "  </thead>\n",
       "  <tbody>\n",
       "    <tr>\n",
       "      <td>Agriculture</td>\n",
       "      <td>37700</td>\n",
       "      <td>38200</td>\n",
       "      <td>36100</td>\n",
       "      <td>36100</td>\n",
       "      <td>36800</td>\n",
       "      <td>42700</td>\n",
       "      <td>40700</td>\n",
       "      <td>43200</td>\n",
       "      <td>40200</td>\n",
       "      <td>41100</td>\n",
       "    </tr>\n",
       "    <tr>\n",
       "      <td>Production</td>\n",
       "      <td>156700</td>\n",
       "      <td>149800</td>\n",
       "      <td>158600</td>\n",
       "      <td>154400</td>\n",
       "      <td>164200</td>\n",
       "      <td>173300</td>\n",
       "      <td>172300</td>\n",
       "      <td>162500</td>\n",
       "      <td>165100</td>\n",
       "      <td>165700</td>\n",
       "    </tr>\n",
       "    <tr>\n",
       "      <td>Construction</td>\n",
       "      <td>96600</td>\n",
       "      <td>93200</td>\n",
       "      <td>90000</td>\n",
       "      <td>91300</td>\n",
       "      <td>89300</td>\n",
       "      <td>97000</td>\n",
       "      <td>92600</td>\n",
       "      <td>102700</td>\n",
       "      <td>90800</td>\n",
       "      <td>101800</td>\n",
       "    </tr>\n",
       "    <tr>\n",
       "      <td>Retail</td>\n",
       "      <td>345400</td>\n",
       "      <td>344500</td>\n",
       "      <td>343100</td>\n",
       "      <td>347300</td>\n",
       "      <td>345100</td>\n",
       "      <td>337300</td>\n",
       "      <td>357700</td>\n",
       "      <td>360200</td>\n",
       "      <td>333500</td>\n",
       "      <td>347600</td>\n",
       "    </tr>\n",
       "    <tr>\n",
       "      <td>ICT</td>\n",
       "      <td>27800</td>\n",
       "      <td>27900</td>\n",
       "      <td>26400</td>\n",
       "      <td>27200</td>\n",
       "      <td>26900</td>\n",
       "      <td>35700</td>\n",
       "      <td>24000</td>\n",
       "      <td>34400</td>\n",
       "      <td>58900</td>\n",
       "      <td>31500</td>\n",
       "    </tr>\n",
       "    <tr>\n",
       "      <td>Finance</td>\n",
       "      <td>33800</td>\n",
       "      <td>29800</td>\n",
       "      <td>33200</td>\n",
       "      <td>31100</td>\n",
       "      <td>32400</td>\n",
       "      <td>32400</td>\n",
       "      <td>30800</td>\n",
       "      <td>31000</td>\n",
       "      <td>32100</td>\n",
       "      <td>35500</td>\n",
       "    </tr>\n",
       "    <tr>\n",
       "      <td>Real_Estate</td>\n",
       "      <td>13500</td>\n",
       "      <td>14600</td>\n",
       "      <td>17600</td>\n",
       "      <td>18800</td>\n",
       "      <td>18000</td>\n",
       "      <td>22200</td>\n",
       "      <td>19100</td>\n",
       "      <td>22700</td>\n",
       "      <td>18200</td>\n",
       "      <td>25200</td>\n",
       "    </tr>\n",
       "    <tr>\n",
       "      <td>Professional_Service</td>\n",
       "      <td>144800</td>\n",
       "      <td>145800</td>\n",
       "      <td>143600</td>\n",
       "      <td>137300</td>\n",
       "      <td>149900</td>\n",
       "      <td>152900</td>\n",
       "      <td>166200</td>\n",
       "      <td>161200</td>\n",
       "      <td>176400</td>\n",
       "      <td>187100</td>\n",
       "    </tr>\n",
       "    <tr>\n",
       "      <td>Public_Adminstration</td>\n",
       "      <td>415600</td>\n",
       "      <td>418600</td>\n",
       "      <td>425600</td>\n",
       "      <td>421000</td>\n",
       "      <td>427000</td>\n",
       "      <td>427600</td>\n",
       "      <td>423200</td>\n",
       "      <td>418500</td>\n",
       "      <td>424500</td>\n",
       "      <td>434900</td>\n",
       "    </tr>\n",
       "    <tr>\n",
       "      <td>Other_Service</td>\n",
       "      <td>64200</td>\n",
       "      <td>68000</td>\n",
       "      <td>72400</td>\n",
       "      <td>72800</td>\n",
       "      <td>75500</td>\n",
       "      <td>73300</td>\n",
       "      <td>77200</td>\n",
       "      <td>72400</td>\n",
       "      <td>83200</td>\n",
       "      <td>81800</td>\n",
       "    </tr>\n",
       "  </tbody>\n",
       "</table>\n",
       "</div>"
      ],
      "text/plain": [
       "                         2009    2010    2011    2012    2013    2014    2015  \\\n",
       "Industry                                                                        \n",
       "Agriculture             37700   38200   36100   36100   36800   42700   40700   \n",
       "Production             156700  149800  158600  154400  164200  173300  172300   \n",
       "Construction            96600   93200   90000   91300   89300   97000   92600   \n",
       "Retail                 345400  344500  343100  347300  345100  337300  357700   \n",
       "ICT                     27800   27900   26400   27200   26900   35700   24000   \n",
       "Finance                 33800   29800   33200   31100   32400   32400   30800   \n",
       "Real_Estate             13500   14600   17600   18800   18000   22200   19100   \n",
       "Professional_Service   144800  145800  143600  137300  149900  152900  166200   \n",
       "Public_Adminstration   415600  418600  425600  421000  427000  427600  423200   \n",
       "Other_Service           64200   68000   72400   72800   75500   73300   77200   \n",
       "\n",
       "                         2016    2017    2018  \n",
       "Industry                                       \n",
       "Agriculture             43200   40200   41100  \n",
       "Production             162500  165100  165700  \n",
       "Construction           102700   90800  101800  \n",
       "Retail                 360200  333500  347600  \n",
       "ICT                     34400   58900   31500  \n",
       "Finance                 31000   32100   35500  \n",
       "Real_Estate             22700   18200   25200  \n",
       "Professional_Service   161200  176400  187100  \n",
       "Public_Adminstration   418500  424500  434900  \n",
       "Other_Service           72400   83200   81800  "
      ]
     },
     "execution_count": 8,
     "metadata": {},
     "output_type": "execute_result"
    }
   ],
   "source": [
    "cdata = data.copy()\n",
    "cdata.set_index(\"Industry\")"
   ]
  },
  {
   "cell_type": "code",
   "execution_count": 9,
   "metadata": {},
   "outputs": [],
   "source": [
    "employer = []\n",
    "for column in cdata[\"Industry\"][:]:\n",
    "    emp = float(cdata.loc[cdata[\"Industry\"] == column].sum(axis=1))\n",
    "    employer.append(emp)"
   ]
  },
  {
   "cell_type": "code",
   "execution_count": 10,
   "metadata": {},
   "outputs": [
    {
     "data": {
      "text/html": [
       "<div>\n",
       "<style scoped>\n",
       "    .dataframe tbody tr th:only-of-type {\n",
       "        vertical-align: middle;\n",
       "    }\n",
       "\n",
       "    .dataframe tbody tr th {\n",
       "        vertical-align: top;\n",
       "    }\n",
       "\n",
       "    .dataframe thead th {\n",
       "        text-align: right;\n",
       "    }\n",
       "</style>\n",
       "<table border=\"1\" class=\"dataframe\">\n",
       "  <thead>\n",
       "    <tr style=\"text-align: right;\">\n",
       "      <th></th>\n",
       "      <th>Industry</th>\n",
       "      <th>2009</th>\n",
       "      <th>2010</th>\n",
       "      <th>2011</th>\n",
       "      <th>2012</th>\n",
       "      <th>2013</th>\n",
       "      <th>2014</th>\n",
       "      <th>2015</th>\n",
       "      <th>2016</th>\n",
       "      <th>2017</th>\n",
       "      <th>2018</th>\n",
       "      <th>employer</th>\n",
       "    </tr>\n",
       "  </thead>\n",
       "  <tbody>\n",
       "    <tr>\n",
       "      <td>0</td>\n",
       "      <td>Agriculture</td>\n",
       "      <td>37700</td>\n",
       "      <td>38200</td>\n",
       "      <td>36100</td>\n",
       "      <td>36100</td>\n",
       "      <td>36800</td>\n",
       "      <td>42700</td>\n",
       "      <td>40700</td>\n",
       "      <td>43200</td>\n",
       "      <td>40200</td>\n",
       "      <td>41100</td>\n",
       "      <td>392800.0</td>\n",
       "    </tr>\n",
       "    <tr>\n",
       "      <td>1</td>\n",
       "      <td>Production</td>\n",
       "      <td>156700</td>\n",
       "      <td>149800</td>\n",
       "      <td>158600</td>\n",
       "      <td>154400</td>\n",
       "      <td>164200</td>\n",
       "      <td>173300</td>\n",
       "      <td>172300</td>\n",
       "      <td>162500</td>\n",
       "      <td>165100</td>\n",
       "      <td>165700</td>\n",
       "      <td>1622600.0</td>\n",
       "    </tr>\n",
       "    <tr>\n",
       "      <td>2</td>\n",
       "      <td>Construction</td>\n",
       "      <td>96600</td>\n",
       "      <td>93200</td>\n",
       "      <td>90000</td>\n",
       "      <td>91300</td>\n",
       "      <td>89300</td>\n",
       "      <td>97000</td>\n",
       "      <td>92600</td>\n",
       "      <td>102700</td>\n",
       "      <td>90800</td>\n",
       "      <td>101800</td>\n",
       "      <td>945300.0</td>\n",
       "    </tr>\n",
       "    <tr>\n",
       "      <td>3</td>\n",
       "      <td>Retail</td>\n",
       "      <td>345400</td>\n",
       "      <td>344500</td>\n",
       "      <td>343100</td>\n",
       "      <td>347300</td>\n",
       "      <td>345100</td>\n",
       "      <td>337300</td>\n",
       "      <td>357700</td>\n",
       "      <td>360200</td>\n",
       "      <td>333500</td>\n",
       "      <td>347600</td>\n",
       "      <td>3461700.0</td>\n",
       "    </tr>\n",
       "    <tr>\n",
       "      <td>4</td>\n",
       "      <td>ICT</td>\n",
       "      <td>27800</td>\n",
       "      <td>27900</td>\n",
       "      <td>26400</td>\n",
       "      <td>27200</td>\n",
       "      <td>26900</td>\n",
       "      <td>35700</td>\n",
       "      <td>24000</td>\n",
       "      <td>34400</td>\n",
       "      <td>58900</td>\n",
       "      <td>31500</td>\n",
       "      <td>320700.0</td>\n",
       "    </tr>\n",
       "    <tr>\n",
       "      <td>5</td>\n",
       "      <td>Finance</td>\n",
       "      <td>33800</td>\n",
       "      <td>29800</td>\n",
       "      <td>33200</td>\n",
       "      <td>31100</td>\n",
       "      <td>32400</td>\n",
       "      <td>32400</td>\n",
       "      <td>30800</td>\n",
       "      <td>31000</td>\n",
       "      <td>32100</td>\n",
       "      <td>35500</td>\n",
       "      <td>322100.0</td>\n",
       "    </tr>\n",
       "    <tr>\n",
       "      <td>6</td>\n",
       "      <td>Real_Estate</td>\n",
       "      <td>13500</td>\n",
       "      <td>14600</td>\n",
       "      <td>17600</td>\n",
       "      <td>18800</td>\n",
       "      <td>18000</td>\n",
       "      <td>22200</td>\n",
       "      <td>19100</td>\n",
       "      <td>22700</td>\n",
       "      <td>18200</td>\n",
       "      <td>25200</td>\n",
       "      <td>189900.0</td>\n",
       "    </tr>\n",
       "    <tr>\n",
       "      <td>7</td>\n",
       "      <td>Professional_Service</td>\n",
       "      <td>144800</td>\n",
       "      <td>145800</td>\n",
       "      <td>143600</td>\n",
       "      <td>137300</td>\n",
       "      <td>149900</td>\n",
       "      <td>152900</td>\n",
       "      <td>166200</td>\n",
       "      <td>161200</td>\n",
       "      <td>176400</td>\n",
       "      <td>187100</td>\n",
       "      <td>1565200.0</td>\n",
       "    </tr>\n",
       "    <tr>\n",
       "      <td>8</td>\n",
       "      <td>Public_Adminstration</td>\n",
       "      <td>415600</td>\n",
       "      <td>418600</td>\n",
       "      <td>425600</td>\n",
       "      <td>421000</td>\n",
       "      <td>427000</td>\n",
       "      <td>427600</td>\n",
       "      <td>423200</td>\n",
       "      <td>418500</td>\n",
       "      <td>424500</td>\n",
       "      <td>434900</td>\n",
       "      <td>4236500.0</td>\n",
       "    </tr>\n",
       "    <tr>\n",
       "      <td>9</td>\n",
       "      <td>Other_Service</td>\n",
       "      <td>64200</td>\n",
       "      <td>68000</td>\n",
       "      <td>72400</td>\n",
       "      <td>72800</td>\n",
       "      <td>75500</td>\n",
       "      <td>73300</td>\n",
       "      <td>77200</td>\n",
       "      <td>72400</td>\n",
       "      <td>83200</td>\n",
       "      <td>81800</td>\n",
       "      <td>740800.0</td>\n",
       "    </tr>\n",
       "  </tbody>\n",
       "</table>\n",
       "</div>"
      ],
      "text/plain": [
       "                Industry    2009    2010    2011    2012    2013    2014  \\\n",
       "0            Agriculture   37700   38200   36100   36100   36800   42700   \n",
       "1             Production  156700  149800  158600  154400  164200  173300   \n",
       "2           Construction   96600   93200   90000   91300   89300   97000   \n",
       "3                 Retail  345400  344500  343100  347300  345100  337300   \n",
       "4                    ICT   27800   27900   26400   27200   26900   35700   \n",
       "5                Finance   33800   29800   33200   31100   32400   32400   \n",
       "6            Real_Estate   13500   14600   17600   18800   18000   22200   \n",
       "7   Professional_Service  144800  145800  143600  137300  149900  152900   \n",
       "8  Public_Adminstration   415600  418600  425600  421000  427000  427600   \n",
       "9          Other_Service   64200   68000   72400   72800   75500   73300   \n",
       "\n",
       "     2015    2016    2017    2018   employer  \n",
       "0   40700   43200   40200   41100   392800.0  \n",
       "1  172300  162500  165100  165700  1622600.0  \n",
       "2   92600  102700   90800  101800   945300.0  \n",
       "3  357700  360200  333500  347600  3461700.0  \n",
       "4   24000   34400   58900   31500   320700.0  \n",
       "5   30800   31000   32100   35500   322100.0  \n",
       "6   19100   22700   18200   25200   189900.0  \n",
       "7  166200  161200  176400  187100  1565200.0  \n",
       "8  423200  418500  424500  434900  4236500.0  \n",
       "9   77200   72400   83200   81800   740800.0  "
      ]
     },
     "execution_count": 10,
     "metadata": {},
     "output_type": "execute_result"
    }
   ],
   "source": [
    "cdata[\"employer\"] = employer\n",
    "cdata"
   ]
  },
  {
   "cell_type": "code",
   "execution_count": 11,
   "metadata": {},
   "outputs": [
    {
     "data": {
      "image/png": "[encoded data removed]",
      "text/plain": [
       "<Figure size 432x288 with 1 Axes>"
      ]
     },
     "metadata": {
      "needs_background": "light"
     },
     "output_type": "display_data"
    }
   ],
   "source": [
    "plt.bar(cdata['Industry'], cdata[\"employer\"], color = \"darkgreen\")\n",
    "plt.tick_params(axis = 'x', rotation = 90)\n",
    "plt.title('Overall employee over the years')\n",
    "plt.show()"
   ]
  },
  {
   "cell_type": "markdown",
   "metadata": {},
   "source": [
    "#### Ans: Public Adminstration employed highest worker and Real Estate employed lowest worker over the period."
   ]
  },
  {
   "cell_type": "markdown",
   "metadata": {},
   "source": [
    "# 2.2 Which industry has the highest and lowest overall growth over the period?"
   ]
  },
  {
   "cell_type": "code",
   "execution_count": 12,
   "metadata": {},
   "outputs": [
    {
     "data": {
      "text/html": [
       "<div>\n",
       "<style scoped>\n",
       "    .dataframe tbody tr th:only-of-type {\n",
       "        vertical-align: middle;\n",
       "    }\n",
       "\n",
       "    .dataframe tbody tr th {\n",
       "        vertical-align: top;\n",
       "    }\n",
       "\n",
       "    .dataframe thead th {\n",
       "        text-align: right;\n",
       "    }\n",
       "</style>\n",
       "<table border=\"1\" class=\"dataframe\">\n",
       "  <thead>\n",
       "    <tr style=\"text-align: right;\">\n",
       "      <th></th>\n",
       "      <th>Industry</th>\n",
       "      <th>2009</th>\n",
       "      <th>2010</th>\n",
       "      <th>2011</th>\n",
       "      <th>2012</th>\n",
       "      <th>2013</th>\n",
       "      <th>2014</th>\n",
       "      <th>2015</th>\n",
       "      <th>2016</th>\n",
       "      <th>2017</th>\n",
       "      <th>2018</th>\n",
       "    </tr>\n",
       "  </thead>\n",
       "  <tbody>\n",
       "    <tr>\n",
       "      <td>0</td>\n",
       "      <td>Agriculture</td>\n",
       "      <td>NaN</td>\n",
       "      <td>0.013263</td>\n",
       "      <td>-0.054974</td>\n",
       "      <td>0.000000</td>\n",
       "      <td>0.019391</td>\n",
       "      <td>0.160326</td>\n",
       "      <td>-0.046838</td>\n",
       "      <td>0.061425</td>\n",
       "      <td>-0.069444</td>\n",
       "      <td>0.022388</td>\n",
       "    </tr>\n",
       "    <tr>\n",
       "      <td>1</td>\n",
       "      <td>Production</td>\n",
       "      <td>NaN</td>\n",
       "      <td>-0.044033</td>\n",
       "      <td>0.058745</td>\n",
       "      <td>-0.026482</td>\n",
       "      <td>0.063472</td>\n",
       "      <td>0.055420</td>\n",
       "      <td>-0.005770</td>\n",
       "      <td>-0.056878</td>\n",
       "      <td>0.016000</td>\n",
       "      <td>0.003634</td>\n",
       "    </tr>\n",
       "    <tr>\n",
       "      <td>2</td>\n",
       "      <td>Construction</td>\n",
       "      <td>NaN</td>\n",
       "      <td>-0.035197</td>\n",
       "      <td>-0.034335</td>\n",
       "      <td>0.014444</td>\n",
       "      <td>-0.021906</td>\n",
       "      <td>0.086226</td>\n",
       "      <td>-0.045361</td>\n",
       "      <td>0.109071</td>\n",
       "      <td>-0.115871</td>\n",
       "      <td>0.121145</td>\n",
       "    </tr>\n",
       "    <tr>\n",
       "      <td>3</td>\n",
       "      <td>Retail</td>\n",
       "      <td>NaN</td>\n",
       "      <td>-0.002606</td>\n",
       "      <td>-0.004064</td>\n",
       "      <td>0.012241</td>\n",
       "      <td>-0.006335</td>\n",
       "      <td>-0.022602</td>\n",
       "      <td>0.060480</td>\n",
       "      <td>0.006989</td>\n",
       "      <td>-0.074125</td>\n",
       "      <td>0.042279</td>\n",
       "    </tr>\n",
       "    <tr>\n",
       "      <td>4</td>\n",
       "      <td>ICT</td>\n",
       "      <td>NaN</td>\n",
       "      <td>0.003597</td>\n",
       "      <td>-0.053763</td>\n",
       "      <td>0.030303</td>\n",
       "      <td>-0.011029</td>\n",
       "      <td>0.327138</td>\n",
       "      <td>-0.327731</td>\n",
       "      <td>0.433333</td>\n",
       "      <td>0.712209</td>\n",
       "      <td>-0.465195</td>\n",
       "    </tr>\n",
       "    <tr>\n",
       "      <td>5</td>\n",
       "      <td>Finance</td>\n",
       "      <td>NaN</td>\n",
       "      <td>-0.118343</td>\n",
       "      <td>0.114094</td>\n",
       "      <td>-0.063253</td>\n",
       "      <td>0.041801</td>\n",
       "      <td>0.000000</td>\n",
       "      <td>-0.049383</td>\n",
       "      <td>0.006494</td>\n",
       "      <td>0.035484</td>\n",
       "      <td>0.105919</td>\n",
       "    </tr>\n",
       "    <tr>\n",
       "      <td>6</td>\n",
       "      <td>Real_Estate</td>\n",
       "      <td>NaN</td>\n",
       "      <td>0.081481</td>\n",
       "      <td>0.205479</td>\n",
       "      <td>0.068182</td>\n",
       "      <td>-0.042553</td>\n",
       "      <td>0.233333</td>\n",
       "      <td>-0.139640</td>\n",
       "      <td>0.188482</td>\n",
       "      <td>-0.198238</td>\n",
       "      <td>0.384615</td>\n",
       "    </tr>\n",
       "    <tr>\n",
       "      <td>7</td>\n",
       "      <td>Professional_Service</td>\n",
       "      <td>NaN</td>\n",
       "      <td>0.006906</td>\n",
       "      <td>-0.015089</td>\n",
       "      <td>-0.043872</td>\n",
       "      <td>0.091770</td>\n",
       "      <td>0.020013</td>\n",
       "      <td>0.086985</td>\n",
       "      <td>-0.030084</td>\n",
       "      <td>0.094293</td>\n",
       "      <td>0.060658</td>\n",
       "    </tr>\n",
       "    <tr>\n",
       "      <td>8</td>\n",
       "      <td>Public_Adminstration</td>\n",
       "      <td>NaN</td>\n",
       "      <td>0.007218</td>\n",
       "      <td>0.016722</td>\n",
       "      <td>-0.010808</td>\n",
       "      <td>0.014252</td>\n",
       "      <td>0.001405</td>\n",
       "      <td>-0.010290</td>\n",
       "      <td>-0.011106</td>\n",
       "      <td>0.014337</td>\n",
       "      <td>0.024499</td>\n",
       "    </tr>\n",
       "    <tr>\n",
       "      <td>9</td>\n",
       "      <td>Other_Service</td>\n",
       "      <td>NaN</td>\n",
       "      <td>0.059190</td>\n",
       "      <td>0.064706</td>\n",
       "      <td>0.005525</td>\n",
       "      <td>0.037088</td>\n",
       "      <td>-0.029139</td>\n",
       "      <td>0.053206</td>\n",
       "      <td>-0.062176</td>\n",
       "      <td>0.149171</td>\n",
       "      <td>-0.016827</td>\n",
       "    </tr>\n",
       "  </tbody>\n",
       "</table>\n",
       "</div>"
      ],
      "text/plain": [
       "                Industry  2009      2010      2011      2012      2013  \\\n",
       "0            Agriculture   NaN  0.013263 -0.054974  0.000000  0.019391   \n",
       "1             Production   NaN -0.044033  0.058745 -0.026482  0.063472   \n",
       "2           Construction   NaN -0.035197 -0.034335  0.014444 -0.021906   \n",
       "3                 Retail   NaN -0.002606 -0.004064  0.012241 -0.006335   \n",
       "4                    ICT   NaN  0.003597 -0.053763  0.030303 -0.011029   \n",
       "5                Finance   NaN -0.118343  0.114094 -0.063253  0.041801   \n",
       "6            Real_Estate   NaN  0.081481  0.205479  0.068182 -0.042553   \n",
       "7   Professional_Service   NaN  0.006906 -0.015089 -0.043872  0.091770   \n",
       "8  Public_Adminstration    NaN  0.007218  0.016722 -0.010808  0.014252   \n",
       "9          Other_Service   NaN  0.059190  0.064706  0.005525  0.037088   \n",
       "\n",
       "       2014      2015      2016      2017      2018  \n",
       "0  0.160326 -0.046838  0.061425 -0.069444  0.022388  \n",
       "1  0.055420 -0.005770 -0.056878  0.016000  0.003634  \n",
       "2  0.086226 -0.045361  0.109071 -0.115871  0.121145  \n",
       "3 -0.022602  0.060480  0.006989 -0.074125  0.042279  \n",
       "4  0.327138 -0.327731  0.433333  0.712209 -0.465195  \n",
       "5  0.000000 -0.049383  0.006494  0.035484  0.105919  \n",
       "6  0.233333 -0.139640  0.188482 -0.198238  0.384615  \n",
       "7  0.020013  0.086985 -0.030084  0.094293  0.060658  \n",
       "8  0.001405 -0.010290 -0.011106  0.014337  0.024499  \n",
       "9 -0.029139  0.053206 -0.062176  0.149171 -0.016827  "
      ]
     },
     "execution_count": 12,
     "metadata": {},
     "output_type": "execute_result"
    }
   ],
   "source": [
    "cdata = data.copy()\n",
    "cdata.set_index(\"Industry\", inplace=True)\n",
    "pct_chng = cdata.pct_change(axis=1)\n",
    "pct_chng.reset_index(inplace=True)\n",
    "pct_chng"
   ]
  },
  {
   "cell_type": "code",
   "execution_count": 13,
   "metadata": {},
   "outputs": [
    {
     "data": {
      "image/png": "[encoded data removed]",
      "text/plain": [
       "<Figure size 432x288 with 1 Axes>"
      ]
     },
     "metadata": {
      "needs_background": "light"
     },
     "output_type": "display_data"
    }
   ],
   "source": [
    "Sum = []\n",
    "for column in pct_chng[\"Industry\"][:]:\n",
    "    sm = float(pct_chng.loc[pct_chng[\"Industry\"] == column].sum(axis=1))\n",
    "    Sum.append(sm)\n",
    "pct_chng[\"Overall Growth\"] = Sum\n",
    "plt.bar(pct_chng[\"Industry\"], pct_chng[\"Overall Growth\"], align=\"center\", color = 'RED')\n",
    "plt.tick_params(axis = 'x', rotation = 90)\n",
    "plt.title('Overall Growth over the years')\n",
    "plt.show()"
   ]
  },
  {
   "cell_type": "markdown",
   "metadata": {},
   "source": [
    "#### Ans: Real estate has the highest growth and retail has the lowest growth over the period."
   ]
  },
  {
   "cell_type": "markdown",
   "metadata": {},
   "source": [
    "# 2.3 Which years are the best and worst performing year in relation to number of employment. (highest and lowest employment) "
   ]
  },
  {
   "cell_type": "code",
   "execution_count": 14,
   "metadata": {},
   "outputs": [],
   "source": [
    "cdata = data.copy()\n",
    "columns = cdata.columns\n",
    "columns = columns[1:]\n",
    "employment = [cdata[column].sum() for column in columns]"
   ]
  },
  {
   "cell_type": "code",
   "execution_count": 15,
   "metadata": {},
   "outputs": [
    {
     "data": {
      "image/png": "[encoded data removed]",
      "text/plain": [
       "<Figure size 432x288 with 1 Axes>"
      ]
     },
     "metadata": {
      "needs_background": "light"
     },
     "output_type": "display_data"
    }
   ],
   "source": [
    "employment, columns = zip(*sorted(zip(employment, columns)))\n",
    "dictionary = dict(zip(columns, employment))\n",
    "plt.bar(columns, employment, color = 'ORANGE')\n",
    "plt.tick_params(axis = 'x', rotation = 90)\n",
    "plt.ylim([1320000, 1470000])\n",
    "plt.title('Comparison of years')\n",
    "plt.show()"
   ]
  },
  {
   "cell_type": "markdown",
   "metadata": {},
   "source": [
    "#### ANS: 2010 is lowest and 2017 is highest performing year in terms of employment"
   ]
  },
  {
   "cell_type": "markdown",
   "metadata": {},
   "source": [
    "# 3.Visual Analysis"
   ]
  },
  {
   "cell_type": "markdown",
   "metadata": {
    "collapsed": true
   },
   "source": [
    "## Question: Create a dynamic scatter/bubble plot showing the change of workforce number over the period using Plotly express. "
   ]
  },
  {
   "cell_type": "code",
   "execution_count": 16,
   "metadata": {},
   "outputs": [
    {
     "name": "stdout",
     "output_type": "stream",
     "text": [
      "['2009', '2010', '2011', '2012', '2013', '2014', '2015', '2016', '2017', '2018']\n"
     ]
    }
   ],
   "source": [
    "cdata = data.copy()\n",
    "year = cdata.columns\n",
    "year = year[1:].tolist()\n",
    "print(year)"
   ]
  },
  {
   "cell_type": "code",
   "execution_count": 17,
   "metadata": {},
   "outputs": [],
   "source": [
    "ag = []\n",
    "years = []\n",
    "k = 0\n",
    "for i in range(len(year)):\n",
    "    for j in range(len(cdata[\"Industry\"])):\n",
    "        ag.append(cdata[\"Industry\"][k])\n",
    "        years.append(int(year[j]))\n",
    "    k += 1"
   ]
  },
  {
   "cell_type": "code",
   "execution_count": 18,
   "metadata": {},
   "outputs": [],
   "source": [
    "rlist = []\n",
    "# Iterate over each row\n",
    "for i in range((cdata.shape[0])):\n",
    "    row = list(cdata.iloc[i, 1:])\n",
    "    for j in range(len(row)):\n",
    "        rlist.append(row[j])\n"
   ]
  },
  {
   "cell_type": "code",
   "execution_count": 19,
   "metadata": {},
   "outputs": [],
   "source": [
    "# get the list of tuples from two lists.\n",
    "# and merge them by using zip().\n",
    "ltuples = list(zip(ag, years, rlist))\n",
    "\n",
    "# Assign data to tuples.\n",
    "ltuples\n",
    "\n",
    "\n",
    "# Converting lists of tuples into\n",
    "# pandas Dataframe.\n",
    "new_df = pd.DataFrame(ltuples, columns=[\"Industry\", \"Years\", \"Employment\"])\n"
   ]
  },
  {
   "cell_type": "code",
   "execution_count": 20,
   "metadata": {},
   "outputs": [
    {
     "data": {
      "application/vnd.plotly.v1+json": {
       "config": {
        "plotlyServerURL": "https://plot.ly"
       },
       "data": [
        {
         "hovertemplate": "<b>%{hovertext}</b><br><br>Industry=Agriculture<br>Years=%{x}<br>Employment=%{marker.size}<extra></extra>",
         "hovertext": [
          37700
         ],
         "ids": [
          "Agriculture"
         ],
         "legendgroup": "Agriculture",
         "marker": {
          "color": "#636efa",
          "size": [
           37700
          ],
          "sizemode": "area",
          "sizeref": 214.76543209876544,
          "symbol": "circle"
         },
         "mode": "markers",
         "name": "Agriculture",
         "showlegend": true,
         "type": "scatter",
         "x": [
          2009
         ],
         "xaxis": "x",
         "y": [
          37700
         ],
         "yaxis": "y"
        },
        {
         "hovertemplate": "<b>%{hovertext}</b><br><br>Industry=Production<br>Years=%{x}<br>Employment=%{marker.size}<extra></extra>",
         "hovertext": [
          156700
         ],
         "ids": [
          "Production"
         ],
         "legendgroup": "Production",
         "marker": {
          "color": "#EF553B",
          "size": [
           156700
          ],
          "sizemode": "area",
          "sizeref": 214.76543209876544,
          "symbol": "circle"
         },
         "mode": "markers",
         "name": "Production",
         "showlegend": true,
         "type": "scatter",
         "x": [
          2009
         ],
         "xaxis": "x",
         "y": [
          156700
         ],
         "yaxis": "y"
        },
        {
         "hovertemplate": "<b>%{hovertext}</b><br><br>Industry=Construction<br>Years=%{x}<br>Employment=%{marker.size}<extra></extra>",
         "hovertext": [
          96600
         ],
         "ids": [
          "Construction"
         ],
         "legendgroup": "Construction",
         "marker": {
          "color": "#00cc96",
          "size": [
           96600
          ],
          "sizemode": "area",
          "sizeref": 214.76543209876544,
          "symbol": "circle"
         },
         "mode": "markers",
         "name": "Construction",
         "showlegend": true,
         "type": "scatter",
         "x": [
          2009
         ],
         "xaxis": "x",
         "y": [
          96600
         ],
         "yaxis": "y"
        },
        {
         "hovertemplate": "<b>%{hovertext}</b><br><br>Industry=Retail<br>Years=%{x}<br>Employment=%{marker.size}<extra></extra>",
         "hovertext": [
          345400
         ],
         "ids": [
          "Retail"
         ],
         "legendgroup": "Retail",
         "marker": {
          "color": "#ab63fa",
          "size": [
           345400
          ],
          "sizemode": "area",
          "sizeref": 214.76543209876544,
          "symbol": "circle"
         },
         "mode": "markers",
         "name": "Retail",
         "showlegend": true,
         "type": "scatter",
         "x": [
          2009
         ],
         "xaxis": "x",
         "y": [
          345400
         ],
         "yaxis": "y"
        },
        {
         "hovertemplate": "<b>%{hovertext}</b><br><br>Industry=ICT<br>Years=%{x}<br>Employment=%{marker.size}<extra></extra>",
         "hovertext": [
          27800
         ],
         "ids": [
          "ICT"
         ],
         "legendgroup": "ICT",
         "marker": {
          "color": "#FFA15A",
          "size": [
           27800
          ],
          "sizemode": "area",
          "sizeref": 214.76543209876544,
          "symbol": "circle"
         },
         "mode": "markers",
         "name": "ICT",
         "showlegend": true,
         "type": "scatter",
         "x": [
          2009
         ],
         "xaxis": "x",
         "y": [
          27800
         ],
         "yaxis": "y"
        },
        {
         "hovertemplate": "<b>%{hovertext}</b><br><br>Industry=Finance<br>Years=%{x}<br>Employment=%{marker.size}<extra></extra>",
         "hovertext": [
          33800
         ],
         "ids": [
          "Finance"
         ],
         "legendgroup": "Finance",
         "marker": {
          "color": "#19d3f3",
          "size": [
           33800
          ],
          "sizemode": "area",
          "sizeref": 214.76543209876544,
          "symbol": "circle"
         },
         "mode": "markers",
         "name": "Finance",
         "showlegend": true,
         "type": "scatter",
         "x": [
          2009
         ],
         "xaxis": "x",
         "y": [
          33800
         ],
         "yaxis": "y"
        },
        {
         "hovertemplate": "<b>%{hovertext}</b><br><br>Industry=Real_Estate<br>Years=%{x}<br>Employment=%{marker.size}<extra></extra>",
         "hovertext": [
          13500
         ],
         "ids": [
          "Real_Estate"
         ],
         "legendgroup": "Real_Estate",
         "marker": {
          "color": "#FF6692",
          "size": [
           13500
          ],
          "sizemode": "area",
          "sizeref": 214.76543209876544,
          "symbol": "circle"
         },
         "mode": "markers",
         "name": "Real_Estate",
         "showlegend": true,
         "type": "scatter",
         "x": [
          2009
         ],
         "xaxis": "x",
         "y": [
          13500
         ],
         "yaxis": "y"
        },
        {
         "hovertemplate": "<b>%{hovertext}</b><br><br>Industry=Professional_Service<br>Years=%{x}<br>Employment=%{marker.size}<extra></extra>",
         "hovertext": [
          144800
         ],
         "ids": [
          "Professional_Service"
         ],
         "legendgroup": "Professional_Service",
         "marker": {
          "color": "#B6E880",
          "size": [
           144800
          ],
          "sizemode": "area",
          "sizeref": 214.76543209876544,
          "symbol": "circle"
         },
         "mode": "markers",
         "name": "Professional_Service",
         "showlegend": true,
         "type": "scatter",
         "x": [
          2009
         ],
         "xaxis": "x",
         "y": [
          144800
         ],
         "yaxis": "y"
        },
        {
         "hovertemplate": "<b>%{hovertext}</b><br><br>Industry=Public_Adminstration <br>Years=%{x}<br>Employment=%{marker.size}<extra></extra>",
         "hovertext": [
          415600
         ],
         "ids": [
          "Public_Adminstration "
         ],
         "legendgroup": "Public_Adminstration ",
         "marker": {
          "color": "#FF97FF",
          "size": [
           415600
          ],
          "sizemode": "area",
          "sizeref": 214.76543209876544,
          "symbol": "circle"
         },
         "mode": "markers",
         "name": "Public_Adminstration ",
         "showlegend": true,
         "type": "scatter",
         "x": [
          2009
         ],
         "xaxis": "x",
         "y": [
          415600
         ],
         "yaxis": "y"
        },
        {
         "hovertemplate": "<b>%{hovertext}</b><br><br>Industry=Other_Service<br>Years=%{x}<br>Employment=%{marker.size}<extra></extra>",
         "hovertext": [
          64200
         ],
         "ids": [
          "Other_Service"
         ],
         "legendgroup": "Other_Service",
         "marker": {
          "color": "#FECB52",
          "size": [
           64200
          ],
          "sizemode": "area",
          "sizeref": 214.76543209876544,
          "symbol": "circle"
         },
         "mode": "markers",
         "name": "Other_Service",
         "showlegend": true,
         "type": "scatter",
         "x": [
          2009
         ],
         "xaxis": "x",
         "y": [
          64200
         ],
         "yaxis": "y"
        }
       ],
       "frames": [
        {
         "data": [
          {
           "hovertemplate": "<b>%{hovertext}</b><br><br>Industry=Agriculture<br>Years=%{x}<br>Employment=%{marker.size}<extra></extra>",
           "hovertext": [
            37700
           ],
           "ids": [
            "Agriculture"
           ],
           "legendgroup": "Agriculture",
           "marker": {
            "color": "#636efa",
            "size": [
             37700
            ],
            "sizemode": "area",
            "sizeref": 214.76543209876544,
            "symbol": "circle"
           },
           "mode": "markers",
           "name": "Agriculture",
           "showlegend": true,
           "type": "scatter",
           "x": [
            2009
           ],
           "xaxis": "x",
           "y": [
            37700
           ],
           "yaxis": "y"
          },
          {
           "hovertemplate": "<b>%{hovertext}</b><br><br>Industry=Production<br>Years=%{x}<br>Employment=%{marker.size}<extra></extra>",
           "hovertext": [
            156700
           ],
           "ids": [
            "Production"
           ],
           "legendgroup": "Production",
           "marker": {
            "color": "#EF553B",
            "size": [
             156700
            ],
            "sizemode": "area",
            "sizeref": 214.76543209876544,
            "symbol": "circle"
           },
           "mode": "markers",
           "name": "Production",
           "showlegend": true,
           "type": "scatter",
           "x": [
            2009
           ],
           "xaxis": "x",
           "y": [
            156700
           ],
           "yaxis": "y"
          },
          {
           "hovertemplate": "<b>%{hovertext}</b><br><br>Industry=Construction<br>Years=%{x}<br>Employment=%{marker.size}<extra></extra>",
           "hovertext": [
            96600
           ],
           "ids": [
            "Construction"
           ],
           "legendgroup": "Construction",
           "marker": {
            "color": "#00cc96",
            "size": [
             96600
            ],
            "sizemode": "area",
            "sizeref": 214.76543209876544,
            "symbol": "circle"
           },
           "mode": "markers",
           "name": "Construction",
           "showlegend": true,
           "type": "scatter",
           "x": [
            2009
           ],
           "xaxis": "x",
           "y": [
            96600
           ],
           "yaxis": "y"
          },
          {
           "hovertemplate": "<b>%{hovertext}</b><br><br>Industry=Retail<br>Years=%{x}<br>Employment=%{marker.size}<extra></extra>",
           "hovertext": [
            345400
           ],
           "ids": [
            "Retail"
           ],
           "legendgroup": "Retail",
           "marker": {
            "color": "#ab63fa",
            "size": [
             345400
            ],
            "sizemode": "area",
            "sizeref": 214.76543209876544,
            "symbol": "circle"
           },
           "mode": "markers",
           "name": "Retail",
           "showlegend": true,
           "type": "scatter",
           "x": [
            2009
           ],
           "xaxis": "x",
           "y": [
            345400
           ],
           "yaxis": "y"
          },
          {
           "hovertemplate": "<b>%{hovertext}</b><br><br>Industry=ICT<br>Years=%{x}<br>Employment=%{marker.size}<extra></extra>",
           "hovertext": [
            27800
           ],
           "ids": [
            "ICT"
           ],
           "legendgroup": "ICT",
           "marker": {
            "color": "#FFA15A",
            "size": [
             27800
            ],
            "sizemode": "area",
            "sizeref": 214.76543209876544,
            "symbol": "circle"
           },
           "mode": "markers",
           "name": "ICT",
           "showlegend": true,
           "type": "scatter",
           "x": [
            2009
           ],
           "xaxis": "x",
           "y": [
            27800
           ],
           "yaxis": "y"
          },
          {
           "hovertemplate": "<b>%{hovertext}</b><br><br>Industry=Finance<br>Years=%{x}<br>Employment=%{marker.size}<extra></extra>",
           "hovertext": [
            33800
           ],
           "ids": [
            "Finance"
           ],
           "legendgroup": "Finance",
           "marker": {
            "color": "#19d3f3",
            "size": [
             33800
            ],
            "sizemode": "area",
            "sizeref": 214.76543209876544,
            "symbol": "circle"
           },
           "mode": "markers",
           "name": "Finance",
           "showlegend": true,
           "type": "scatter",
           "x": [
            2009
           ],
           "xaxis": "x",
           "y": [
            33800
           ],
           "yaxis": "y"
          },
          {
           "hovertemplate": "<b>%{hovertext}</b><br><br>Industry=Real_Estate<br>Years=%{x}<br>Employment=%{marker.size}<extra></extra>",
           "hovertext": [
            13500
           ],
           "ids": [
            "Real_Estate"
           ],
           "legendgroup": "Real_Estate",
           "marker": {
            "color": "#FF6692",
            "size": [
             13500
            ],
            "sizemode": "area",
            "sizeref": 214.76543209876544,
            "symbol": "circle"
           },
           "mode": "markers",
           "name": "Real_Estate",
           "showlegend": true,
           "type": "scatter",
           "x": [
            2009
           ],
           "xaxis": "x",
           "y": [
            13500
           ],
           "yaxis": "y"
          },
          {
           "hovertemplate": "<b>%{hovertext}</b><br><br>Industry=Professional_Service<br>Years=%{x}<br>Employment=%{marker.size}<extra></extra>",
           "hovertext": [
            144800
           ],
           "ids": [
            "Professional_Service"
           ],
           "legendgroup": "Professional_Service",
           "marker": {
            "color": "#B6E880",
            "size": [
             144800
            ],
            "sizemode": "area",
            "sizeref": 214.76543209876544,
            "symbol": "circle"
           },
           "mode": "markers",
           "name": "Professional_Service",
           "showlegend": true,
           "type": "scatter",
           "x": [
            2009
           ],
           "xaxis": "x",
           "y": [
            144800
           ],
           "yaxis": "y"
          },
          {
           "hovertemplate": "<b>%{hovertext}</b><br><br>Industry=Public_Adminstration <br>Years=%{x}<br>Employment=%{marker.size}<extra></extra>",
           "hovertext": [
            415600
           ],
           "ids": [
            "Public_Adminstration "
           ],
           "legendgroup": "Public_Adminstration ",
           "marker": {
            "color": "#FF97FF",
            "size": [
             415600
            ],
            "sizemode": "area",
            "sizeref": 214.76543209876544,
            "symbol": "circle"
           },
           "mode": "markers",
           "name": "Public_Adminstration ",
           "showlegend": true,
           "type": "scatter",
           "x": [
            2009
           ],
           "xaxis": "x",
           "y": [
            415600
           ],
           "yaxis": "y"
          },
          {
           "hovertemplate": "<b>%{hovertext}</b><br><br>Industry=Other_Service<br>Years=%{x}<br>Employment=%{marker.size}<extra></extra>",
           "hovertext": [
            64200
           ],
           "ids": [
            "Other_Service"
           ],
           "legendgroup": "Other_Service",
           "marker": {
            "color": "#FECB52",
            "size": [
             64200
            ],
            "sizemode": "area",
            "sizeref": 214.76543209876544,
            "symbol": "circle"
           },
           "mode": "markers",
           "name": "Other_Service",
           "showlegend": true,
           "type": "scatter",
           "x": [
            2009
           ],
           "xaxis": "x",
           "y": [
            64200
           ],
           "yaxis": "y"
          }
         ],
         "name": "2009"
        },
        {
         "data": [
          {
           "hovertemplate": "<b>%{hovertext}</b><br><br>Industry=Agriculture<br>Years=%{x}<br>Employment=%{marker.size}<extra></extra>",
           "hovertext": [
            38200
           ],
           "ids": [
            "Agriculture"
           ],
           "legendgroup": "Agriculture",
           "marker": {
            "color": "#636efa",
            "size": [
             38200
            ],
            "sizemode": "area",
            "sizeref": 214.76543209876544,
            "symbol": "circle"
           },
           "mode": "markers",
           "name": "Agriculture",
           "showlegend": true,
           "type": "scatter",
           "x": [
            2010
           ],
           "xaxis": "x",
           "y": [
            38200
           ],
           "yaxis": "y"
          },
          {
           "hovertemplate": "<b>%{hovertext}</b><br><br>Industry=Production<br>Years=%{x}<br>Employment=%{marker.size}<extra></extra>",
           "hovertext": [
            149800
           ],
           "ids": [
            "Production"
           ],
           "legendgroup": "Production",
           "marker": {
            "color": "#EF553B",
            "size": [
             149800
            ],
            "sizemode": "area",
            "sizeref": 214.76543209876544,
            "symbol": "circle"
           },
           "mode": "markers",
           "name": "Production",
           "showlegend": true,
           "type": "scatter",
           "x": [
            2010
           ],
           "xaxis": "x",
           "y": [
            149800
           ],
           "yaxis": "y"
          },
          {
           "hovertemplate": "<b>%{hovertext}</b><br><br>Industry=Construction<br>Years=%{x}<br>Employment=%{marker.size}<extra></extra>",
           "hovertext": [
            93200
           ],
           "ids": [
            "Construction"
           ],
           "legendgroup": "Construction",
           "marker": {
            "color": "#00cc96",
            "size": [
             93200
            ],
            "sizemode": "area",
            "sizeref": 214.76543209876544,
            "symbol": "circle"
           },
           "mode": "markers",
           "name": "Construction",
           "showlegend": true,
           "type": "scatter",
           "x": [
            2010
           ],
           "xaxis": "x",
           "y": [
            93200
           ],
           "yaxis": "y"
          },
          {
           "hovertemplate": "<b>%{hovertext}</b><br><br>Industry=Retail<br>Years=%{x}<br>Employment=%{marker.size}<extra></extra>",
           "hovertext": [
            344500
           ],
           "ids": [
            "Retail"
           ],
           "legendgroup": "Retail",
           "marker": {
            "color": "#ab63fa",
            "size": [
             344500
            ],
            "sizemode": "area",
            "sizeref": 214.76543209876544,
            "symbol": "circle"
           },
           "mode": "markers",
           "name": "Retail",
           "showlegend": true,
           "type": "scatter",
           "x": [
            2010
           ],
           "xaxis": "x",
           "y": [
            344500
           ],
           "yaxis": "y"
          },
          {
           "hovertemplate": "<b>%{hovertext}</b><br><br>Industry=ICT<br>Years=%{x}<br>Employment=%{marker.size}<extra></extra>",
           "hovertext": [
            27900
           ],
           "ids": [
            "ICT"
           ],
           "legendgroup": "ICT",
           "marker": {
            "color": "#FFA15A",
            "size": [
             27900
            ],
            "sizemode": "area",
            "sizeref": 214.76543209876544,
            "symbol": "circle"
           },
           "mode": "markers",
           "name": "ICT",
           "showlegend": true,
           "type": "scatter",
           "x": [
            2010
           ],
           "xaxis": "x",
           "y": [
            27900
           ],
           "yaxis": "y"
          },
          {
           "hovertemplate": "<b>%{hovertext}</b><br><br>Industry=Finance<br>Years=%{x}<br>Employment=%{marker.size}<extra></extra>",
           "hovertext": [
            29800
           ],
           "ids": [
            "Finance"
           ],
           "legendgroup": "Finance",
           "marker": {
            "color": "#19d3f3",
            "size": [
             29800
            ],
            "sizemode": "area",
            "sizeref": 214.76543209876544,
            "symbol": "circle"
           },
           "mode": "markers",
           "name": "Finance",
           "showlegend": true,
           "type": "scatter",
           "x": [
            2010
           ],
           "xaxis": "x",
           "y": [
            29800
           ],
           "yaxis": "y"
          },
          {
           "hovertemplate": "<b>%{hovertext}</b><br><br>Industry=Real_Estate<br>Years=%{x}<br>Employment=%{marker.size}<extra></extra>",
           "hovertext": [
            14600
           ],
           "ids": [
            "Real_Estate"
           ],
           "legendgroup": "Real_Estate",
           "marker": {
            "color": "#FF6692",
            "size": [
             14600
            ],
            "sizemode": "area",
            "sizeref": 214.76543209876544,
            "symbol": "circle"
           },
           "mode": "markers",
           "name": "Real_Estate",
           "showlegend": true,
           "type": "scatter",
           "x": [
            2010
           ],
           "xaxis": "x",
           "y": [
            14600
           ],
           "yaxis": "y"
          },
          {
           "hovertemplate": "<b>%{hovertext}</b><br><br>Industry=Professional_Service<br>Years=%{x}<br>Employment=%{marker.size}<extra></extra>",
           "hovertext": [
            145800
           ],
           "ids": [
            "Professional_Service"
           ],
           "legendgroup": "Professional_Service",
           "marker": {
            "color": "#B6E880",
            "size": [
             145800
            ],
            "sizemode": "area",
            "sizeref": 214.76543209876544,
            "symbol": "circle"
           },
           "mode": "markers",
           "name": "Professional_Service",
           "showlegend": true,
           "type": "scatter",
           "x": [
            2010
           ],
           "xaxis": "x",
           "y": [
            145800
           ],
           "yaxis": "y"
          },
          {
           "hovertemplate": "<b>%{hovertext}</b><br><br>Industry=Public_Adminstration <br>Years=%{x}<br>Employment=%{marker.size}<extra></extra>",
           "hovertext": [
            418600
           ],
           "ids": [
            "Public_Adminstration "
           ],
           "legendgroup": "Public_Adminstration ",
           "marker": {
            "color": "#FF97FF",
            "size": [
             418600
            ],
            "sizemode": "area",
            "sizeref": 214.76543209876544,
            "symbol": "circle"
           },
           "mode": "markers",
           "name": "Public_Adminstration ",
           "showlegend": true,
           "type": "scatter",
           "x": [
            2010
           ],
           "xaxis": "x",
           "y": [
            418600
           ],
           "yaxis": "y"
          },
          {
           "hovertemplate": "<b>%{hovertext}</b><br><br>Industry=Other_Service<br>Years=%{x}<br>Employment=%{marker.size}<extra></extra>",
           "hovertext": [
            68000
           ],
           "ids": [
            "Other_Service"
           ],
           "legendgroup": "Other_Service",
           "marker": {
            "color": "#FECB52",
            "size": [
             68000
            ],
            "sizemode": "area",
            "sizeref": 214.76543209876544,
            "symbol": "circle"
           },
           "mode": "markers",
           "name": "Other_Service",
           "showlegend": true,
           "type": "scatter",
           "x": [
            2010
           ],
           "xaxis": "x",
           "y": [
            68000
           ],
           "yaxis": "y"
          }
         ],
         "name": "2010"
        },
        {
         "data": [
          {
           "hovertemplate": "<b>%{hovertext}</b><br><br>Industry=Agriculture<br>Years=%{x}<br>Employment=%{marker.size}<extra></extra>",
           "hovertext": [
            36100
           ],
           "ids": [
            "Agriculture"
           ],
           "legendgroup": "Agriculture",
           "marker": {
            "color": "#636efa",
            "size": [
             36100
            ],
            "sizemode": "area",
            "sizeref": 214.76543209876544,
            "symbol": "circle"
           },
           "mode": "markers",
           "name": "Agriculture",
           "showlegend": true,
           "type": "scatter",
           "x": [
            2011
           ],
           "xaxis": "x",
           "y": [
            36100
           ],
           "yaxis": "y"
          },
          {
           "hovertemplate": "<b>%{hovertext}</b><br><br>Industry=Production<br>Years=%{x}<br>Employment=%{marker.size}<extra></extra>",
           "hovertext": [
            158600
           ],
           "ids": [
            "Production"
           ],
           "legendgroup": "Production",
           "marker": {
            "color": "#EF553B",
            "size": [
             158600
            ],
            "sizemode": "area",
            "sizeref": 214.76543209876544,
            "symbol": "circle"
           },
           "mode": "markers",
           "name": "Production",
           "showlegend": true,
           "type": "scatter",
           "x": [
            2011
           ],
           "xaxis": "x",
           "y": [
            158600
           ],
           "yaxis": "y"
          },
          {
           "hovertemplate": "<b>%{hovertext}</b><br><br>Industry=Construction<br>Years=%{x}<br>Employment=%{marker.size}<extra></extra>",
           "hovertext": [
            90000
           ],
           "ids": [
            "Construction"
           ],
           "legendgroup": "Construction",
           "marker": {
            "color": "#00cc96",
            "size": [
             90000
            ],
            "sizemode": "area",
            "sizeref": 214.76543209876544,
            "symbol": "circle"
           },
           "mode": "markers",
           "name": "Construction",
           "showlegend": true,
           "type": "scatter",
           "x": [
            2011
           ],
           "xaxis": "x",
           "y": [
            90000
           ],
           "yaxis": "y"
          },
          {
           "hovertemplate": "<b>%{hovertext}</b><br><br>Industry=Retail<br>Years=%{x}<br>Employment=%{marker.size}<extra></extra>",
           "hovertext": [
            343100
           ],
           "ids": [
            "Retail"
           ],
           "legendgroup": "Retail",
           "marker": {
            "color": "#ab63fa",
            "size": [
             343100
            ],
            "sizemode": "area",
            "sizeref": 214.76543209876544,
            "symbol": "circle"
           },
           "mode": "markers",
           "name": "Retail",
           "showlegend": true,
           "type": "scatter",
           "x": [
            2011
           ],
           "xaxis": "x",
           "y": [
            343100
           ],
           "yaxis": "y"
          },
          {
           "hovertemplate": "<b>%{hovertext}</b><br><br>Industry=ICT<br>Years=%{x}<br>Employment=%{marker.size}<extra></extra>",
           "hovertext": [
            26400
           ],
           "ids": [
            "ICT"
           ],
           "legendgroup": "ICT",
           "marker": {
            "color": "#FFA15A",
            "size": [
             26400
            ],
            "sizemode": "area",
            "sizeref": 214.76543209876544,
            "symbol": "circle"
           },
           "mode": "markers",
           "name": "ICT",
           "showlegend": true,
           "type": "scatter",
           "x": [
            2011
           ],
           "xaxis": "x",
           "y": [
            26400
           ],
           "yaxis": "y"
          },
          {
           "hovertemplate": "<b>%{hovertext}</b><br><br>Industry=Finance<br>Years=%{x}<br>Employment=%{marker.size}<extra></extra>",
           "hovertext": [
            33200
           ],
           "ids": [
            "Finance"
           ],
           "legendgroup": "Finance",
           "marker": {
            "color": "#19d3f3",
            "size": [
             33200
            ],
            "sizemode": "area",
            "sizeref": 214.76543209876544,
            "symbol": "circle"
           },
           "mode": "markers",
           "name": "Finance",
           "showlegend": true,
           "type": "scatter",
           "x": [
            2011
           ],
           "xaxis": "x",
           "y": [
            33200
           ],
           "yaxis": "y"
          },
          {
           "hovertemplate": "<b>%{hovertext}</b><br><br>Industry=Real_Estate<br>Years=%{x}<br>Employment=%{marker.size}<extra></extra>",
           "hovertext": [
            17600
           ],
           "ids": [
            "Real_Estate"
           ],
           "legendgroup": "Real_Estate",
           "marker": {
            "color": "#FF6692",
            "size": [
             17600
            ],
            "sizemode": "area",
            "sizeref": 214.76543209876544,
            "symbol": "circle"
           },
           "mode": "markers",
           "name": "Real_Estate",
           "showlegend": true,
           "type": "scatter",
           "x": [
            2011
           ],
           "xaxis": "x",
           "y": [
            17600
           ],
           "yaxis": "y"
          },
          {
           "hovertemplate": "<b>%{hovertext}</b><br><br>Industry=Professional_Service<br>Years=%{x}<br>Employment=%{marker.size}<extra></extra>",
           "hovertext": [
            143600
           ],
           "ids": [
            "Professional_Service"
           ],
           "legendgroup": "Professional_Service",
           "marker": {
            "color": "#B6E880",
            "size": [
             143600
            ],
            "sizemode": "area",
            "sizeref": 214.76543209876544,
            "symbol": "circle"
           },
           "mode": "markers",
           "name": "Professional_Service",
           "showlegend": true,
           "type": "scatter",
           "x": [
            2011
           ],
           "xaxis": "x",
           "y": [
            143600
           ],
           "yaxis": "y"
          },
          {
           "hovertemplate": "<b>%{hovertext}</b><br><br>Industry=Public_Adminstration <br>Years=%{x}<br>Employment=%{marker.size}<extra></extra>",
           "hovertext": [
            425600
           ],
           "ids": [
            "Public_Adminstration "
           ],
           "legendgroup": "Public_Adminstration ",
           "marker": {
            "color": "#FF97FF",
            "size": [
             425600
            ],
            "sizemode": "area",
            "sizeref": 214.76543209876544,
            "symbol": "circle"
           },
           "mode": "markers",
           "name": "Public_Adminstration ",
           "showlegend": true,
           "type": "scatter",
           "x": [
            2011
           ],
           "xaxis": "x",
           "y": [
            425600
           ],
           "yaxis": "y"
          },
          {
           "hovertemplate": "<b>%{hovertext}</b><br><br>Industry=Other_Service<br>Years=%{x}<br>Employment=%{marker.size}<extra></extra>",
           "hovertext": [
            72400
           ],
           "ids": [
            "Other_Service"
           ],
           "legendgroup": "Other_Service",
           "marker": {
            "color": "#FECB52",
            "size": [
             72400
            ],
            "sizemode": "area",
            "sizeref": 214.76543209876544,
            "symbol": "circle"
           },
           "mode": "markers",
           "name": "Other_Service",
           "showlegend": true,
           "type": "scatter",
           "x": [
            2011
           ],
           "xaxis": "x",
           "y": [
            72400
           ],
           "yaxis": "y"
          }
         ],
         "name": "2011"
        },
        {
         "data": [
          {
           "hovertemplate": "<b>%{hovertext}</b><br><br>Industry=Agriculture<br>Years=%{x}<br>Employment=%{marker.size}<extra></extra>",
           "hovertext": [
            36100
           ],
           "ids": [
            "Agriculture"
           ],
           "legendgroup": "Agriculture",
           "marker": {
            "color": "#636efa",
            "size": [
             36100
            ],
            "sizemode": "area",
            "sizeref": 214.76543209876544,
            "symbol": "circle"
           },
           "mode": "markers",
           "name": "Agriculture",
           "showlegend": true,
           "type": "scatter",
           "x": [
            2012
           ],
           "xaxis": "x",
           "y": [
            36100
           ],
           "yaxis": "y"
          },
          {
           "hovertemplate": "<b>%{hovertext}</b><br><br>Industry=Production<br>Years=%{x}<br>Employment=%{marker.size}<extra></extra>",
           "hovertext": [
            154400
           ],
           "ids": [
            "Production"
           ],
           "legendgroup": "Production",
           "marker": {
            "color": "#EF553B",
            "size": [
             154400
            ],
            "sizemode": "area",
            "sizeref": 214.76543209876544,
            "symbol": "circle"
           },
           "mode": "markers",
           "name": "Production",
           "showlegend": true,
           "type": "scatter",
           "x": [
            2012
           ],
           "xaxis": "x",
           "y": [
            154400
           ],
           "yaxis": "y"
          },
          {
           "hovertemplate": "<b>%{hovertext}</b><br><br>Industry=Construction<br>Years=%{x}<br>Employment=%{marker.size}<extra></extra>",
           "hovertext": [
            91300
           ],
           "ids": [
            "Construction"
           ],
           "legendgroup": "Construction",
           "marker": {
            "color": "#00cc96",
            "size": [
             91300
            ],
            "sizemode": "area",
            "sizeref": 214.76543209876544,
            "symbol": "circle"
           },
           "mode": "markers",
           "name": "Construction",
           "showlegend": true,
           "type": "scatter",
           "x": [
            2012
           ],
           "xaxis": "x",
           "y": [
            91300
           ],
           "yaxis": "y"
          },
          {
           "hovertemplate": "<b>%{hovertext}</b><br><br>Industry=Retail<br>Years=%{x}<br>Employment=%{marker.size}<extra></extra>",
           "hovertext": [
            347300
           ],
           "ids": [
            "Retail"
           ],
           "legendgroup": "Retail",
           "marker": {
            "color": "#ab63fa",
            "size": [
             347300
            ],
            "sizemode": "area",
            "sizeref": 214.76543209876544,
            "symbol": "circle"
           },
           "mode": "markers",
           "name": "Retail",
           "showlegend": true,
           "type": "scatter",
           "x": [
            2012
           ],
           "xaxis": "x",
           "y": [
            347300
           ],
           "yaxis": "y"
          },
          {
           "hovertemplate": "<b>%{hovertext}</b><br><br>Industry=ICT<br>Years=%{x}<br>Employment=%{marker.size}<extra></extra>",
           "hovertext": [
            27200
           ],
           "ids": [
            "ICT"
           ],
           "legendgroup": "ICT",
           "marker": {
            "color": "#FFA15A",
            "size": [
             27200
            ],
            "sizemode": "area",
            "sizeref": 214.76543209876544,
            "symbol": "circle"
           },
           "mode": "markers",
           "name": "ICT",
           "showlegend": true,
           "type": "scatter",
           "x": [
            2012
           ],
           "xaxis": "x",
           "y": [
            27200
           ],
           "yaxis": "y"
          },
          {
           "hovertemplate": "<b>%{hovertext}</b><br><br>Industry=Finance<br>Years=%{x}<br>Employment=%{marker.size}<extra></extra>",
           "hovertext": [
            31100
           ],
           "ids": [
            "Finance"
           ],
           "legendgroup": "Finance",
           "marker": {
            "color": "#19d3f3",
            "size": [
             31100
            ],
            "sizemode": "area",
            "sizeref": 214.76543209876544,
            "symbol": "circle"
           },
           "mode": "markers",
           "name": "Finance",
           "showlegend": true,
           "type": "scatter",
           "x": [
            2012
           ],
           "xaxis": "x",
           "y": [
            31100
           ],
           "yaxis": "y"
          },
          {
           "hovertemplate": "<b>%{hovertext}</b><br><br>Industry=Real_Estate<br>Years=%{x}<br>Employment=%{marker.size}<extra></extra>",
           "hovertext": [
            18800
           ],
           "ids": [
            "Real_Estate"
           ],
           "legendgroup": "Real_Estate",
           "marker": {
            "color": "#FF6692",
            "size": [
             18800
            ],
            "sizemode": "area",
            "sizeref": 214.76543209876544,
            "symbol": "circle"
           },
           "mode": "markers",
           "name": "Real_Estate",
           "showlegend": true,
           "type": "scatter",
           "x": [
            2012
           ],
           "xaxis": "x",
           "y": [
            18800
           ],
           "yaxis": "y"
          },
          {
           "hovertemplate": "<b>%{hovertext}</b><br><br>Industry=Professional_Service<br>Years=%{x}<br>Employment=%{marker.size}<extra></extra>",
           "hovertext": [
            137300
           ],
           "ids": [
            "Professional_Service"
           ],
           "legendgroup": "Professional_Service",
           "marker": {
            "color": "#B6E880",
            "size": [
             137300
            ],
            "sizemode": "area",
            "sizeref": 214.76543209876544,
            "symbol": "circle"
           },
           "mode": "markers",
           "name": "Professional_Service",
           "showlegend": true,
           "type": "scatter",
           "x": [
            2012
           ],
           "xaxis": "x",
           "y": [
            137300
           ],
           "yaxis": "y"
          },
          {
           "hovertemplate": "<b>%{hovertext}</b><br><br>Industry=Public_Adminstration <br>Years=%{x}<br>Employment=%{marker.size}<extra></extra>",
           "hovertext": [
            421000
           ],
           "ids": [
            "Public_Adminstration "
           ],
           "legendgroup": "Public_Adminstration ",
           "marker": {
            "color": "#FF97FF",
            "size": [
             421000
            ],
            "sizemode": "area",
            "sizeref": 214.76543209876544,
            "symbol": "circle"
           },
           "mode": "markers",
           "name": "Public_Adminstration ",
           "showlegend": true,
           "type": "scatter",
           "x": [
            2012
           ],
           "xaxis": "x",
           "y": [
            421000
           ],
           "yaxis": "y"
          },
          {
           "hovertemplate": "<b>%{hovertext}</b><br><br>Industry=Other_Service<br>Years=%{x}<br>Employment=%{marker.size}<extra></extra>",
           "hovertext": [
            72800
           ],
           "ids": [
            "Other_Service"
           ],
           "legendgroup": "Other_Service",
           "marker": {
            "color": "#FECB52",
            "size": [
             72800
            ],
            "sizemode": "area",
            "sizeref": 214.76543209876544,
            "symbol": "circle"
           },
           "mode": "markers",
           "name": "Other_Service",
           "showlegend": true,
           "type": "scatter",
           "x": [
            2012
           ],
           "xaxis": "x",
           "y": [
            72800
           ],
           "yaxis": "y"
          }
         ],
         "name": "2012"
        },
        {
         "data": [
          {
           "hovertemplate": "<b>%{hovertext}</b><br><br>Industry=Agriculture<br>Years=%{x}<br>Employment=%{marker.size}<extra></extra>",
           "hovertext": [
            36800
           ],
           "ids": [
            "Agriculture"
           ],
           "legendgroup": "Agriculture",
           "marker": {
            "color": "#636efa",
            "size": [
             36800
            ],
            "sizemode": "area",
            "sizeref": 214.76543209876544,
            "symbol": "circle"
           },
           "mode": "markers",
           "name": "Agriculture",
           "showlegend": true,
           "type": "scatter",
           "x": [
            2013
           ],
           "xaxis": "x",
           "y": [
            36800
           ],
           "yaxis": "y"
          },
          {
           "hovertemplate": "<b>%{hovertext}</b><br><br>Industry=Production<br>Years=%{x}<br>Employment=%{marker.size}<extra></extra>",
           "hovertext": [
            164200
           ],
           "ids": [
            "Production"
           ],
           "legendgroup": "Production",
           "marker": {
            "color": "#EF553B",
            "size": [
             164200
            ],
            "sizemode": "area",
            "sizeref": 214.76543209876544,
            "symbol": "circle"
           },
           "mode": "markers",
           "name": "Production",
           "showlegend": true,
           "type": "scatter",
           "x": [
            2013
           ],
           "xaxis": "x",
           "y": [
            164200
           ],
           "yaxis": "y"
          },
          {
           "hovertemplate": "<b>%{hovertext}</b><br><br>Industry=Construction<br>Years=%{x}<br>Employment=%{marker.size}<extra></extra>",
           "hovertext": [
            89300
           ],
           "ids": [
            "Construction"
           ],
           "legendgroup": "Construction",
           "marker": {
            "color": "#00cc96",
            "size": [
             89300
            ],
            "sizemode": "area",
            "sizeref": 214.76543209876544,
            "symbol": "circle"
           },
           "mode": "markers",
           "name": "Construction",
           "showlegend": true,
           "type": "scatter",
           "x": [
            2013
           ],
           "xaxis": "x",
           "y": [
            89300
           ],
           "yaxis": "y"
          },
          {
           "hovertemplate": "<b>%{hovertext}</b><br><br>Industry=Retail<br>Years=%{x}<br>Employment=%{marker.size}<extra></extra>",
           "hovertext": [
            345100
           ],
           "ids": [
            "Retail"
           ],
           "legendgroup": "Retail",
           "marker": {
            "color": "#ab63fa",
            "size": [
             345100
            ],
            "sizemode": "area",
            "sizeref": 214.76543209876544,
            "symbol": "circle"
           },
           "mode": "markers",
           "name": "Retail",
           "showlegend": true,
           "type": "scatter",
           "x": [
            2013
           ],
           "xaxis": "x",
           "y": [
            345100
           ],
           "yaxis": "y"
          },
          {
           "hovertemplate": "<b>%{hovertext}</b><br><br>Industry=ICT<br>Years=%{x}<br>Employment=%{marker.size}<extra></extra>",
           "hovertext": [
            26900
           ],
           "ids": [
            "ICT"
           ],
           "legendgroup": "ICT",
           "marker": {
            "color": "#FFA15A",
            "size": [
             26900
            ],
            "sizemode": "area",
            "sizeref": 214.76543209876544,
            "symbol": "circle"
           },
           "mode": "markers",
           "name": "ICT",
           "showlegend": true,
           "type": "scatter",
           "x": [
            2013
           ],
           "xaxis": "x",
           "y": [
            26900
           ],
           "yaxis": "y"
          },
          {
           "hovertemplate": "<b>%{hovertext}</b><br><br>Industry=Finance<br>Years=%{x}<br>Employment=%{marker.size}<extra></extra>",
           "hovertext": [
            32400
           ],
           "ids": [
            "Finance"
           ],
           "legendgroup": "Finance",
           "marker": {
            "color": "#19d3f3",
            "size": [
             32400
            ],
            "sizemode": "area",
            "sizeref": 214.76543209876544,
            "symbol": "circle"
           },
           "mode": "markers",
           "name": "Finance",
           "showlegend": true,
           "type": "scatter",
           "x": [
            2013
           ],
           "xaxis": "x",
           "y": [
            32400
           ],
           "yaxis": "y"
          },
          {
           "hovertemplate": "<b>%{hovertext}</b><br><br>Industry=Real_Estate<br>Years=%{x}<br>Employment=%{marker.size}<extra></extra>",
           "hovertext": [
            18000
           ],
           "ids": [
            "Real_Estate"
           ],
           "legendgroup": "Real_Estate",
           "marker": {
            "color": "#FF6692",
            "size": [
             18000
            ],
            "sizemode": "area",
            "sizeref": 214.76543209876544,
            "symbol": "circle"
           },
           "mode": "markers",
           "name": "Real_Estate",
           "showlegend": true,
           "type": "scatter",
           "x": [
            2013
           ],
           "xaxis": "x",
           "y": [
            18000
           ],
           "yaxis": "y"
          },
          {
           "hovertemplate": "<b>%{hovertext}</b><br><br>Industry=Professional_Service<br>Years=%{x}<br>Employment=%{marker.size}<extra></extra>",
           "hovertext": [
            149900
           ],
           "ids": [
            "Professional_Service"
           ],
           "legendgroup": "Professional_Service",
           "marker": {
            "color": "#B6E880",
            "size": [
             149900
            ],
            "sizemode": "area",
            "sizeref": 214.76543209876544,
            "symbol": "circle"
           },
           "mode": "markers",
           "name": "Professional_Service",
           "showlegend": true,
           "type": "scatter",
           "x": [
            2013
           ],
           "xaxis": "x",
           "y": [
            149900
           ],
           "yaxis": "y"
          },
          {
           "hovertemplate": "<b>%{hovertext}</b><br><br>Industry=Public_Adminstration <br>Years=%{x}<br>Employment=%{marker.size}<extra></extra>",
           "hovertext": [
            427000
           ],
           "ids": [
            "Public_Adminstration "
           ],
           "legendgroup": "Public_Adminstration ",
           "marker": {
            "color": "#FF97FF",
            "size": [
             427000
            ],
            "sizemode": "area",
            "sizeref": 214.76543209876544,
            "symbol": "circle"
           },
           "mode": "markers",
           "name": "Public_Adminstration ",
           "showlegend": true,
           "type": "scatter",
           "x": [
            2013
           ],
           "xaxis": "x",
           "y": [
            427000
           ],
           "yaxis": "y"
          },
          {
           "hovertemplate": "<b>%{hovertext}</b><br><br>Industry=Other_Service<br>Years=%{x}<br>Employment=%{marker.size}<extra></extra>",
           "hovertext": [
            75500
           ],
           "ids": [
            "Other_Service"
           ],
           "legendgroup": "Other_Service",
           "marker": {
            "color": "#FECB52",
            "size": [
             75500
            ],
            "sizemode": "area",
            "sizeref": 214.76543209876544,
            "symbol": "circle"
           },
           "mode": "markers",
           "name": "Other_Service",
           "showlegend": true,
           "type": "scatter",
           "x": [
            2013
           ],
           "xaxis": "x",
           "y": [
            75500
           ],
           "yaxis": "y"
          }
         ],
         "name": "2013"
        },
        {
         "data": [
          {
           "hovertemplate": "<b>%{hovertext}</b><br><br>Industry=Agriculture<br>Years=%{x}<br>Employment=%{marker.size}<extra></extra>",
           "hovertext": [
            42700
           ],
           "ids": [
            "Agriculture"
           ],
           "legendgroup": "Agriculture",
           "marker": {
            "color": "#636efa",
            "size": [
             42700
            ],
            "sizemode": "area",
            "sizeref": 214.76543209876544,
            "symbol": "circle"
           },
           "mode": "markers",
           "name": "Agriculture",
           "showlegend": true,
           "type": "scatter",
           "x": [
            2014
           ],
           "xaxis": "x",
           "y": [
            42700
           ],
           "yaxis": "y"
          },
          {
           "hovertemplate": "<b>%{hovertext}</b><br><br>Industry=Production<br>Years=%{x}<br>Employment=%{marker.size}<extra></extra>",
           "hovertext": [
            173300
           ],
           "ids": [
            "Production"
           ],
           "legendgroup": "Production",
           "marker": {
            "color": "#EF553B",
            "size": [
             173300
            ],
            "sizemode": "area",
            "sizeref": 214.76543209876544,
            "symbol": "circle"
           },
           "mode": "markers",
           "name": "Production",
           "showlegend": true,
           "type": "scatter",
           "x": [
            2014
           ],
           "xaxis": "x",
           "y": [
            173300
           ],
           "yaxis": "y"
          },
          {
           "hovertemplate": "<b>%{hovertext}</b><br><br>Industry=Construction<br>Years=%{x}<br>Employment=%{marker.size}<extra></extra>",
           "hovertext": [
            97000
           ],
           "ids": [
            "Construction"
           ],
           "legendgroup": "Construction",
           "marker": {
            "color": "#00cc96",
            "size": [
             97000
            ],
            "sizemode": "area",
            "sizeref": 214.76543209876544,
            "symbol": "circle"
           },
           "mode": "markers",
           "name": "Construction",
           "showlegend": true,
           "type": "scatter",
           "x": [
            2014
           ],
           "xaxis": "x",
           "y": [
            97000
           ],
           "yaxis": "y"
          },
          {
           "hovertemplate": "<b>%{hovertext}</b><br><br>Industry=Retail<br>Years=%{x}<br>Employment=%{marker.size}<extra></extra>",
           "hovertext": [
            337300
           ],
           "ids": [
            "Retail"
           ],
           "legendgroup": "Retail",
           "marker": {
            "color": "#ab63fa",
            "size": [
             337300
            ],
            "sizemode": "area",
            "sizeref": 214.76543209876544,
            "symbol": "circle"
           },
           "mode": "markers",
           "name": "Retail",
           "showlegend": true,
           "type": "scatter",
           "x": [
            2014
           ],
           "xaxis": "x",
           "y": [
            337300
           ],
           "yaxis": "y"
          },
          {
           "hovertemplate": "<b>%{hovertext}</b><br><br>Industry=ICT<br>Years=%{x}<br>Employment=%{marker.size}<extra></extra>",
           "hovertext": [
            35700
           ],
           "ids": [
            "ICT"
           ],
           "legendgroup": "ICT",
           "marker": {
            "color": "#FFA15A",
            "size": [
             35700
            ],
            "sizemode": "area",
            "sizeref": 214.76543209876544,
            "symbol": "circle"
           },
           "mode": "markers",
           "name": "ICT",
           "showlegend": true,
           "type": "scatter",
           "x": [
            2014
           ],
           "xaxis": "x",
           "y": [
            35700
           ],
           "yaxis": "y"
          },
          {
           "hovertemplate": "<b>%{hovertext}</b><br><br>Industry=Finance<br>Years=%{x}<br>Employment=%{marker.size}<extra></extra>",
           "hovertext": [
            32400
           ],
           "ids": [
            "Finance"
           ],
           "legendgroup": "Finance",
           "marker": {
            "color": "#19d3f3",
            "size": [
             32400
            ],
            "sizemode": "area",
            "sizeref": 214.76543209876544,
            "symbol": "circle"
           },
           "mode": "markers",
           "name": "Finance",
           "showlegend": true,
           "type": "scatter",
           "x": [
            2014
           ],
           "xaxis": "x",
           "y": [
            32400
           ],
           "yaxis": "y"
          },
          {
           "hovertemplate": "<b>%{hovertext}</b><br><br>Industry=Real_Estate<br>Years=%{x}<br>Employment=%{marker.size}<extra></extra>",
           "hovertext": [
            22200
           ],
           "ids": [
            "Real_Estate"
           ],
           "legendgroup": "Real_Estate",
           "marker": {
            "color": "#FF6692",
            "size": [
             22200
            ],
            "sizemode": "area",
            "sizeref": 214.76543209876544,
            "symbol": "circle"
           },
           "mode": "markers",
           "name": "Real_Estate",
           "showlegend": true,
           "type": "scatter",
           "x": [
            2014
           ],
           "xaxis": "x",
           "y": [
            22200
           ],
           "yaxis": "y"
          },
          {
           "hovertemplate": "<b>%{hovertext}</b><br><br>Industry=Professional_Service<br>Years=%{x}<br>Employment=%{marker.size}<extra></extra>",
           "hovertext": [
            152900
           ],
           "ids": [
            "Professional_Service"
           ],
           "legendgroup": "Professional_Service",
           "marker": {
            "color": "#B6E880",
            "size": [
             152900
            ],
            "sizemode": "area",
            "sizeref": 214.76543209876544,
            "symbol": "circle"
           },
           "mode": "markers",
           "name": "Professional_Service",
           "showlegend": true,
           "type": "scatter",
           "x": [
            2014
           ],
           "xaxis": "x",
           "y": [
            152900
           ],
           "yaxis": "y"
          },
          {
           "hovertemplate": "<b>%{hovertext}</b><br><br>Industry=Public_Adminstration <br>Years=%{x}<br>Employment=%{marker.size}<extra></extra>",
           "hovertext": [
            427600
           ],
           "ids": [
            "Public_Adminstration "
           ],
           "legendgroup": "Public_Adminstration ",
           "marker": {
            "color": "#FF97FF",
            "size": [
             427600
            ],
            "sizemode": "area",
            "sizeref": 214.76543209876544,
            "symbol": "circle"
           },
           "mode": "markers",
           "name": "Public_Adminstration ",
           "showlegend": true,
           "type": "scatter",
           "x": [
            2014
           ],
           "xaxis": "x",
           "y": [
            427600
           ],
           "yaxis": "y"
          },
          {
           "hovertemplate": "<b>%{hovertext}</b><br><br>Industry=Other_Service<br>Years=%{x}<br>Employment=%{marker.size}<extra></extra>",
           "hovertext": [
            73300
           ],
           "ids": [
            "Other_Service"
           ],
           "legendgroup": "Other_Service",
           "marker": {
            "color": "#FECB52",
            "size": [
             73300
            ],
            "sizemode": "area",
            "sizeref": 214.76543209876544,
            "symbol": "circle"
           },
           "mode": "markers",
           "name": "Other_Service",
           "showlegend": true,
           "type": "scatter",
           "x": [
            2014
           ],
           "xaxis": "x",
           "y": [
            73300
           ],
           "yaxis": "y"
          }
         ],
         "name": "2014"
        },
        {
         "data": [
          {
           "hovertemplate": "<b>%{hovertext}</b><br><br>Industry=Agriculture<br>Years=%{x}<br>Employment=%{marker.size}<extra></extra>",
           "hovertext": [
            40700
           ],
           "ids": [
            "Agriculture"
           ],
           "legendgroup": "Agriculture",
           "marker": {
            "color": "#636efa",
            "size": [
             40700
            ],
            "sizemode": "area",
            "sizeref": 214.76543209876544,
            "symbol": "circle"
           },
           "mode": "markers",
           "name": "Agriculture",
           "showlegend": true,
           "type": "scatter",
           "x": [
            2015
           ],
           "xaxis": "x",
           "y": [
            40700
           ],
           "yaxis": "y"
          },
          {
           "hovertemplate": "<b>%{hovertext}</b><br><br>Industry=Production<br>Years=%{x}<br>Employment=%{marker.size}<extra></extra>",
           "hovertext": [
            172300
           ],
           "ids": [
            "Production"
           ],
           "legendgroup": "Production",
           "marker": {
            "color": "#EF553B",
            "size": [
             172300
            ],
            "sizemode": "area",
            "sizeref": 214.76543209876544,
            "symbol": "circle"
           },
           "mode": "markers",
           "name": "Production",
           "showlegend": true,
           "type": "scatter",
           "x": [
            2015
           ],
           "xaxis": "x",
           "y": [
            172300
           ],
           "yaxis": "y"
          },
          {
           "hovertemplate": "<b>%{hovertext}</b><br><br>Industry=Construction<br>Years=%{x}<br>Employment=%{marker.size}<extra></extra>",
           "hovertext": [
            92600
           ],
           "ids": [
            "Construction"
           ],
           "legendgroup": "Construction",
           "marker": {
            "color": "#00cc96",
            "size": [
             92600
            ],
            "sizemode": "area",
            "sizeref": 214.76543209876544,
            "symbol": "circle"
           },
           "mode": "markers",
           "name": "Construction",
           "showlegend": true,
           "type": "scatter",
           "x": [
            2015
           ],
           "xaxis": "x",
           "y": [
            92600
           ],
           "yaxis": "y"
          },
          {
           "hovertemplate": "<b>%{hovertext}</b><br><br>Industry=Retail<br>Years=%{x}<br>Employment=%{marker.size}<extra></extra>",
           "hovertext": [
            357700
           ],
           "ids": [
            "Retail"
           ],
           "legendgroup": "Retail",
           "marker": {
            "color": "#ab63fa",
            "size": [
             357700
            ],
            "sizemode": "area",
            "sizeref": 214.76543209876544,
            "symbol": "circle"
           },
           "mode": "markers",
           "name": "Retail",
           "showlegend": true,
           "type": "scatter",
           "x": [
            2015
           ],
           "xaxis": "x",
           "y": [
            357700
           ],
           "yaxis": "y"
          },
          {
           "hovertemplate": "<b>%{hovertext}</b><br><br>Industry=ICT<br>Years=%{x}<br>Employment=%{marker.size}<extra></extra>",
           "hovertext": [
            24000
           ],
           "ids": [
            "ICT"
           ],
           "legendgroup": "ICT",
           "marker": {
            "color": "#FFA15A",
            "size": [
             24000
            ],
            "sizemode": "area",
            "sizeref": 214.76543209876544,
            "symbol": "circle"
           },
           "mode": "markers",
           "name": "ICT",
           "showlegend": true,
           "type": "scatter",
           "x": [
            2015
           ],
           "xaxis": "x",
           "y": [
            24000
           ],
           "yaxis": "y"
          },
          {
           "hovertemplate": "<b>%{hovertext}</b><br><br>Industry=Finance<br>Years=%{x}<br>Employment=%{marker.size}<extra></extra>",
           "hovertext": [
            30800
           ],
           "ids": [
            "Finance"
           ],
           "legendgroup": "Finance",
           "marker": {
            "color": "#19d3f3",
            "size": [
             30800
            ],
            "sizemode": "area",
            "sizeref": 214.76543209876544,
            "symbol": "circle"
           },
           "mode": "markers",
           "name": "Finance",
           "showlegend": true,
           "type": "scatter",
           "x": [
            2015
           ],
           "xaxis": "x",
           "y": [
            30800
           ],
           "yaxis": "y"
          },
          {
           "hovertemplate": "<b>%{hovertext}</b><br><br>Industry=Real_Estate<br>Years=%{x}<br>Employment=%{marker.size}<extra></extra>",
           "hovertext": [
            19100
           ],
           "ids": [
            "Real_Estate"
           ],
           "legendgroup": "Real_Estate",
           "marker": {
            "color": "#FF6692",
            "size": [
             19100
            ],
            "sizemode": "area",
            "sizeref": 214.76543209876544,
            "symbol": "circle"
           },
           "mode": "markers",
           "name": "Real_Estate",
           "showlegend": true,
           "type": "scatter",
           "x": [
            2015
           ],
           "xaxis": "x",
           "y": [
            19100
           ],
           "yaxis": "y"
          },
          {
           "hovertemplate": "<b>%{hovertext}</b><br><br>Industry=Professional_Service<br>Years=%{x}<br>Employment=%{marker.size}<extra></extra>",
           "hovertext": [
            166200
           ],
           "ids": [
            "Professional_Service"
           ],
           "legendgroup": "Professional_Service",
           "marker": {
            "color": "#B6E880",
            "size": [
             166200
            ],
            "sizemode": "area",
            "sizeref": 214.76543209876544,
            "symbol": "circle"
           },
           "mode": "markers",
           "name": "Professional_Service",
           "showlegend": true,
           "type": "scatter",
           "x": [
            2015
           ],
           "xaxis": "x",
           "y": [
            166200
           ],
           "yaxis": "y"
          },
          {
           "hovertemplate": "<b>%{hovertext}</b><br><br>Industry=Public_Adminstration <br>Years=%{x}<br>Employment=%{marker.size}<extra></extra>",
           "hovertext": [
            423200
           ],
           "ids": [
            "Public_Adminstration "
           ],
           "legendgroup": "Public_Adminstration ",
           "marker": {
            "color": "#FF97FF",
            "size": [
             423200
            ],
            "sizemode": "area",
            "sizeref": 214.76543209876544,
            "symbol": "circle"
           },
           "mode": "markers",
           "name": "Public_Adminstration ",
           "showlegend": true,
           "type": "scatter",
           "x": [
            2015
           ],
           "xaxis": "x",
           "y": [
            423200
           ],
           "yaxis": "y"
          },
          {
           "hovertemplate": "<b>%{hovertext}</b><br><br>Industry=Other_Service<br>Years=%{x}<br>Employment=%{marker.size}<extra></extra>",
           "hovertext": [
            77200
           ],
           "ids": [
            "Other_Service"
           ],
           "legendgroup": "Other_Service",
           "marker": {
            "color": "#FECB52",
            "size": [
             77200
            ],
            "sizemode": "area",
            "sizeref": 214.76543209876544,
            "symbol": "circle"
           },
           "mode": "markers",
           "name": "Other_Service",
           "showlegend": true,
           "type": "scatter",
           "x": [
            2015
           ],
           "xaxis": "x",
           "y": [
            77200
           ],
           "yaxis": "y"
          }
         ],
         "name": "2015"
        },
        {
         "data": [
          {
           "hovertemplate": "<b>%{hovertext}</b><br><br>Industry=Agriculture<br>Years=%{x}<br>Employment=%{marker.size}<extra></extra>",
           "hovertext": [
            43200
           ],
           "ids": [
            "Agriculture"
           ],
           "legendgroup": "Agriculture",
           "marker": {
            "color": "#636efa",
            "size": [
             43200
            ],
            "sizemode": "area",
            "sizeref": 214.76543209876544,
            "symbol": "circle"
           },
           "mode": "markers",
           "name": "Agriculture",
           "showlegend": true,
           "type": "scatter",
           "x": [
            2016
           ],
           "xaxis": "x",
           "y": [
            43200
           ],
           "yaxis": "y"
          },
          {
           "hovertemplate": "<b>%{hovertext}</b><br><br>Industry=Production<br>Years=%{x}<br>Employment=%{marker.size}<extra></extra>",
           "hovertext": [
            162500
           ],
           "ids": [
            "Production"
           ],
           "legendgroup": "Production",
           "marker": {
            "color": "#EF553B",
            "size": [
             162500
            ],
            "sizemode": "area",
            "sizeref": 214.76543209876544,
            "symbol": "circle"
           },
           "mode": "markers",
           "name": "Production",
           "showlegend": true,
           "type": "scatter",
           "x": [
            2016
           ],
           "xaxis": "x",
           "y": [
            162500
           ],
           "yaxis": "y"
          },
          {
           "hovertemplate": "<b>%{hovertext}</b><br><br>Industry=Construction<br>Years=%{x}<br>Employment=%{marker.size}<extra></extra>",
           "hovertext": [
            102700
           ],
           "ids": [
            "Construction"
           ],
           "legendgroup": "Construction",
           "marker": {
            "color": "#00cc96",
            "size": [
             102700
            ],
            "sizemode": "area",
            "sizeref": 214.76543209876544,
            "symbol": "circle"
           },
           "mode": "markers",
           "name": "Construction",
           "showlegend": true,
           "type": "scatter",
           "x": [
            2016
           ],
           "xaxis": "x",
           "y": [
            102700
           ],
           "yaxis": "y"
          },
          {
           "hovertemplate": "<b>%{hovertext}</b><br><br>Industry=Retail<br>Years=%{x}<br>Employment=%{marker.size}<extra></extra>",
           "hovertext": [
            360200
           ],
           "ids": [
            "Retail"
           ],
           "legendgroup": "Retail",
           "marker": {
            "color": "#ab63fa",
            "size": [
             360200
            ],
            "sizemode": "area",
            "sizeref": 214.76543209876544,
            "symbol": "circle"
           },
           "mode": "markers",
           "name": "Retail",
           "showlegend": true,
           "type": "scatter",
           "x": [
            2016
           ],
           "xaxis": "x",
           "y": [
            360200
           ],
           "yaxis": "y"
          },
          {
           "hovertemplate": "<b>%{hovertext}</b><br><br>Industry=ICT<br>Years=%{x}<br>Employment=%{marker.size}<extra></extra>",
           "hovertext": [
            34400
           ],
           "ids": [
            "ICT"
           ],
           "legendgroup": "ICT",
           "marker": {
            "color": "#FFA15A",
            "size": [
             34400
            ],
            "sizemode": "area",
            "sizeref": 214.76543209876544,
            "symbol": "circle"
           },
           "mode": "markers",
           "name": "ICT",
           "showlegend": true,
           "type": "scatter",
           "x": [
            2016
           ],
           "xaxis": "x",
           "y": [
            34400
           ],
           "yaxis": "y"
          },
          {
           "hovertemplate": "<b>%{hovertext}</b><br><br>Industry=Finance<br>Years=%{x}<br>Employment=%{marker.size}<extra></extra>",
           "hovertext": [
            31000
           ],
           "ids": [
            "Finance"
           ],
           "legendgroup": "Finance",
           "marker": {
            "color": "#19d3f3",
            "size": [
             31000
            ],
            "sizemode": "area",
            "sizeref": 214.76543209876544,
            "symbol": "circle"
           },
           "mode": "markers",
           "name": "Finance",
           "showlegend": true,
           "type": "scatter",
           "x": [
            2016
           ],
           "xaxis": "x",
           "y": [
            31000
           ],
           "yaxis": "y"
          },
          {
           "hovertemplate": "<b>%{hovertext}</b><br><br>Industry=Real_Estate<br>Years=%{x}<br>Employment=%{marker.size}<extra></extra>",
           "hovertext": [
            22700
           ],
           "ids": [
            "Real_Estate"
           ],
           "legendgroup": "Real_Estate",
           "marker": {
            "color": "#FF6692",
            "size": [
             22700
            ],
            "sizemode": "area",
            "sizeref": 214.76543209876544,
            "symbol": "circle"
           },
           "mode": "markers",
           "name": "Real_Estate",
           "showlegend": true,
           "type": "scatter",
           "x": [
            2016
           ],
           "xaxis": "x",
           "y": [
            22700
           ],
           "yaxis": "y"
          },
          {
           "hovertemplate": "<b>%{hovertext}</b><br><br>Industry=Professional_Service<br>Years=%{x}<br>Employment=%{marker.size}<extra></extra>",
           "hovertext": [
            161200
           ],
           "ids": [
            "Professional_Service"
           ],
           "legendgroup": "Professional_Service",
           "marker": {
            "color": "#B6E880",
            "size": [
             161200
            ],
            "sizemode": "area",
            "sizeref": 214.76543209876544,
            "symbol": "circle"
           },
           "mode": "markers",
           "name": "Professional_Service",
           "showlegend": true,
           "type": "scatter",
           "x": [
            2016
           ],
           "xaxis": "x",
           "y": [
            161200
           ],
           "yaxis": "y"
          },
          {
           "hovertemplate": "<b>%{hovertext}</b><br><br>Industry=Public_Adminstration <br>Years=%{x}<br>Employment=%{marker.size}<extra></extra>",
           "hovertext": [
            418500
           ],
           "ids": [
            "Public_Adminstration "
           ],
           "legendgroup": "Public_Adminstration ",
           "marker": {
            "color": "#FF97FF",
            "size": [
             418500
            ],
            "sizemode": "area",
            "sizeref": 214.76543209876544,
            "symbol": "circle"
           },
           "mode": "markers",
           "name": "Public_Adminstration ",
           "showlegend": true,
           "type": "scatter",
           "x": [
            2016
           ],
           "xaxis": "x",
           "y": [
            418500
           ],
           "yaxis": "y"
          },
          {
           "hovertemplate": "<b>%{hovertext}</b><br><br>Industry=Other_Service<br>Years=%{x}<br>Employment=%{marker.size}<extra></extra>",
           "hovertext": [
            72400
           ],
           "ids": [
            "Other_Service"
           ],
           "legendgroup": "Other_Service",
           "marker": {
            "color": "#FECB52",
            "size": [
             72400
            ],
            "sizemode": "area",
            "sizeref": 214.76543209876544,
            "symbol": "circle"
           },
           "mode": "markers",
           "name": "Other_Service",
           "showlegend": true,
           "type": "scatter",
           "x": [
            2016
           ],
           "xaxis": "x",
           "y": [
            72400
           ],
           "yaxis": "y"
          }
         ],
         "name": "2016"
        },
        {
         "data": [
          {
           "hovertemplate": "<b>%{hovertext}</b><br><br>Industry=Agriculture<br>Years=%{x}<br>Employment=%{marker.size}<extra></extra>",
           "hovertext": [
            40200
           ],
           "ids": [
            "Agriculture"
           ],
           "legendgroup": "Agriculture",
           "marker": {
            "color": "#636efa",
            "size": [
             40200
            ],
            "sizemode": "area",
            "sizeref": 214.76543209876544,
            "symbol": "circle"
           },
           "mode": "markers",
           "name": "Agriculture",
           "showlegend": true,
           "type": "scatter",
           "x": [
            2017
           ],
           "xaxis": "x",
           "y": [
            40200
           ],
           "yaxis": "y"
          },
          {
           "hovertemplate": "<b>%{hovertext}</b><br><br>Industry=Production<br>Years=%{x}<br>Employment=%{marker.size}<extra></extra>",
           "hovertext": [
            165100
           ],
           "ids": [
            "Production"
           ],
           "legendgroup": "Production",
           "marker": {
            "color": "#EF553B",
            "size": [
             165100
            ],
            "sizemode": "area",
            "sizeref": 214.76543209876544,
            "symbol": "circle"
           },
           "mode": "markers",
           "name": "Production",
           "showlegend": true,
           "type": "scatter",
           "x": [
            2017
           ],
           "xaxis": "x",
           "y": [
            165100
           ],
           "yaxis": "y"
          },
          {
           "hovertemplate": "<b>%{hovertext}</b><br><br>Industry=Construction<br>Years=%{x}<br>Employment=%{marker.size}<extra></extra>",
           "hovertext": [
            90800
           ],
           "ids": [
            "Construction"
           ],
           "legendgroup": "Construction",
           "marker": {
            "color": "#00cc96",
            "size": [
             90800
            ],
            "sizemode": "area",
            "sizeref": 214.76543209876544,
            "symbol": "circle"
           },
           "mode": "markers",
           "name": "Construction",
           "showlegend": true,
           "type": "scatter",
           "x": [
            2017
           ],
           "xaxis": "x",
           "y": [
            90800
           ],
           "yaxis": "y"
          },
          {
           "hovertemplate": "<b>%{hovertext}</b><br><br>Industry=Retail<br>Years=%{x}<br>Employment=%{marker.size}<extra></extra>",
           "hovertext": [
            333500
           ],
           "ids": [
            "Retail"
           ],
           "legendgroup": "Retail",
           "marker": {
            "color": "#ab63fa",
            "size": [
             333500
            ],
            "sizemode": "area",
            "sizeref": 214.76543209876544,
            "symbol": "circle"
           },
           "mode": "markers",
           "name": "Retail",
           "showlegend": true,
           "type": "scatter",
           "x": [
            2017
           ],
           "xaxis": "x",
           "y": [
            333500
           ],
           "yaxis": "y"
          },
          {
           "hovertemplate": "<b>%{hovertext}</b><br><br>Industry=ICT<br>Years=%{x}<br>Employment=%{marker.size}<extra></extra>",
           "hovertext": [
            58900
           ],
           "ids": [
            "ICT"
           ],
           "legendgroup": "ICT",
           "marker": {
            "color": "#FFA15A",
            "size": [
             58900
            ],
            "sizemode": "area",
            "sizeref": 214.76543209876544,
            "symbol": "circle"
           },
           "mode": "markers",
           "name": "ICT",
           "showlegend": true,
           "type": "scatter",
           "x": [
            2017
           ],
           "xaxis": "x",
           "y": [
            58900
           ],
           "yaxis": "y"
          },
          {
           "hovertemplate": "<b>%{hovertext}</b><br><br>Industry=Finance<br>Years=%{x}<br>Employment=%{marker.size}<extra></extra>",
           "hovertext": [
            32100
           ],
           "ids": [
            "Finance"
           ],
           "legendgroup": "Finance",
           "marker": {
            "color": "#19d3f3",
            "size": [
             32100
            ],
            "sizemode": "area",
            "sizeref": 214.76543209876544,
            "symbol": "circle"
           },
           "mode": "markers",
           "name": "Finance",
           "showlegend": true,
           "type": "scatter",
           "x": [
            2017
           ],
           "xaxis": "x",
           "y": [
            32100
           ],
           "yaxis": "y"
          },
          {
           "hovertemplate": "<b>%{hovertext}</b><br><br>Industry=Real_Estate<br>Years=%{x}<br>Employment=%{marker.size}<extra></extra>",
           "hovertext": [
            18200
           ],
           "ids": [
            "Real_Estate"
           ],
           "legendgroup": "Real_Estate",
           "marker": {
            "color": "#FF6692",
            "size": [
             18200
            ],
            "sizemode": "area",
            "sizeref": 214.76543209876544,
            "symbol": "circle"
           },
           "mode": "markers",
           "name": "Real_Estate",
           "showlegend": true,
           "type": "scatter",
           "x": [
            2017
           ],
           "xaxis": "x",
           "y": [
            18200
           ],
           "yaxis": "y"
          },
          {
           "hovertemplate": "<b>%{hovertext}</b><br><br>Industry=Professional_Service<br>Years=%{x}<br>Employment=%{marker.size}<extra></extra>",
           "hovertext": [
            176400
           ],
           "ids": [
            "Professional_Service"
           ],
           "legendgroup": "Professional_Service",
           "marker": {
            "color": "#B6E880",
            "size": [
             176400
            ],
            "sizemode": "area",
            "sizeref": 214.76543209876544,
            "symbol": "circle"
           },
           "mode": "markers",
           "name": "Professional_Service",
           "showlegend": true,
           "type": "scatter",
           "x": [
            2017
           ],
           "xaxis": "x",
           "y": [
            176400
           ],
           "yaxis": "y"
          },
          {
           "hovertemplate": "<b>%{hovertext}</b><br><br>Industry=Public_Adminstration <br>Years=%{x}<br>Employment=%{marker.size}<extra></extra>",
           "hovertext": [
            424500
           ],
           "ids": [
            "Public_Adminstration "
           ],
           "legendgroup": "Public_Adminstration ",
           "marker": {
            "color": "#FF97FF",
            "size": [
             424500
            ],
            "sizemode": "area",
            "sizeref": 214.76543209876544,
            "symbol": "circle"
           },
           "mode": "markers",
           "name": "Public_Adminstration ",
           "showlegend": true,
           "type": "scatter",
           "x": [
            2017
           ],
           "xaxis": "x",
           "y": [
            424500
           ],
           "yaxis": "y"
          },
          {
           "hovertemplate": "<b>%{hovertext}</b><br><br>Industry=Other_Service<br>Years=%{x}<br>Employment=%{marker.size}<extra></extra>",
           "hovertext": [
            83200
           ],
           "ids": [
            "Other_Service"
           ],
           "legendgroup": "Other_Service",
           "marker": {
            "color": "#FECB52",
            "size": [
             83200
            ],
            "sizemode": "area",
            "sizeref": 214.76543209876544,
            "symbol": "circle"
           },
           "mode": "markers",
           "name": "Other_Service",
           "showlegend": true,
           "type": "scatter",
           "x": [
            2017
           ],
           "xaxis": "x",
           "y": [
            83200
           ],
           "yaxis": "y"
          }
         ],
         "name": "2017"
        },
        {
         "data": [
          {
           "hovertemplate": "<b>%{hovertext}</b><br><br>Industry=Agriculture<br>Years=%{x}<br>Employment=%{marker.size}<extra></extra>",
           "hovertext": [
            41100
           ],
           "ids": [
            "Agriculture"
           ],
           "legendgroup": "Agriculture",
           "marker": {
            "color": "#636efa",
            "size": [
             41100
            ],
            "sizemode": "area",
            "sizeref": 214.76543209876544,
            "symbol": "circle"
           },
           "mode": "markers",
           "name": "Agriculture",
           "showlegend": true,
           "type": "scatter",
           "x": [
            2018
           ],
           "xaxis": "x",
           "y": [
            41100
           ],
           "yaxis": "y"
          },
          {
           "hovertemplate": "<b>%{hovertext}</b><br><br>Industry=Production<br>Years=%{x}<br>Employment=%{marker.size}<extra></extra>",
           "hovertext": [
            165700
           ],
           "ids": [
            "Production"
           ],
           "legendgroup": "Production",
           "marker": {
            "color": "#EF553B",
            "size": [
             165700
            ],
            "sizemode": "area",
            "sizeref": 214.76543209876544,
            "symbol": "circle"
           },
           "mode": "markers",
           "name": "Production",
           "showlegend": true,
           "type": "scatter",
           "x": [
            2018
           ],
           "xaxis": "x",
           "y": [
            165700
           ],
           "yaxis": "y"
          },
          {
           "hovertemplate": "<b>%{hovertext}</b><br><br>Industry=Construction<br>Years=%{x}<br>Employment=%{marker.size}<extra></extra>",
           "hovertext": [
            101800
           ],
           "ids": [
            "Construction"
           ],
           "legendgroup": "Construction",
           "marker": {
            "color": "#00cc96",
            "size": [
             101800
            ],
            "sizemode": "area",
            "sizeref": 214.76543209876544,
            "symbol": "circle"
           },
           "mode": "markers",
           "name": "Construction",
           "showlegend": true,
           "type": "scatter",
           "x": [
            2018
           ],
           "xaxis": "x",
           "y": [
            101800
           ],
           "yaxis": "y"
          },
          {
           "hovertemplate": "<b>%{hovertext}</b><br><br>Industry=Retail<br>Years=%{x}<br>Employment=%{marker.size}<extra></extra>",
           "hovertext": [
            347600
           ],
           "ids": [
            "Retail"
           ],
           "legendgroup": "Retail",
           "marker": {
            "color": "#ab63fa",
            "size": [
             347600
            ],
            "sizemode": "area",
            "sizeref": 214.76543209876544,
            "symbol": "circle"
           },
           "mode": "markers",
           "name": "Retail",
           "showlegend": true,
           "type": "scatter",
           "x": [
            2018
           ],
           "xaxis": "x",
           "y": [
            347600
           ],
           "yaxis": "y"
          },
          {
           "hovertemplate": "<b>%{hovertext}</b><br><br>Industry=ICT<br>Years=%{x}<br>Employment=%{marker.size}<extra></extra>",
           "hovertext": [
            31500
           ],
           "ids": [
            "ICT"
           ],
           "legendgroup": "ICT",
           "marker": {
            "color": "#FFA15A",
            "size": [
             31500
            ],
            "sizemode": "area",
            "sizeref": 214.76543209876544,
            "symbol": "circle"
           },
           "mode": "markers",
           "name": "ICT",
           "showlegend": true,
           "type": "scatter",
           "x": [
            2018
           ],
           "xaxis": "x",
           "y": [
            31500
           ],
           "yaxis": "y"
          },
          {
           "hovertemplate": "<b>%{hovertext}</b><br><br>Industry=Finance<br>Years=%{x}<br>Employment=%{marker.size}<extra></extra>",
           "hovertext": [
            35500
           ],
           "ids": [
            "Finance"
           ],
           "legendgroup": "Finance",
           "marker": {
            "color": "#19d3f3",
            "size": [
             35500
            ],
            "sizemode": "area",
            "sizeref": 214.76543209876544,
            "symbol": "circle"
           },
           "mode": "markers",
           "name": "Finance",
           "showlegend": true,
           "type": "scatter",
           "x": [
            2018
           ],
           "xaxis": "x",
           "y": [
            35500
           ],
           "yaxis": "y"
          },
          {
           "hovertemplate": "<b>%{hovertext}</b><br><br>Industry=Real_Estate<br>Years=%{x}<br>Employment=%{marker.size}<extra></extra>",
           "hovertext": [
            25200
           ],
           "ids": [
            "Real_Estate"
           ],
           "legendgroup": "Real_Estate",
           "marker": {
            "color": "#FF6692",
            "size": [
             25200
            ],
            "sizemode": "area",
            "sizeref": 214.76543209876544,
            "symbol": "circle"
           },
           "mode": "markers",
           "name": "Real_Estate",
           "showlegend": true,
           "type": "scatter",
           "x": [
            2018
           ],
           "xaxis": "x",
           "y": [
            25200
           ],
           "yaxis": "y"
          },
          {
           "hovertemplate": "<b>%{hovertext}</b><br><br>Industry=Professional_Service<br>Years=%{x}<br>Employment=%{marker.size}<extra></extra>",
           "hovertext": [
            187100
           ],
           "ids": [
            "Professional_Service"
           ],
           "legendgroup": "Professional_Service",
           "marker": {
            "color": "#B6E880",
            "size": [
             187100
            ],
            "sizemode": "area",
            "sizeref": 214.76543209876544,
            "symbol": "circle"
           },
           "mode": "markers",
           "name": "Professional_Service",
           "showlegend": true,
           "type": "scatter",
           "x": [
            2018
           ],
           "xaxis": "x",
           "y": [
            187100
           ],
           "yaxis": "y"
          },
          {
           "hovertemplate": "<b>%{hovertext}</b><br><br>Industry=Public_Adminstration <br>Years=%{x}<br>Employment=%{marker.size}<extra></extra>",
           "hovertext": [
            434900
           ],
           "ids": [
            "Public_Adminstration "
           ],
           "legendgroup": "Public_Adminstration ",
           "marker": {
            "color": "#FF97FF",
            "size": [
             434900
            ],
            "sizemode": "area",
            "sizeref": 214.76543209876544,
            "symbol": "circle"
           },
           "mode": "markers",
           "name": "Public_Adminstration ",
           "showlegend": true,
           "type": "scatter",
           "x": [
            2018
           ],
           "xaxis": "x",
           "y": [
            434900
           ],
           "yaxis": "y"
          },
          {
           "hovertemplate": "<b>%{hovertext}</b><br><br>Industry=Other_Service<br>Years=%{x}<br>Employment=%{marker.size}<extra></extra>",
           "hovertext": [
            81800
           ],
           "ids": [
            "Other_Service"
           ],
           "legendgroup": "Other_Service",
           "marker": {
            "color": "#FECB52",
            "size": [
             81800
            ],
            "sizemode": "area",
            "sizeref": 214.76543209876544,
            "symbol": "circle"
           },
           "mode": "markers",
           "name": "Other_Service",
           "showlegend": true,
           "type": "scatter",
           "x": [
            2018
           ],
           "xaxis": "x",
           "y": [
            81800
           ],
           "yaxis": "y"
          }
         ],
         "name": "2018"
        }
       ],
       "layout": {
        "legend": {
         "itemsizing": "constant",
         "title": {
          "text": "Industry"
         },
         "tracegroupgap": 0
        },
        "margin": {
         "t": 60
        },
        "sliders": [
         {
          "active": 0,
          "currentvalue": {
           "prefix": "Years="
          },
          "len": 0.9,
          "pad": {
           "b": 10,
           "t": 60
          },
          "steps": [
           {
            "args": [
             [
              "2009"
             ],
             {
              "frame": {
               "duration": 0,
               "redraw": false
              },
              "fromcurrent": true,
              "mode": "immediate",
              "transition": {
               "duration": 0,
               "easing": "linear"
              }
             }
            ],
            "label": "2009",
            "method": "animate"
           },
           {
            "args": [
             [
              "2010"
             ],
             {
              "frame": {
               "duration": 0,
               "redraw": false
              },
              "fromcurrent": true,
              "mode": "immediate",
              "transition": {
               "duration": 0,
               "easing": "linear"
              }
             }
            ],
            "label": "2010",
            "method": "animate"
           },
           {
            "args": [
             [
              "2011"
             ],
             {
              "frame": {
               "duration": 0,
               "redraw": false
              },
              "fromcurrent": true,
              "mode": "immediate",
              "transition": {
               "duration": 0,
               "easing": "linear"
              }
             }
            ],
            "label": "2011",
            "method": "animate"
           },
           {
            "args": [
             [
              "2012"
             ],
             {
              "frame": {
               "duration": 0,
               "redraw": false
              },
              "fromcurrent": true,
              "mode": "immediate",
              "transition": {
               "duration": 0,
               "easing": "linear"
              }
             }
            ],
            "label": "2012",
            "method": "animate"
           },
           {
            "args": [
             [
              "2013"
             ],
             {
              "frame": {
               "duration": 0,
               "redraw": false
              },
              "fromcurrent": true,
              "mode": "immediate",
              "transition": {
               "duration": 0,
               "easing": "linear"
              }
             }
            ],
            "label": "2013",
            "method": "animate"
           },
           {
            "args": [
             [
              "2014"
             ],
             {
              "frame": {
               "duration": 0,
               "redraw": false
              },
              "fromcurrent": true,
              "mode": "immediate",
              "transition": {
               "duration": 0,
               "easing": "linear"
              }
             }
            ],
            "label": "2014",
            "method": "animate"
           },
           {
            "args": [
             [
              "2015"
             ],
             {
              "frame": {
               "duration": 0,
               "redraw": false
              },
              "fromcurrent": true,
              "mode": "immediate",
              "transition": {
               "duration": 0,
               "easing": "linear"
              }
             }
            ],
            "label": "2015",
            "method": "animate"
           },
           {
            "args": [
             [
              "2016"
             ],
             {
              "frame": {
               "duration": 0,
               "redraw": false
              },
              "fromcurrent": true,
              "mode": "immediate",
              "transition": {
               "duration": 0,
               "easing": "linear"
              }
             }
            ],
            "label": "2016",
            "method": "animate"
           },
           {
            "args": [
             [
              "2017"
             ],
             {
              "frame": {
               "duration": 0,
               "redraw": false
              },
              "fromcurrent": true,
              "mode": "immediate",
              "transition": {
               "duration": 0,
               "easing": "linear"
              }
             }
            ],
            "label": "2017",
            "method": "animate"
           },
           {
            "args": [
             [
              "2018"
             ],
             {
              "frame": {
               "duration": 0,
               "redraw": false
              },
              "fromcurrent": true,
              "mode": "immediate",
              "transition": {
               "duration": 0,
               "easing": "linear"
              }
             }
            ],
            "label": "2018",
            "method": "animate"
           }
          ],
          "x": 0.1,
          "xanchor": "left",
          "y": 0,
          "yanchor": "top"
         }
        ],
        "template": {
         "data": {
          "bar": [
           {
            "error_x": {
             "color": "#2a3f5f"
            },
            "error_y": {
             "color": "#2a3f5f"
            },
            "marker": {
             "line": {
              "color": "#E5ECF6",
              "width": 0.5
             }
            },
            "type": "bar"
           }
          ],
          "barpolar": [
           {
            "marker": {
             "line": {
              "color": "#E5ECF6",
              "width": 0.5
             }
            },
            "type": "barpolar"
           }
          ],
          "carpet": [
           {
            "aaxis": {
             "endlinecolor": "#2a3f5f",
             "gridcolor": "white",
             "linecolor": "white",
             "minorgridcolor": "white",
             "startlinecolor": "#2a3f5f"
            },
            "baxis": {
             "endlinecolor": "#2a3f5f",
             "gridcolor": "white",
             "linecolor": "white",
             "minorgridcolor": "white",
             "startlinecolor": "#2a3f5f"
            },
            "type": "carpet"
           }
          ],
          "choropleth": [
           {
            "colorbar": {
             "outlinewidth": 0,
             "ticks": ""
            },
            "type": "choropleth"
           }
          ],
          "contour": [
           {
            "colorbar": {
             "outlinewidth": 0,
             "ticks": ""
            },
            "colorscale": [
             [
              0,
              "#0d0887"
             ],
             [
              0.1111111111111111,
              "#46039f"
             ],
             [
              0.2222222222222222,
              "#7201a8"
             ],
             [
              0.3333333333333333,
              "#9c179e"
             ],
             [
              0.4444444444444444,
              "#bd3786"
             ],
             [
              0.5555555555555556,
              "#d8576b"
             ],
             [
              0.6666666666666666,
              "#ed7953"
             ],
             [
              0.7777777777777778,
              "#fb9f3a"
             ],
             [
              0.8888888888888888,
              "#fdca26"
             ],
             [
              1,
              "#f0f921"
             ]
            ],
            "type": "contour"
           }
          ],
          "contourcarpet": [
           {
            "colorbar": {
             "outlinewidth": 0,
             "ticks": ""
            },
            "type": "contourcarpet"
           }
          ],
          "heatmap": [
           {
            "colorbar": {
             "outlinewidth": 0,
             "ticks": ""
            },
            "colorscale": [
             [
              0,
              "#0d0887"
             ],
             [
              0.1111111111111111,
              "#46039f"
             ],
             [
              0.2222222222222222,
              "#7201a8"
             ],
             [
              0.3333333333333333,
              "#9c179e"
             ],
             [
              0.4444444444444444,
              "#bd3786"
             ],
             [
              0.5555555555555556,
              "#d8576b"
             ],
             [
              0.6666666666666666,
              "#ed7953"
             ],
             [
              0.7777777777777778,
              "#fb9f3a"
             ],
             [
              0.8888888888888888,
              "#fdca26"
             ],
             [
              1,
              "#f0f921"
             ]
            ],
            "type": "heatmap"
           }
          ],
          "heatmapgl": [
           {
            "colorbar": {
             "outlinewidth": 0,
             "ticks": ""
            },
            "colorscale": [
             [
              0,
              "#0d0887"
             ],
             [
              0.1111111111111111,
              "#46039f"
             ],
             [
              0.2222222222222222,
              "#7201a8"
             ],
             [
              0.3333333333333333,
              "#9c179e"
             ],
             [
              0.4444444444444444,
              "#bd3786"
             ],
             [
              0.5555555555555556,
              "#d8576b"
             ],
             [
              0.6666666666666666,
              "#ed7953"
             ],
             [
              0.7777777777777778,
              "#fb9f3a"
             ],
             [
              0.8888888888888888,
              "#fdca26"
             ],
             [
              1,
              "#f0f921"
             ]
            ],
            "type": "heatmapgl"
           }
          ],
          "histogram": [
           {
            "marker": {
             "colorbar": {
              "outlinewidth": 0,
              "ticks": ""
             }
            },
            "type": "histogram"
           }
          ],
          "histogram2d": [
           {
            "colorbar": {
             "outlinewidth": 0,
             "ticks": ""
            },
            "colorscale": [
             [
              0,
              "#0d0887"
             ],
             [
              0.1111111111111111,
              "#46039f"
             ],
             [
              0.2222222222222222,
              "#7201a8"
             ],
             [
              0.3333333333333333,
              "#9c179e"
             ],
             [
              0.4444444444444444,
              "#bd3786"
             ],
             [
              0.5555555555555556,
              "#d8576b"
             ],
             [
              0.6666666666666666,
              "#ed7953"
             ],
             [
              0.7777777777777778,
              "#fb9f3a"
             ],
             [
              0.8888888888888888,
              "#fdca26"
             ],
             [
              1,
              "#f0f921"
             ]
            ],
            "type": "histogram2d"
           }
          ],
          "histogram2dcontour": [
           {
            "colorbar": {
             "outlinewidth": 0,
             "ticks": ""
            },
            "colorscale": [
             [
              0,
              "#0d0887"
             ],
             [
              0.1111111111111111,
              "#46039f"
             ],
             [
              0.2222222222222222,
              "#7201a8"
             ],
             [
              0.3333333333333333,
              "#9c179e"
             ],
             [
              0.4444444444444444,
              "#bd3786"
             ],
             [
              0.5555555555555556,
              "#d8576b"
             ],
             [
              0.6666666666666666,
              "#ed7953"
             ],
             [
              0.7777777777777778,
              "#fb9f3a"
             ],
             [
              0.8888888888888888,
              "#fdca26"
             ],
             [
              1,
              "#f0f921"
             ]
            ],
            "type": "histogram2dcontour"
           }
          ],
          "mesh3d": [
           {
            "colorbar": {
             "outlinewidth": 0,
             "ticks": ""
            },
            "type": "mesh3d"
           }
          ],
          "parcoords": [
           {
            "line": {
             "colorbar": {
              "outlinewidth": 0,
              "ticks": ""
             }
            },
            "type": "parcoords"
           }
          ],
          "pie": [
           {
            "automargin": true,
            "type": "pie"
           }
          ],
          "scatter": [
           {
            "marker": {
             "colorbar": {
              "outlinewidth": 0,
              "ticks": ""
             }
            },
            "type": "scatter"
           }
          ],
          "scatter3d": [
           {
            "line": {
             "colorbar": {
              "outlinewidth": 0,
              "ticks": ""
             }
            },
            "marker": {
             "colorbar": {
              "outlinewidth": 0,
              "ticks": ""
             }
            },
            "type": "scatter3d"
           }
          ],
          "scattercarpet": [
           {
            "marker": {
             "colorbar": {
              "outlinewidth": 0,
              "ticks": ""
             }
            },
            "type": "scattercarpet"
           }
          ],
          "scattergeo": [
           {
            "marker": {
             "colorbar": {
              "outlinewidth": 0,
              "ticks": ""
             }
            },
            "type": "scattergeo"
           }
          ],
          "scattergl": [
           {
            "marker": {
             "colorbar": {
              "outlinewidth": 0,
              "ticks": ""
             }
            },
            "type": "scattergl"
           }
          ],
          "scattermapbox": [
           {
            "marker": {
             "colorbar": {
              "outlinewidth": 0,
              "ticks": ""
             }
            },
            "type": "scattermapbox"
           }
          ],
          "scatterpolar": [
           {
            "marker": {
             "colorbar": {
              "outlinewidth": 0,
              "ticks": ""
             }
            },
            "type": "scatterpolar"
           }
          ],
          "scatterpolargl": [
           {
            "marker": {
             "colorbar": {
              "outlinewidth": 0,
              "ticks": ""
             }
            },
            "type": "scatterpolargl"
           }
          ],
          "scatterternary": [
           {
            "marker": {
             "colorbar": {
              "outlinewidth": 0,
              "ticks": ""
             }
            },
            "type": "scatterternary"
           }
          ],
          "surface": [
           {
            "colorbar": {
             "outlinewidth": 0,
             "ticks": ""
            },
            "colorscale": [
             [
              0,
              "#0d0887"
             ],
             [
              0.1111111111111111,
              "#46039f"
             ],
             [
              0.2222222222222222,
              "#7201a8"
             ],
             [
              0.3333333333333333,
              "#9c179e"
             ],
             [
              0.4444444444444444,
              "#bd3786"
             ],
             [
              0.5555555555555556,
              "#d8576b"
             ],
             [
              0.6666666666666666,
              "#ed7953"
             ],
             [
              0.7777777777777778,
              "#fb9f3a"
             ],
             [
              0.8888888888888888,
              "#fdca26"
             ],
             [
              1,
              "#f0f921"
             ]
            ],
            "type": "surface"
           }
          ],
          "table": [
           {
            "cells": {
             "fill": {
              "color": "#EBF0F8"
             },
             "line": {
              "color": "white"
             }
            },
            "header": {
             "fill": {
              "color": "#C8D4E3"
             },
             "line": {
              "color": "white"
             }
            },
            "type": "table"
           }
          ]
         },
         "layout": {
          "annotationdefaults": {
           "arrowcolor": "#2a3f5f",
           "arrowhead": 0,
           "arrowwidth": 1
          },
          "coloraxis": {
           "colorbar": {
            "outlinewidth": 0,
            "ticks": ""
           }
          },
          "colorscale": {
           "diverging": [
            [
             0,
             "#8e0152"
            ],
            [
             0.1,
             "#c51b7d"
            ],
            [
             0.2,
             "#de77ae"
            ],
            [
             0.3,
             "#f1b6da"
            ],
            [
             0.4,
             "#fde0ef"
            ],
            [
             0.5,
             "#f7f7f7"
            ],
            [
             0.6,
             "#e6f5d0"
            ],
            [
             0.7,
             "#b8e186"
            ],
            [
             0.8,
             "#7fbc41"
            ],
            [
             0.9,
             "#4d9221"
            ],
            [
             1,
             "#276419"
            ]
           ],
           "sequential": [
            [
             0,
             "#0d0887"
            ],
            [
             0.1111111111111111,
             "#46039f"
            ],
            [
             0.2222222222222222,
             "#7201a8"
            ],
            [
             0.3333333333333333,
             "#9c179e"
            ],
            [
             0.4444444444444444,
             "#bd3786"
            ],
            [
             0.5555555555555556,
             "#d8576b"
            ],
            [
             0.6666666666666666,
             "#ed7953"
            ],
            [
             0.7777777777777778,
             "#fb9f3a"
            ],
            [
             0.8888888888888888,
             "#fdca26"
            ],
            [
             1,
             "#f0f921"
            ]
           ],
           "sequentialminus": [
            [
             0,
             "#0d0887"
            ],
            [
             0.1111111111111111,
             "#46039f"
            ],
            [
             0.2222222222222222,
             "#7201a8"
            ],
            [
             0.3333333333333333,
             "#9c179e"
            ],
            [
             0.4444444444444444,
             "#bd3786"
            ],
            [
             0.5555555555555556,
             "#d8576b"
            ],
            [
             0.6666666666666666,
             "#ed7953"
            ],
            [
             0.7777777777777778,
             "#fb9f3a"
            ],
            [
             0.8888888888888888,
             "#fdca26"
            ],
            [
             1,
             "#f0f921"
            ]
           ]
          },
          "colorway": [
           "#636efa",
           "#EF553B",
           "#00cc96",
           "#ab63fa",
           "#FFA15A",
           "#19d3f3",
           "#FF6692",
           "#B6E880",
           "#FF97FF",
           "#FECB52"
          ],
          "font": {
           "color": "#2a3f5f"
          },
          "geo": {
           "bgcolor": "white",
           "lakecolor": "white",
           "landcolor": "#E5ECF6",
           "showlakes": true,
           "showland": true,
           "subunitcolor": "white"
          },
          "hoverlabel": {
           "align": "left"
          },
          "hovermode": "closest",
          "mapbox": {
           "style": "light"
          },
          "paper_bgcolor": "white",
          "plot_bgcolor": "#E5ECF6",
          "polar": {
           "angularaxis": {
            "gridcolor": "white",
            "linecolor": "white",
            "ticks": ""
           },
           "bgcolor": "#E5ECF6",
           "radialaxis": {
            "gridcolor": "white",
            "linecolor": "white",
            "ticks": ""
           }
          },
          "scene": {
           "xaxis": {
            "backgroundcolor": "#E5ECF6",
            "gridcolor": "white",
            "gridwidth": 2,
            "linecolor": "white",
            "showbackground": true,
            "ticks": "",
            "zerolinecolor": "white"
           },
           "yaxis": {
            "backgroundcolor": "#E5ECF6",
            "gridcolor": "white",
            "gridwidth": 2,
            "linecolor": "white",
            "showbackground": true,
            "ticks": "",
            "zerolinecolor": "white"
           },
           "zaxis": {
            "backgroundcolor": "#E5ECF6",
            "gridcolor": "white",
            "gridwidth": 2,
            "linecolor": "white",
            "showbackground": true,
            "ticks": "",
            "zerolinecolor": "white"
           }
          },
          "shapedefaults": {
           "line": {
            "color": "#2a3f5f"
           }
          },
          "ternary": {
           "aaxis": {
            "gridcolor": "white",
            "linecolor": "white",
            "ticks": ""
           },
           "baxis": {
            "gridcolor": "white",
            "linecolor": "white",
            "ticks": ""
           },
           "bgcolor": "#E5ECF6",
           "caxis": {
            "gridcolor": "white",
            "linecolor": "white",
            "ticks": ""
           }
          },
          "title": {
           "x": 0.05
          },
          "xaxis": {
           "automargin": true,
           "gridcolor": "white",
           "linecolor": "white",
           "ticks": "",
           "title": {
            "standoff": 15
           },
           "zerolinecolor": "white",
           "zerolinewidth": 2
          },
          "yaxis": {
           "automargin": true,
           "gridcolor": "white",
           "linecolor": "white",
           "ticks": "",
           "title": {
            "standoff": 15
           },
           "zerolinecolor": "white",
           "zerolinewidth": 2
          }
         }
        },
        "updatemenus": [
         {
          "buttons": [
           {
            "args": [
             null,
             {
              "frame": {
               "duration": 500,
               "redraw": false
              },
              "fromcurrent": true,
              "mode": "immediate",
              "transition": {
               "duration": 500,
               "easing": "linear"
              }
             }
            ],
            "label": "&#9654;",
            "method": "animate"
           },
           {
            "args": [
             [
              null
             ],
             {
              "frame": {
               "duration": 0,
               "redraw": false
              },
              "fromcurrent": true,
              "mode": "immediate",
              "transition": {
               "duration": 0,
               "easing": "linear"
              }
             }
            ],
            "label": "&#9724;",
            "method": "animate"
           }
          ],
          "direction": "left",
          "pad": {
           "r": 10,
           "t": 70
          },
          "showactive": false,
          "type": "buttons",
          "x": 0.1,
          "xanchor": "right",
          "y": 0,
          "yanchor": "top"
         }
        ],
        "xaxis": {
         "anchor": "y",
         "categoryarray": [
          2009,
          2010,
          2011,
          2012,
          2013,
          2014,
          2015,
          2016,
          2017,
          2018
         ],
         "categoryorder": "array",
         "domain": [
          0,
          1
         ],
         "range": [
          3.3027637084729813,
          3.305136318943639
         ],
         "title": {
          "text": "Years"
         },
         "type": "log"
        },
        "yaxis": {
         "anchor": "x",
         "domain": [
          0,
          1
         ],
         "range": [
          0,
          500000
         ],
         "title": {
          "text": "Employment"
         }
        }
       }
      },
      "text/html": [
       "<div>\n",
       "        \n",
       "        \n",
       "            <div id=\"ca8b5057-b219-4b01-a8c5-4cf86778691f\" class=\"plotly-graph-div\" style=\"height:525px; width:100%;\"></div>\n",
       "            <script type=\"text/javascript\">\n",
       "                require([\"plotly\"], function(Plotly) {\n",
       "                    window.PLOTLYENV=window.PLOTLYENV || {};\n",
       "                    \n",
       "                if (document.getElementById(\"ca8b5057-b219-4b01-a8c5-4cf86778691f\")) {\n",
       "                    Plotly.newPlot(\n",
       "                        'ca8b5057-b219-4b01-a8c5-4cf86778691f',\n",
       "                        [{\"hovertemplate\": \"<b>%{hovertext}</b><br><br>Industry=Agriculture<br>Years=%{x}<br>Employment=%{marker.size}<extra></extra>\", \"hovertext\": [37700.0], \"ids\": [\"Agriculture\"], \"legendgroup\": \"Agriculture\", \"marker\": {\"color\": \"#636efa\", \"size\": [37700], \"sizemode\": \"area\", \"sizeref\": 214.76543209876544, \"symbol\": \"circle\"}, \"mode\": \"markers\", \"name\": \"Agriculture\", \"showlegend\": true, \"type\": \"scatter\", \"x\": [2009], \"xaxis\": \"x\", \"y\": [37700], \"yaxis\": \"y\"}, {\"hovertemplate\": \"<b>%{hovertext}</b><br><br>Industry=Production<br>Years=%{x}<br>Employment=%{marker.size}<extra></extra>\", \"hovertext\": [156700.0], \"ids\": [\"Production\"], \"legendgroup\": \"Production\", \"marker\": {\"color\": \"#EF553B\", \"size\": [156700], \"sizemode\": \"area\", \"sizeref\": 214.76543209876544, \"symbol\": \"circle\"}, \"mode\": \"markers\", \"name\": \"Production\", \"showlegend\": true, \"type\": \"scatter\", \"x\": [2009], \"xaxis\": \"x\", \"y\": [156700], \"yaxis\": \"y\"}, {\"hovertemplate\": \"<b>%{hovertext}</b><br><br>Industry=Construction<br>Years=%{x}<br>Employment=%{marker.size}<extra></extra>\", \"hovertext\": [96600.0], \"ids\": [\"Construction\"], \"legendgroup\": \"Construction\", \"marker\": {\"color\": \"#00cc96\", \"size\": [96600], \"sizemode\": \"area\", \"sizeref\": 214.76543209876544, \"symbol\": \"circle\"}, \"mode\": \"markers\", \"name\": \"Construction\", \"showlegend\": true, \"type\": \"scatter\", \"x\": [2009], \"xaxis\": \"x\", \"y\": [96600], \"yaxis\": \"y\"}, {\"hovertemplate\": \"<b>%{hovertext}</b><br><br>Industry=Retail<br>Years=%{x}<br>Employment=%{marker.size}<extra></extra>\", \"hovertext\": [345400.0], \"ids\": [\"Retail\"], \"legendgroup\": \"Retail\", \"marker\": {\"color\": \"#ab63fa\", \"size\": [345400], \"sizemode\": \"area\", \"sizeref\": 214.76543209876544, \"symbol\": \"circle\"}, \"mode\": \"markers\", \"name\": \"Retail\", \"showlegend\": true, \"type\": \"scatter\", \"x\": [2009], \"xaxis\": \"x\", \"y\": [345400], \"yaxis\": \"y\"}, {\"hovertemplate\": \"<b>%{hovertext}</b><br><br>Industry=ICT<br>Years=%{x}<br>Employment=%{marker.size}<extra></extra>\", \"hovertext\": [27800.0], \"ids\": [\"ICT\"], \"legendgroup\": \"ICT\", \"marker\": {\"color\": \"#FFA15A\", \"size\": [27800], \"sizemode\": \"area\", \"sizeref\": 214.76543209876544, \"symbol\": \"circle\"}, \"mode\": \"markers\", \"name\": \"ICT\", \"showlegend\": true, \"type\": \"scatter\", \"x\": [2009], \"xaxis\": \"x\", \"y\": [27800], \"yaxis\": \"y\"}, {\"hovertemplate\": \"<b>%{hovertext}</b><br><br>Industry=Finance<br>Years=%{x}<br>Employment=%{marker.size}<extra></extra>\", \"hovertext\": [33800.0], \"ids\": [\"Finance\"], \"legendgroup\": \"Finance\", \"marker\": {\"color\": \"#19d3f3\", \"size\": [33800], \"sizemode\": \"area\", \"sizeref\": 214.76543209876544, \"symbol\": \"circle\"}, \"mode\": \"markers\", \"name\": \"Finance\", \"showlegend\": true, \"type\": \"scatter\", \"x\": [2009], \"xaxis\": \"x\", \"y\": [33800], \"yaxis\": \"y\"}, {\"hovertemplate\": \"<b>%{hovertext}</b><br><br>Industry=Real_Estate<br>Years=%{x}<br>Employment=%{marker.size}<extra></extra>\", \"hovertext\": [13500.0], \"ids\": [\"Real_Estate\"], \"legendgroup\": \"Real_Estate\", \"marker\": {\"color\": \"#FF6692\", \"size\": [13500], \"sizemode\": \"area\", \"sizeref\": 214.76543209876544, \"symbol\": \"circle\"}, \"mode\": \"markers\", \"name\": \"Real_Estate\", \"showlegend\": true, \"type\": \"scatter\", \"x\": [2009], \"xaxis\": \"x\", \"y\": [13500], \"yaxis\": \"y\"}, {\"hovertemplate\": \"<b>%{hovertext}</b><br><br>Industry=Professional_Service<br>Years=%{x}<br>Employment=%{marker.size}<extra></extra>\", \"hovertext\": [144800.0], \"ids\": [\"Professional_Service\"], \"legendgroup\": \"Professional_Service\", \"marker\": {\"color\": \"#B6E880\", \"size\": [144800], \"sizemode\": \"area\", \"sizeref\": 214.76543209876544, \"symbol\": \"circle\"}, \"mode\": \"markers\", \"name\": \"Professional_Service\", \"showlegend\": true, \"type\": \"scatter\", \"x\": [2009], \"xaxis\": \"x\", \"y\": [144800], \"yaxis\": \"y\"}, {\"hovertemplate\": \"<b>%{hovertext}</b><br><br>Industry=Public_Adminstration <br>Years=%{x}<br>Employment=%{marker.size}<extra></extra>\", \"hovertext\": [415600.0], \"ids\": [\"Public_Adminstration \"], \"legendgroup\": \"Public_Adminstration \", \"marker\": {\"color\": \"#FF97FF\", \"size\": [415600], \"sizemode\": \"area\", \"sizeref\": 214.76543209876544, \"symbol\": \"circle\"}, \"mode\": \"markers\", \"name\": \"Public_Adminstration \", \"showlegend\": true, \"type\": \"scatter\", \"x\": [2009], \"xaxis\": \"x\", \"y\": [415600], \"yaxis\": \"y\"}, {\"hovertemplate\": \"<b>%{hovertext}</b><br><br>Industry=Other_Service<br>Years=%{x}<br>Employment=%{marker.size}<extra></extra>\", \"hovertext\": [64200.0], \"ids\": [\"Other_Service\"], \"legendgroup\": \"Other_Service\", \"marker\": {\"color\": \"#FECB52\", \"size\": [64200], \"sizemode\": \"area\", \"sizeref\": 214.76543209876544, \"symbol\": \"circle\"}, \"mode\": \"markers\", \"name\": \"Other_Service\", \"showlegend\": true, \"type\": \"scatter\", \"x\": [2009], \"xaxis\": \"x\", \"y\": [64200], \"yaxis\": \"y\"}],\n",
       "                        {\"legend\": {\"itemsizing\": \"constant\", \"title\": {\"text\": \"Industry\"}, \"tracegroupgap\": 0}, \"margin\": {\"t\": 60}, \"sliders\": [{\"active\": 0, \"currentvalue\": {\"prefix\": \"Years=\"}, \"len\": 0.9, \"pad\": {\"b\": 10, \"t\": 60}, \"steps\": [{\"args\": [[\"2009\"], {\"frame\": {\"duration\": 0, \"redraw\": false}, \"fromcurrent\": true, \"mode\": \"immediate\", \"transition\": {\"duration\": 0, \"easing\": \"linear\"}}], \"label\": \"2009\", \"method\": \"animate\"}, {\"args\": [[\"2010\"], {\"frame\": {\"duration\": 0, \"redraw\": false}, \"fromcurrent\": true, \"mode\": \"immediate\", \"transition\": {\"duration\": 0, \"easing\": \"linear\"}}], \"label\": \"2010\", \"method\": \"animate\"}, {\"args\": [[\"2011\"], {\"frame\": {\"duration\": 0, \"redraw\": false}, \"fromcurrent\": true, \"mode\": \"immediate\", \"transition\": {\"duration\": 0, \"easing\": \"linear\"}}], \"label\": \"2011\", \"method\": \"animate\"}, {\"args\": [[\"2012\"], {\"frame\": {\"duration\": 0, \"redraw\": false}, \"fromcurrent\": true, \"mode\": \"immediate\", \"transition\": {\"duration\": 0, \"easing\": \"linear\"}}], \"label\": \"2012\", \"method\": \"animate\"}, {\"args\": [[\"2013\"], {\"frame\": {\"duration\": 0, \"redraw\": false}, \"fromcurrent\": true, \"mode\": \"immediate\", \"transition\": {\"duration\": 0, \"easing\": \"linear\"}}], \"label\": \"2013\", \"method\": \"animate\"}, {\"args\": [[\"2014\"], {\"frame\": {\"duration\": 0, \"redraw\": false}, \"fromcurrent\": true, \"mode\": \"immediate\", \"transition\": {\"duration\": 0, \"easing\": \"linear\"}}], \"label\": \"2014\", \"method\": \"animate\"}, {\"args\": [[\"2015\"], {\"frame\": {\"duration\": 0, \"redraw\": false}, \"fromcurrent\": true, \"mode\": \"immediate\", \"transition\": {\"duration\": 0, \"easing\": \"linear\"}}], \"label\": \"2015\", \"method\": \"animate\"}, {\"args\": [[\"2016\"], {\"frame\": {\"duration\": 0, \"redraw\": false}, \"fromcurrent\": true, \"mode\": \"immediate\", \"transition\": {\"duration\": 0, \"easing\": \"linear\"}}], \"label\": \"2016\", \"method\": \"animate\"}, {\"args\": [[\"2017\"], {\"frame\": {\"duration\": 0, \"redraw\": false}, \"fromcurrent\": true, \"mode\": \"immediate\", \"transition\": {\"duration\": 0, \"easing\": \"linear\"}}], \"label\": \"2017\", \"method\": \"animate\"}, {\"args\": [[\"2018\"], {\"frame\": {\"duration\": 0, \"redraw\": false}, \"fromcurrent\": true, \"mode\": \"immediate\", \"transition\": {\"duration\": 0, \"easing\": \"linear\"}}], \"label\": \"2018\", \"method\": \"animate\"}], \"x\": 0.1, \"xanchor\": \"left\", \"y\": 0, \"yanchor\": \"top\"}], \"template\": {\"data\": {\"bar\": [{\"error_x\": {\"color\": \"#2a3f5f\"}, \"error_y\": {\"color\": \"#2a3f5f\"}, \"marker\": {\"line\": {\"color\": \"#E5ECF6\", \"width\": 0.5}}, \"type\": \"bar\"}], \"barpolar\": [{\"marker\": {\"line\": {\"color\": \"#E5ECF6\", \"width\": 0.5}}, \"type\": \"barpolar\"}], \"carpet\": [{\"aaxis\": {\"endlinecolor\": \"#2a3f5f\", \"gridcolor\": \"white\", \"linecolor\": \"white\", \"minorgridcolor\": \"white\", \"startlinecolor\": \"#2a3f5f\"}, \"baxis\": {\"endlinecolor\": \"#2a3f5f\", \"gridcolor\": \"white\", \"linecolor\": \"white\", \"minorgridcolor\": \"white\", \"startlinecolor\": \"#2a3f5f\"}, \"type\": \"carpet\"}], \"choropleth\": [{\"colorbar\": {\"outlinewidth\": 0, \"ticks\": \"\"}, \"type\": \"choropleth\"}], \"contour\": [{\"colorbar\": {\"outlinewidth\": 0, \"ticks\": \"\"}, \"colorscale\": [[0.0, \"#0d0887\"], [0.1111111111111111, \"#46039f\"], [0.2222222222222222, \"#7201a8\"], [0.3333333333333333, \"#9c179e\"], [0.4444444444444444, \"#bd3786\"], [0.5555555555555556, \"#d8576b\"], [0.6666666666666666, \"#ed7953\"], [0.7777777777777778, \"#fb9f3a\"], [0.8888888888888888, \"#fdca26\"], [1.0, \"#f0f921\"]], \"type\": \"contour\"}], \"contourcarpet\": [{\"colorbar\": {\"outlinewidth\": 0, \"ticks\": \"\"}, \"type\": \"contourcarpet\"}], \"heatmap\": [{\"colorbar\": {\"outlinewidth\": 0, \"ticks\": \"\"}, \"colorscale\": [[0.0, \"#0d0887\"], [0.1111111111111111, \"#46039f\"], [0.2222222222222222, \"#7201a8\"], [0.3333333333333333, \"#9c179e\"], [0.4444444444444444, \"#bd3786\"], [0.5555555555555556, \"#d8576b\"], [0.6666666666666666, \"#ed7953\"], [0.7777777777777778, \"#fb9f3a\"], [0.8888888888888888, \"#fdca26\"], [1.0, \"#f0f921\"]], \"type\": \"heatmap\"}], \"heatmapgl\": [{\"colorbar\": {\"outlinewidth\": 0, \"ticks\": \"\"}, \"colorscale\": [[0.0, \"#0d0887\"], [0.1111111111111111, \"#46039f\"], [0.2222222222222222, \"#7201a8\"], [0.3333333333333333, \"#9c179e\"], [0.4444444444444444, \"#bd3786\"], [0.5555555555555556, \"#d8576b\"], [0.6666666666666666, \"#ed7953\"], [0.7777777777777778, \"#fb9f3a\"], [0.8888888888888888, \"#fdca26\"], [1.0, \"#f0f921\"]], \"type\": \"heatmapgl\"}], \"histogram\": [{\"marker\": {\"colorbar\": {\"outlinewidth\": 0, \"ticks\": \"\"}}, \"type\": \"histogram\"}], \"histogram2d\": [{\"colorbar\": {\"outlinewidth\": 0, \"ticks\": \"\"}, \"colorscale\": [[0.0, \"#0d0887\"], [0.1111111111111111, \"#46039f\"], [0.2222222222222222, \"#7201a8\"], [0.3333333333333333, \"#9c179e\"], [0.4444444444444444, \"#bd3786\"], [0.5555555555555556, \"#d8576b\"], [0.6666666666666666, \"#ed7953\"], [0.7777777777777778, \"#fb9f3a\"], [0.8888888888888888, \"#fdca26\"], [1.0, \"#f0f921\"]], \"type\": \"histogram2d\"}], \"histogram2dcontour\": [{\"colorbar\": {\"outlinewidth\": 0, \"ticks\": \"\"}, \"colorscale\": [[0.0, \"#0d0887\"], [0.1111111111111111, \"#46039f\"], [0.2222222222222222, \"#7201a8\"], [0.3333333333333333, \"#9c179e\"], [0.4444444444444444, \"#bd3786\"], [0.5555555555555556, \"#d8576b\"], [0.6666666666666666, \"#ed7953\"], [0.7777777777777778, \"#fb9f3a\"], [0.8888888888888888, \"#fdca26\"], [1.0, \"#f0f921\"]], \"type\": \"histogram2dcontour\"}], \"mesh3d\": [{\"colorbar\": {\"outlinewidth\": 0, \"ticks\": \"\"}, \"type\": \"mesh3d\"}], \"parcoords\": [{\"line\": {\"colorbar\": {\"outlinewidth\": 0, \"ticks\": \"\"}}, \"type\": \"parcoords\"}], \"pie\": [{\"automargin\": true, \"type\": \"pie\"}], \"scatter\": [{\"marker\": {\"colorbar\": {\"outlinewidth\": 0, \"ticks\": \"\"}}, \"type\": \"scatter\"}], \"scatter3d\": [{\"line\": {\"colorbar\": {\"outlinewidth\": 0, \"ticks\": \"\"}}, \"marker\": {\"colorbar\": {\"outlinewidth\": 0, \"ticks\": \"\"}}, \"type\": \"scatter3d\"}], \"scattercarpet\": [{\"marker\": {\"colorbar\": {\"outlinewidth\": 0, \"ticks\": \"\"}}, \"type\": \"scattercarpet\"}], \"scattergeo\": [{\"marker\": {\"colorbar\": {\"outlinewidth\": 0, \"ticks\": \"\"}}, \"type\": \"scattergeo\"}], \"scattergl\": [{\"marker\": {\"colorbar\": {\"outlinewidth\": 0, \"ticks\": \"\"}}, \"type\": \"scattergl\"}], \"scattermapbox\": [{\"marker\": {\"colorbar\": {\"outlinewidth\": 0, \"ticks\": \"\"}}, \"type\": \"scattermapbox\"}], \"scatterpolar\": [{\"marker\": {\"colorbar\": {\"outlinewidth\": 0, \"ticks\": \"\"}}, \"type\": \"scatterpolar\"}], \"scatterpolargl\": [{\"marker\": {\"colorbar\": {\"outlinewidth\": 0, \"ticks\": \"\"}}, \"type\": \"scatterpolargl\"}], \"scatterternary\": [{\"marker\": {\"colorbar\": {\"outlinewidth\": 0, \"ticks\": \"\"}}, \"type\": \"scatterternary\"}], \"surface\": [{\"colorbar\": {\"outlinewidth\": 0, \"ticks\": \"\"}, \"colorscale\": [[0.0, \"#0d0887\"], [0.1111111111111111, \"#46039f\"], [0.2222222222222222, \"#7201a8\"], [0.3333333333333333, \"#9c179e\"], [0.4444444444444444, \"#bd3786\"], [0.5555555555555556, \"#d8576b\"], [0.6666666666666666, \"#ed7953\"], [0.7777777777777778, \"#fb9f3a\"], [0.8888888888888888, \"#fdca26\"], [1.0, \"#f0f921\"]], \"type\": \"surface\"}], \"table\": [{\"cells\": {\"fill\": {\"color\": \"#EBF0F8\"}, \"line\": {\"color\": \"white\"}}, \"header\": {\"fill\": {\"color\": \"#C8D4E3\"}, \"line\": {\"color\": \"white\"}}, \"type\": \"table\"}]}, \"layout\": {\"annotationdefaults\": {\"arrowcolor\": \"#2a3f5f\", \"arrowhead\": 0, \"arrowwidth\": 1}, \"coloraxis\": {\"colorbar\": {\"outlinewidth\": 0, \"ticks\": \"\"}}, \"colorscale\": {\"diverging\": [[0, \"#8e0152\"], [0.1, \"#c51b7d\"], [0.2, \"#de77ae\"], [0.3, \"#f1b6da\"], [0.4, \"#fde0ef\"], [0.5, \"#f7f7f7\"], [0.6, \"#e6f5d0\"], [0.7, \"#b8e186\"], [0.8, \"#7fbc41\"], [0.9, \"#4d9221\"], [1, \"#276419\"]], \"sequential\": [[0.0, \"#0d0887\"], [0.1111111111111111, \"#46039f\"], [0.2222222222222222, \"#7201a8\"], [0.3333333333333333, \"#9c179e\"], [0.4444444444444444, \"#bd3786\"], [0.5555555555555556, \"#d8576b\"], [0.6666666666666666, \"#ed7953\"], [0.7777777777777778, \"#fb9f3a\"], [0.8888888888888888, \"#fdca26\"], [1.0, \"#f0f921\"]], \"sequentialminus\": [[0.0, \"#0d0887\"], [0.1111111111111111, \"#46039f\"], [0.2222222222222222, \"#7201a8\"], [0.3333333333333333, \"#9c179e\"], [0.4444444444444444, \"#bd3786\"], [0.5555555555555556, \"#d8576b\"], [0.6666666666666666, \"#ed7953\"], [0.7777777777777778, \"#fb9f3a\"], [0.8888888888888888, \"#fdca26\"], [1.0, \"#f0f921\"]]}, \"colorway\": [\"#636efa\", \"#EF553B\", \"#00cc96\", \"#ab63fa\", \"#FFA15A\", \"#19d3f3\", \"#FF6692\", \"#B6E880\", \"#FF97FF\", \"#FECB52\"], \"font\": {\"color\": \"#2a3f5f\"}, \"geo\": {\"bgcolor\": \"white\", \"lakecolor\": \"white\", \"landcolor\": \"#E5ECF6\", \"showlakes\": true, \"showland\": true, \"subunitcolor\": \"white\"}, \"hoverlabel\": {\"align\": \"left\"}, \"hovermode\": \"closest\", \"mapbox\": {\"style\": \"light\"}, \"paper_bgcolor\": \"white\", \"plot_bgcolor\": \"#E5ECF6\", \"polar\": {\"angularaxis\": {\"gridcolor\": \"white\", \"linecolor\": \"white\", \"ticks\": \"\"}, \"bgcolor\": \"#E5ECF6\", \"radialaxis\": {\"gridcolor\": \"white\", \"linecolor\": \"white\", \"ticks\": \"\"}}, \"scene\": {\"xaxis\": {\"backgroundcolor\": \"#E5ECF6\", \"gridcolor\": \"white\", \"gridwidth\": 2, \"linecolor\": \"white\", \"showbackground\": true, \"ticks\": \"\", \"zerolinecolor\": \"white\"}, \"yaxis\": {\"backgroundcolor\": \"#E5ECF6\", \"gridcolor\": \"white\", \"gridwidth\": 2, \"linecolor\": \"white\", \"showbackground\": true, \"ticks\": \"\", \"zerolinecolor\": \"white\"}, \"zaxis\": {\"backgroundcolor\": \"#E5ECF6\", \"gridcolor\": \"white\", \"gridwidth\": 2, \"linecolor\": \"white\", \"showbackground\": true, \"ticks\": \"\", \"zerolinecolor\": \"white\"}}, \"shapedefaults\": {\"line\": {\"color\": \"#2a3f5f\"}}, \"ternary\": {\"aaxis\": {\"gridcolor\": \"white\", \"linecolor\": \"white\", \"ticks\": \"\"}, \"baxis\": {\"gridcolor\": \"white\", \"linecolor\": \"white\", \"ticks\": \"\"}, \"bgcolor\": \"#E5ECF6\", \"caxis\": {\"gridcolor\": \"white\", \"linecolor\": \"white\", \"ticks\": \"\"}}, \"title\": {\"x\": 0.05}, \"xaxis\": {\"automargin\": true, \"gridcolor\": \"white\", \"linecolor\": \"white\", \"ticks\": \"\", \"title\": {\"standoff\": 15}, \"zerolinecolor\": \"white\", \"zerolinewidth\": 2}, \"yaxis\": {\"automargin\": true, \"gridcolor\": \"white\", \"linecolor\": \"white\", \"ticks\": \"\", \"title\": {\"standoff\": 15}, \"zerolinecolor\": \"white\", \"zerolinewidth\": 2}}}, \"updatemenus\": [{\"buttons\": [{\"args\": [null, {\"frame\": {\"duration\": 500, \"redraw\": false}, \"fromcurrent\": true, \"mode\": \"immediate\", \"transition\": {\"duration\": 500, \"easing\": \"linear\"}}], \"label\": \"&#9654;\", \"method\": \"animate\"}, {\"args\": [[null], {\"frame\": {\"duration\": 0, \"redraw\": false}, \"fromcurrent\": true, \"mode\": \"immediate\", \"transition\": {\"duration\": 0, \"easing\": \"linear\"}}], \"label\": \"&#9724;\", \"method\": \"animate\"}], \"direction\": \"left\", \"pad\": {\"r\": 10, \"t\": 70}, \"showactive\": false, \"type\": \"buttons\", \"x\": 0.1, \"xanchor\": \"right\", \"y\": 0, \"yanchor\": \"top\"}], \"xaxis\": {\"anchor\": \"y\", \"categoryarray\": [2009, 2010, 2011, 2012, 2013, 2014, 2015, 2016, 2017, 2018], \"categoryorder\": \"array\", \"domain\": [0.0, 1.0], \"range\": [3.3027637084729813, 3.305136318943639], \"title\": {\"text\": \"Years\"}, \"type\": \"log\"}, \"yaxis\": {\"anchor\": \"x\", \"domain\": [0.0, 1.0], \"range\": [0, 500000], \"title\": {\"text\": \"Employment\"}}},\n",
       "                        {\"responsive\": true}\n",
       "                    ).then(function(){\n",
       "                            Plotly.addFrames('ca8b5057-b219-4b01-a8c5-4cf86778691f', [{\"data\": [{\"hovertemplate\": \"<b>%{hovertext}</b><br><br>Industry=Agriculture<br>Years=%{x}<br>Employment=%{marker.size}<extra></extra>\", \"hovertext\": [37700.0], \"ids\": [\"Agriculture\"], \"legendgroup\": \"Agriculture\", \"marker\": {\"color\": \"#636efa\", \"size\": [37700], \"sizemode\": \"area\", \"sizeref\": 214.76543209876544, \"symbol\": \"circle\"}, \"mode\": \"markers\", \"name\": \"Agriculture\", \"showlegend\": true, \"x\": [2009], \"xaxis\": \"x\", \"y\": [37700], \"yaxis\": \"y\", \"type\": \"scatter\"}, {\"hovertemplate\": \"<b>%{hovertext}</b><br><br>Industry=Production<br>Years=%{x}<br>Employment=%{marker.size}<extra></extra>\", \"hovertext\": [156700.0], \"ids\": [\"Production\"], \"legendgroup\": \"Production\", \"marker\": {\"color\": \"#EF553B\", \"size\": [156700], \"sizemode\": \"area\", \"sizeref\": 214.76543209876544, \"symbol\": \"circle\"}, \"mode\": \"markers\", \"name\": \"Production\", \"showlegend\": true, \"x\": [2009], \"xaxis\": \"x\", \"y\": [156700], \"yaxis\": \"y\", \"type\": \"scatter\"}, {\"hovertemplate\": \"<b>%{hovertext}</b><br><br>Industry=Construction<br>Years=%{x}<br>Employment=%{marker.size}<extra></extra>\", \"hovertext\": [96600.0], \"ids\": [\"Construction\"], \"legendgroup\": \"Construction\", \"marker\": {\"color\": \"#00cc96\", \"size\": [96600], \"sizemode\": \"area\", \"sizeref\": 214.76543209876544, \"symbol\": \"circle\"}, \"mode\": \"markers\", \"name\": \"Construction\", \"showlegend\": true, \"x\": [2009], \"xaxis\": \"x\", \"y\": [96600], \"yaxis\": \"y\", \"type\": \"scatter\"}, {\"hovertemplate\": \"<b>%{hovertext}</b><br><br>Industry=Retail<br>Years=%{x}<br>Employment=%{marker.size}<extra></extra>\", \"hovertext\": [345400.0], \"ids\": [\"Retail\"], \"legendgroup\": \"Retail\", \"marker\": {\"color\": \"#ab63fa\", \"size\": [345400], \"sizemode\": \"area\", \"sizeref\": 214.76543209876544, \"symbol\": \"circle\"}, \"mode\": \"markers\", \"name\": \"Retail\", \"showlegend\": true, \"x\": [2009], \"xaxis\": \"x\", \"y\": [345400], \"yaxis\": \"y\", \"type\": \"scatter\"}, {\"hovertemplate\": \"<b>%{hovertext}</b><br><br>Industry=ICT<br>Years=%{x}<br>Employment=%{marker.size}<extra></extra>\", \"hovertext\": [27800.0], \"ids\": [\"ICT\"], \"legendgroup\": \"ICT\", \"marker\": {\"color\": \"#FFA15A\", \"size\": [27800], \"sizemode\": \"area\", \"sizeref\": 214.76543209876544, \"symbol\": \"circle\"}, \"mode\": \"markers\", \"name\": \"ICT\", \"showlegend\": true, \"x\": [2009], \"xaxis\": \"x\", \"y\": [27800], \"yaxis\": \"y\", \"type\": \"scatter\"}, {\"hovertemplate\": \"<b>%{hovertext}</b><br><br>Industry=Finance<br>Years=%{x}<br>Employment=%{marker.size}<extra></extra>\", \"hovertext\": [33800.0], \"ids\": [\"Finance\"], \"legendgroup\": \"Finance\", \"marker\": {\"color\": \"#19d3f3\", \"size\": [33800], \"sizemode\": \"area\", \"sizeref\": 214.76543209876544, \"symbol\": \"circle\"}, \"mode\": \"markers\", \"name\": \"Finance\", \"showlegend\": true, \"x\": [2009], \"xaxis\": \"x\", \"y\": [33800], \"yaxis\": \"y\", \"type\": \"scatter\"}, {\"hovertemplate\": \"<b>%{hovertext}</b><br><br>Industry=Real_Estate<br>Years=%{x}<br>Employment=%{marker.size}<extra></extra>\", \"hovertext\": [13500.0], \"ids\": [\"Real_Estate\"], \"legendgroup\": \"Real_Estate\", \"marker\": {\"color\": \"#FF6692\", \"size\": [13500], \"sizemode\": \"area\", \"sizeref\": 214.76543209876544, \"symbol\": \"circle\"}, \"mode\": \"markers\", \"name\": \"Real_Estate\", \"showlegend\": true, \"x\": [2009], \"xaxis\": \"x\", \"y\": [13500], \"yaxis\": \"y\", \"type\": \"scatter\"}, {\"hovertemplate\": \"<b>%{hovertext}</b><br><br>Industry=Professional_Service<br>Years=%{x}<br>Employment=%{marker.size}<extra></extra>\", \"hovertext\": [144800.0], \"ids\": [\"Professional_Service\"], \"legendgroup\": \"Professional_Service\", \"marker\": {\"color\": \"#B6E880\", \"size\": [144800], \"sizemode\": \"area\", \"sizeref\": 214.76543209876544, \"symbol\": \"circle\"}, \"mode\": \"markers\", \"name\": \"Professional_Service\", \"showlegend\": true, \"x\": [2009], \"xaxis\": \"x\", \"y\": [144800], \"yaxis\": \"y\", \"type\": \"scatter\"}, {\"hovertemplate\": \"<b>%{hovertext}</b><br><br>Industry=Public_Adminstration <br>Years=%{x}<br>Employment=%{marker.size}<extra></extra>\", \"hovertext\": [415600.0], \"ids\": [\"Public_Adminstration \"], \"legendgroup\": \"Public_Adminstration \", \"marker\": {\"color\": \"#FF97FF\", \"size\": [415600], \"sizemode\": \"area\", \"sizeref\": 214.76543209876544, \"symbol\": \"circle\"}, \"mode\": \"markers\", \"name\": \"Public_Adminstration \", \"showlegend\": true, \"x\": [2009], \"xaxis\": \"x\", \"y\": [415600], \"yaxis\": \"y\", \"type\": \"scatter\"}, {\"hovertemplate\": \"<b>%{hovertext}</b><br><br>Industry=Other_Service<br>Years=%{x}<br>Employment=%{marker.size}<extra></extra>\", \"hovertext\": [64200.0], \"ids\": [\"Other_Service\"], \"legendgroup\": \"Other_Service\", \"marker\": {\"color\": \"#FECB52\", \"size\": [64200], \"sizemode\": \"area\", \"sizeref\": 214.76543209876544, \"symbol\": \"circle\"}, \"mode\": \"markers\", \"name\": \"Other_Service\", \"showlegend\": true, \"x\": [2009], \"xaxis\": \"x\", \"y\": [64200], \"yaxis\": \"y\", \"type\": \"scatter\"}], \"name\": \"2009\"}, {\"data\": [{\"hovertemplate\": \"<b>%{hovertext}</b><br><br>Industry=Agriculture<br>Years=%{x}<br>Employment=%{marker.size}<extra></extra>\", \"hovertext\": [38200.0], \"ids\": [\"Agriculture\"], \"legendgroup\": \"Agriculture\", \"marker\": {\"color\": \"#636efa\", \"size\": [38200], \"sizemode\": \"area\", \"sizeref\": 214.76543209876544, \"symbol\": \"circle\"}, \"mode\": \"markers\", \"name\": \"Agriculture\", \"showlegend\": true, \"x\": [2010], \"xaxis\": \"x\", \"y\": [38200], \"yaxis\": \"y\", \"type\": \"scatter\"}, {\"hovertemplate\": \"<b>%{hovertext}</b><br><br>Industry=Production<br>Years=%{x}<br>Employment=%{marker.size}<extra></extra>\", \"hovertext\": [149800.0], \"ids\": [\"Production\"], \"legendgroup\": \"Production\", \"marker\": {\"color\": \"#EF553B\", \"size\": [149800], \"sizemode\": \"area\", \"sizeref\": 214.76543209876544, \"symbol\": \"circle\"}, \"mode\": \"markers\", \"name\": \"Production\", \"showlegend\": true, \"x\": [2010], \"xaxis\": \"x\", \"y\": [149800], \"yaxis\": \"y\", \"type\": \"scatter\"}, {\"hovertemplate\": \"<b>%{hovertext}</b><br><br>Industry=Construction<br>Years=%{x}<br>Employment=%{marker.size}<extra></extra>\", \"hovertext\": [93200.0], \"ids\": [\"Construction\"], \"legendgroup\": \"Construction\", \"marker\": {\"color\": \"#00cc96\", \"size\": [93200], \"sizemode\": \"area\", \"sizeref\": 214.76543209876544, \"symbol\": \"circle\"}, \"mode\": \"markers\", \"name\": \"Construction\", \"showlegend\": true, \"x\": [2010], \"xaxis\": \"x\", \"y\": [93200], \"yaxis\": \"y\", \"type\": \"scatter\"}, {\"hovertemplate\": \"<b>%{hovertext}</b><br><br>Industry=Retail<br>Years=%{x}<br>Employment=%{marker.size}<extra></extra>\", \"hovertext\": [344500.0], \"ids\": [\"Retail\"], \"legendgroup\": \"Retail\", \"marker\": {\"color\": \"#ab63fa\", \"size\": [344500], \"sizemode\": \"area\", \"sizeref\": 214.76543209876544, \"symbol\": \"circle\"}, \"mode\": \"markers\", \"name\": \"Retail\", \"showlegend\": true, \"x\": [2010], \"xaxis\": \"x\", \"y\": [344500], \"yaxis\": \"y\", \"type\": \"scatter\"}, {\"hovertemplate\": \"<b>%{hovertext}</b><br><br>Industry=ICT<br>Years=%{x}<br>Employment=%{marker.size}<extra></extra>\", \"hovertext\": [27900.0], \"ids\": [\"ICT\"], \"legendgroup\": \"ICT\", \"marker\": {\"color\": \"#FFA15A\", \"size\": [27900], \"sizemode\": \"area\", \"sizeref\": 214.76543209876544, \"symbol\": \"circle\"}, \"mode\": \"markers\", \"name\": \"ICT\", \"showlegend\": true, \"x\": [2010], \"xaxis\": \"x\", \"y\": [27900], \"yaxis\": \"y\", \"type\": \"scatter\"}, {\"hovertemplate\": \"<b>%{hovertext}</b><br><br>Industry=Finance<br>Years=%{x}<br>Employment=%{marker.size}<extra></extra>\", \"hovertext\": [29800.0], \"ids\": [\"Finance\"], \"legendgroup\": \"Finance\", \"marker\": {\"color\": \"#19d3f3\", \"size\": [29800], \"sizemode\": \"area\", \"sizeref\": 214.76543209876544, \"symbol\": \"circle\"}, \"mode\": \"markers\", \"name\": \"Finance\", \"showlegend\": true, \"x\": [2010], \"xaxis\": \"x\", \"y\": [29800], \"yaxis\": \"y\", \"type\": \"scatter\"}, {\"hovertemplate\": \"<b>%{hovertext}</b><br><br>Industry=Real_Estate<br>Years=%{x}<br>Employment=%{marker.size}<extra></extra>\", \"hovertext\": [14600.0], \"ids\": [\"Real_Estate\"], \"legendgroup\": \"Real_Estate\", \"marker\": {\"color\": \"#FF6692\", \"size\": [14600], \"sizemode\": \"area\", \"sizeref\": 214.76543209876544, \"symbol\": \"circle\"}, \"mode\": \"markers\", \"name\": \"Real_Estate\", \"showlegend\": true, \"x\": [2010], \"xaxis\": \"x\", \"y\": [14600], \"yaxis\": \"y\", \"type\": \"scatter\"}, {\"hovertemplate\": \"<b>%{hovertext}</b><br><br>Industry=Professional_Service<br>Years=%{x}<br>Employment=%{marker.size}<extra></extra>\", \"hovertext\": [145800.0], \"ids\": [\"Professional_Service\"], \"legendgroup\": \"Professional_Service\", \"marker\": {\"color\": \"#B6E880\", \"size\": [145800], \"sizemode\": \"area\", \"sizeref\": 214.76543209876544, \"symbol\": \"circle\"}, \"mode\": \"markers\", \"name\": \"Professional_Service\", \"showlegend\": true, \"x\": [2010], \"xaxis\": \"x\", \"y\": [145800], \"yaxis\": \"y\", \"type\": \"scatter\"}, {\"hovertemplate\": \"<b>%{hovertext}</b><br><br>Industry=Public_Adminstration <br>Years=%{x}<br>Employment=%{marker.size}<extra></extra>\", \"hovertext\": [418600.0], \"ids\": [\"Public_Adminstration \"], \"legendgroup\": \"Public_Adminstration \", \"marker\": {\"color\": \"#FF97FF\", \"size\": [418600], \"sizemode\": \"area\", \"sizeref\": 214.76543209876544, \"symbol\": \"circle\"}, \"mode\": \"markers\", \"name\": \"Public_Adminstration \", \"showlegend\": true, \"x\": [2010], \"xaxis\": \"x\", \"y\": [418600], \"yaxis\": \"y\", \"type\": \"scatter\"}, {\"hovertemplate\": \"<b>%{hovertext}</b><br><br>Industry=Other_Service<br>Years=%{x}<br>Employment=%{marker.size}<extra></extra>\", \"hovertext\": [68000.0], \"ids\": [\"Other_Service\"], \"legendgroup\": \"Other_Service\", \"marker\": {\"color\": \"#FECB52\", \"size\": [68000], \"sizemode\": \"area\", \"sizeref\": 214.76543209876544, \"symbol\": \"circle\"}, \"mode\": \"markers\", \"name\": \"Other_Service\", \"showlegend\": true, \"x\": [2010], \"xaxis\": \"x\", \"y\": [68000], \"yaxis\": \"y\", \"type\": \"scatter\"}], \"name\": \"2010\"}, {\"data\": [{\"hovertemplate\": \"<b>%{hovertext}</b><br><br>Industry=Agriculture<br>Years=%{x}<br>Employment=%{marker.size}<extra></extra>\", \"hovertext\": [36100.0], \"ids\": [\"Agriculture\"], \"legendgroup\": \"Agriculture\", \"marker\": {\"color\": \"#636efa\", \"size\": [36100], \"sizemode\": \"area\", \"sizeref\": 214.76543209876544, \"symbol\": \"circle\"}, \"mode\": \"markers\", \"name\": \"Agriculture\", \"showlegend\": true, \"x\": [2011], \"xaxis\": \"x\", \"y\": [36100], \"yaxis\": \"y\", \"type\": \"scatter\"}, {\"hovertemplate\": \"<b>%{hovertext}</b><br><br>Industry=Production<br>Years=%{x}<br>Employment=%{marker.size}<extra></extra>\", \"hovertext\": [158600.0], \"ids\": [\"Production\"], \"legendgroup\": \"Production\", \"marker\": {\"color\": \"#EF553B\", \"size\": [158600], \"sizemode\": \"area\", \"sizeref\": 214.76543209876544, \"symbol\": \"circle\"}, \"mode\": \"markers\", \"name\": \"Production\", \"showlegend\": true, \"x\": [2011], \"xaxis\": \"x\", \"y\": [158600], \"yaxis\": \"y\", \"type\": \"scatter\"}, {\"hovertemplate\": \"<b>%{hovertext}</b><br><br>Industry=Construction<br>Years=%{x}<br>Employment=%{marker.size}<extra></extra>\", \"hovertext\": [90000.0], \"ids\": [\"Construction\"], \"legendgroup\": \"Construction\", \"marker\": {\"color\": \"#00cc96\", \"size\": [90000], \"sizemode\": \"area\", \"sizeref\": 214.76543209876544, \"symbol\": \"circle\"}, \"mode\": \"markers\", \"name\": \"Construction\", \"showlegend\": true, \"x\": [2011], \"xaxis\": \"x\", \"y\": [90000], \"yaxis\": \"y\", \"type\": \"scatter\"}, {\"hovertemplate\": \"<b>%{hovertext}</b><br><br>Industry=Retail<br>Years=%{x}<br>Employment=%{marker.size}<extra></extra>\", \"hovertext\": [343100.0], \"ids\": [\"Retail\"], \"legendgroup\": \"Retail\", \"marker\": {\"color\": \"#ab63fa\", \"size\": [343100], \"sizemode\": \"area\", \"sizeref\": 214.76543209876544, \"symbol\": \"circle\"}, \"mode\": \"markers\", \"name\": \"Retail\", \"showlegend\": true, \"x\": [2011], \"xaxis\": \"x\", \"y\": [343100], \"yaxis\": \"y\", \"type\": \"scatter\"}, {\"hovertemplate\": \"<b>%{hovertext}</b><br><br>Industry=ICT<br>Years=%{x}<br>Employment=%{marker.size}<extra></extra>\", \"hovertext\": [26400.0], \"ids\": [\"ICT\"], \"legendgroup\": \"ICT\", \"marker\": {\"color\": \"#FFA15A\", \"size\": [26400], \"sizemode\": \"area\", \"sizeref\": 214.76543209876544, \"symbol\": \"circle\"}, \"mode\": \"markers\", \"name\": \"ICT\", \"showlegend\": true, \"x\": [2011], \"xaxis\": \"x\", \"y\": [26400], \"yaxis\": \"y\", \"type\": \"scatter\"}, {\"hovertemplate\": \"<b>%{hovertext}</b><br><br>Industry=Finance<br>Years=%{x}<br>Employment=%{marker.size}<extra></extra>\", \"hovertext\": [33200.0], \"ids\": [\"Finance\"], \"legendgroup\": \"Finance\", \"marker\": {\"color\": \"#19d3f3\", \"size\": [33200], \"sizemode\": \"area\", \"sizeref\": 214.76543209876544, \"symbol\": \"circle\"}, \"mode\": \"markers\", \"name\": \"Finance\", \"showlegend\": true, \"x\": [2011], \"xaxis\": \"x\", \"y\": [33200], \"yaxis\": \"y\", \"type\": \"scatter\"}, {\"hovertemplate\": \"<b>%{hovertext}</b><br><br>Industry=Real_Estate<br>Years=%{x}<br>Employment=%{marker.size}<extra></extra>\", \"hovertext\": [17600.0], \"ids\": [\"Real_Estate\"], \"legendgroup\": \"Real_Estate\", \"marker\": {\"color\": \"#FF6692\", \"size\": [17600], \"sizemode\": \"area\", \"sizeref\": 214.76543209876544, \"symbol\": \"circle\"}, \"mode\": \"markers\", \"name\": \"Real_Estate\", \"showlegend\": true, \"x\": [2011], \"xaxis\": \"x\", \"y\": [17600], \"yaxis\": \"y\", \"type\": \"scatter\"}, {\"hovertemplate\": \"<b>%{hovertext}</b><br><br>Industry=Professional_Service<br>Years=%{x}<br>Employment=%{marker.size}<extra></extra>\", \"hovertext\": [143600.0], \"ids\": [\"Professional_Service\"], \"legendgroup\": \"Professional_Service\", \"marker\": {\"color\": \"#B6E880\", \"size\": [143600], \"sizemode\": \"area\", \"sizeref\": 214.76543209876544, \"symbol\": \"circle\"}, \"mode\": \"markers\", \"name\": \"Professional_Service\", \"showlegend\": true, \"x\": [2011], \"xaxis\": \"x\", \"y\": [143600], \"yaxis\": \"y\", \"type\": \"scatter\"}, {\"hovertemplate\": \"<b>%{hovertext}</b><br><br>Industry=Public_Adminstration <br>Years=%{x}<br>Employment=%{marker.size}<extra></extra>\", \"hovertext\": [425600.0], \"ids\": [\"Public_Adminstration \"], \"legendgroup\": \"Public_Adminstration \", \"marker\": {\"color\": \"#FF97FF\", \"size\": [425600], \"sizemode\": \"area\", \"sizeref\": 214.76543209876544, \"symbol\": \"circle\"}, \"mode\": \"markers\", \"name\": \"Public_Adminstration \", \"showlegend\": true, \"x\": [2011], \"xaxis\": \"x\", \"y\": [425600], \"yaxis\": \"y\", \"type\": \"scatter\"}, {\"hovertemplate\": \"<b>%{hovertext}</b><br><br>Industry=Other_Service<br>Years=%{x}<br>Employment=%{marker.size}<extra></extra>\", \"hovertext\": [72400.0], \"ids\": [\"Other_Service\"], \"legendgroup\": \"Other_Service\", \"marker\": {\"color\": \"#FECB52\", \"size\": [72400], \"sizemode\": \"area\", \"sizeref\": 214.76543209876544, \"symbol\": \"circle\"}, \"mode\": \"markers\", \"name\": \"Other_Service\", \"showlegend\": true, \"x\": [2011], \"xaxis\": \"x\", \"y\": [72400], \"yaxis\": \"y\", \"type\": \"scatter\"}], \"name\": \"2011\"}, {\"data\": [{\"hovertemplate\": \"<b>%{hovertext}</b><br><br>Industry=Agriculture<br>Years=%{x}<br>Employment=%{marker.size}<extra></extra>\", \"hovertext\": [36100.0], \"ids\": [\"Agriculture\"], \"legendgroup\": \"Agriculture\", \"marker\": {\"color\": \"#636efa\", \"size\": [36100], \"sizemode\": \"area\", \"sizeref\": 214.76543209876544, \"symbol\": \"circle\"}, \"mode\": \"markers\", \"name\": \"Agriculture\", \"showlegend\": true, \"x\": [2012], \"xaxis\": \"x\", \"y\": [36100], \"yaxis\": \"y\", \"type\": \"scatter\"}, {\"hovertemplate\": \"<b>%{hovertext}</b><br><br>Industry=Production<br>Years=%{x}<br>Employment=%{marker.size}<extra></extra>\", \"hovertext\": [154400.0], \"ids\": [\"Production\"], \"legendgroup\": \"Production\", \"marker\": {\"color\": \"#EF553B\", \"size\": [154400], \"sizemode\": \"area\", \"sizeref\": 214.76543209876544, \"symbol\": \"circle\"}, \"mode\": \"markers\", \"name\": \"Production\", \"showlegend\": true, \"x\": [2012], \"xaxis\": \"x\", \"y\": [154400], \"yaxis\": \"y\", \"type\": \"scatter\"}, {\"hovertemplate\": \"<b>%{hovertext}</b><br><br>Industry=Construction<br>Years=%{x}<br>Employment=%{marker.size}<extra></extra>\", \"hovertext\": [91300.0], \"ids\": [\"Construction\"], \"legendgroup\": \"Construction\", \"marker\": {\"color\": \"#00cc96\", \"size\": [91300], \"sizemode\": \"area\", \"sizeref\": 214.76543209876544, \"symbol\": \"circle\"}, \"mode\": \"markers\", \"name\": \"Construction\", \"showlegend\": true, \"x\": [2012], \"xaxis\": \"x\", \"y\": [91300], \"yaxis\": \"y\", \"type\": \"scatter\"}, {\"hovertemplate\": \"<b>%{hovertext}</b><br><br>Industry=Retail<br>Years=%{x}<br>Employment=%{marker.size}<extra></extra>\", \"hovertext\": [347300.0], \"ids\": [\"Retail\"], \"legendgroup\": \"Retail\", \"marker\": {\"color\": \"#ab63fa\", \"size\": [347300], \"sizemode\": \"area\", \"sizeref\": 214.76543209876544, \"symbol\": \"circle\"}, \"mode\": \"markers\", \"name\": \"Retail\", \"showlegend\": true, \"x\": [2012], \"xaxis\": \"x\", \"y\": [347300], \"yaxis\": \"y\", \"type\": \"scatter\"}, {\"hovertemplate\": \"<b>%{hovertext}</b><br><br>Industry=ICT<br>Years=%{x}<br>Employment=%{marker.size}<extra></extra>\", \"hovertext\": [27200.0], \"ids\": [\"ICT\"], \"legendgroup\": \"ICT\", \"marker\": {\"color\": \"#FFA15A\", \"size\": [27200], \"sizemode\": \"area\", \"sizeref\": 214.76543209876544, \"symbol\": \"circle\"}, \"mode\": \"markers\", \"name\": \"ICT\", \"showlegend\": true, \"x\": [2012], \"xaxis\": \"x\", \"y\": [27200], \"yaxis\": \"y\", \"type\": \"scatter\"}, {\"hovertemplate\": \"<b>%{hovertext}</b><br><br>Industry=Finance<br>Years=%{x}<br>Employment=%{marker.size}<extra></extra>\", \"hovertext\": [31100.0], \"ids\": [\"Finance\"], \"legendgroup\": \"Finance\", \"marker\": {\"color\": \"#19d3f3\", \"size\": [31100], \"sizemode\": \"area\", \"sizeref\": 214.76543209876544, \"symbol\": \"circle\"}, \"mode\": \"markers\", \"name\": \"Finance\", \"showlegend\": true, \"x\": [2012], \"xaxis\": \"x\", \"y\": [31100], \"yaxis\": \"y\", \"type\": \"scatter\"}, {\"hovertemplate\": \"<b>%{hovertext}</b><br><br>Industry=Real_Estate<br>Years=%{x}<br>Employment=%{marker.size}<extra></extra>\", \"hovertext\": [18800.0], \"ids\": [\"Real_Estate\"], \"legendgroup\": \"Real_Estate\", \"marker\": {\"color\": \"#FF6692\", \"size\": [18800], \"sizemode\": \"area\", \"sizeref\": 214.76543209876544, \"symbol\": \"circle\"}, \"mode\": \"markers\", \"name\": \"Real_Estate\", \"showlegend\": true, \"x\": [2012], \"xaxis\": \"x\", \"y\": [18800], \"yaxis\": \"y\", \"type\": \"scatter\"}, {\"hovertemplate\": \"<b>%{hovertext}</b><br><br>Industry=Professional_Service<br>Years=%{x}<br>Employment=%{marker.size}<extra></extra>\", \"hovertext\": [137300.0], \"ids\": [\"Professional_Service\"], \"legendgroup\": \"Professional_Service\", \"marker\": {\"color\": \"#B6E880\", \"size\": [137300], \"sizemode\": \"area\", \"sizeref\": 214.76543209876544, \"symbol\": \"circle\"}, \"mode\": \"markers\", \"name\": \"Professional_Service\", \"showlegend\": true, \"x\": [2012], \"xaxis\": \"x\", \"y\": [137300], \"yaxis\": \"y\", \"type\": \"scatter\"}, {\"hovertemplate\": \"<b>%{hovertext}</b><br><br>Industry=Public_Adminstration <br>Years=%{x}<br>Employment=%{marker.size}<extra></extra>\", \"hovertext\": [421000.0], \"ids\": [\"Public_Adminstration \"], \"legendgroup\": \"Public_Adminstration \", \"marker\": {\"color\": \"#FF97FF\", \"size\": [421000], \"sizemode\": \"area\", \"sizeref\": 214.76543209876544, \"symbol\": \"circle\"}, \"mode\": \"markers\", \"name\": \"Public_Adminstration \", \"showlegend\": true, \"x\": [2012], \"xaxis\": \"x\", \"y\": [421000], \"yaxis\": \"y\", \"type\": \"scatter\"}, {\"hovertemplate\": \"<b>%{hovertext}</b><br><br>Industry=Other_Service<br>Years=%{x}<br>Employment=%{marker.size}<extra></extra>\", \"hovertext\": [72800.0], \"ids\": [\"Other_Service\"], \"legendgroup\": \"Other_Service\", \"marker\": {\"color\": \"#FECB52\", \"size\": [72800], \"sizemode\": \"area\", \"sizeref\": 214.76543209876544, \"symbol\": \"circle\"}, \"mode\": \"markers\", \"name\": \"Other_Service\", \"showlegend\": true, \"x\": [2012], \"xaxis\": \"x\", \"y\": [72800], \"yaxis\": \"y\", \"type\": \"scatter\"}], \"name\": \"2012\"}, {\"data\": [{\"hovertemplate\": \"<b>%{hovertext}</b><br><br>Industry=Agriculture<br>Years=%{x}<br>Employment=%{marker.size}<extra></extra>\", \"hovertext\": [36800.0], \"ids\": [\"Agriculture\"], \"legendgroup\": \"Agriculture\", \"marker\": {\"color\": \"#636efa\", \"size\": [36800], \"sizemode\": \"area\", \"sizeref\": 214.76543209876544, \"symbol\": \"circle\"}, \"mode\": \"markers\", \"name\": \"Agriculture\", \"showlegend\": true, \"x\": [2013], \"xaxis\": \"x\", \"y\": [36800], \"yaxis\": \"y\", \"type\": \"scatter\"}, {\"hovertemplate\": \"<b>%{hovertext}</b><br><br>Industry=Production<br>Years=%{x}<br>Employment=%{marker.size}<extra></extra>\", \"hovertext\": [164200.0], \"ids\": [\"Production\"], \"legendgroup\": \"Production\", \"marker\": {\"color\": \"#EF553B\", \"size\": [164200], \"sizemode\": \"area\", \"sizeref\": 214.76543209876544, \"symbol\": \"circle\"}, \"mode\": \"markers\", \"name\": \"Production\", \"showlegend\": true, \"x\": [2013], \"xaxis\": \"x\", \"y\": [164200], \"yaxis\": \"y\", \"type\": \"scatter\"}, {\"hovertemplate\": \"<b>%{hovertext}</b><br><br>Industry=Construction<br>Years=%{x}<br>Employment=%{marker.size}<extra></extra>\", \"hovertext\": [89300.0], \"ids\": [\"Construction\"], \"legendgroup\": \"Construction\", \"marker\": {\"color\": \"#00cc96\", \"size\": [89300], \"sizemode\": \"area\", \"sizeref\": 214.76543209876544, \"symbol\": \"circle\"}, \"mode\": \"markers\", \"name\": \"Construction\", \"showlegend\": true, \"x\": [2013], \"xaxis\": \"x\", \"y\": [89300], \"yaxis\": \"y\", \"type\": \"scatter\"}, {\"hovertemplate\": \"<b>%{hovertext}</b><br><br>Industry=Retail<br>Years=%{x}<br>Employment=%{marker.size}<extra></extra>\", \"hovertext\": [345100.0], \"ids\": [\"Retail\"], \"legendgroup\": \"Retail\", \"marker\": {\"color\": \"#ab63fa\", \"size\": [345100], \"sizemode\": \"area\", \"sizeref\": 214.76543209876544, \"symbol\": \"circle\"}, \"mode\": \"markers\", \"name\": \"Retail\", \"showlegend\": true, \"x\": [2013], \"xaxis\": \"x\", \"y\": [345100], \"yaxis\": \"y\", \"type\": \"scatter\"}, {\"hovertemplate\": \"<b>%{hovertext}</b><br><br>Industry=ICT<br>Years=%{x}<br>Employment=%{marker.size}<extra></extra>\", \"hovertext\": [26900.0], \"ids\": [\"ICT\"], \"legendgroup\": \"ICT\", \"marker\": {\"color\": \"#FFA15A\", \"size\": [26900], \"sizemode\": \"area\", \"sizeref\": 214.76543209876544, \"symbol\": \"circle\"}, \"mode\": \"markers\", \"name\": \"ICT\", \"showlegend\": true, \"x\": [2013], \"xaxis\": \"x\", \"y\": [26900], \"yaxis\": \"y\", \"type\": \"scatter\"}, {\"hovertemplate\": \"<b>%{hovertext}</b><br><br>Industry=Finance<br>Years=%{x}<br>Employment=%{marker.size}<extra></extra>\", \"hovertext\": [32400.0], \"ids\": [\"Finance\"], \"legendgroup\": \"Finance\", \"marker\": {\"color\": \"#19d3f3\", \"size\": [32400], \"sizemode\": \"area\", \"sizeref\": 214.76543209876544, \"symbol\": \"circle\"}, \"mode\": \"markers\", \"name\": \"Finance\", \"showlegend\": true, \"x\": [2013], \"xaxis\": \"x\", \"y\": [32400], \"yaxis\": \"y\", \"type\": \"scatter\"}, {\"hovertemplate\": \"<b>%{hovertext}</b><br><br>Industry=Real_Estate<br>Years=%{x}<br>Employment=%{marker.size}<extra></extra>\", \"hovertext\": [18000.0], \"ids\": [\"Real_Estate\"], \"legendgroup\": \"Real_Estate\", \"marker\": {\"color\": \"#FF6692\", \"size\": [18000], \"sizemode\": \"area\", \"sizeref\": 214.76543209876544, \"symbol\": \"circle\"}, \"mode\": \"markers\", \"name\": \"Real_Estate\", \"showlegend\": true, \"x\": [2013], \"xaxis\": \"x\", \"y\": [18000], \"yaxis\": \"y\", \"type\": \"scatter\"}, {\"hovertemplate\": \"<b>%{hovertext}</b><br><br>Industry=Professional_Service<br>Years=%{x}<br>Employment=%{marker.size}<extra></extra>\", \"hovertext\": [149900.0], \"ids\": [\"Professional_Service\"], \"legendgroup\": \"Professional_Service\", \"marker\": {\"color\": \"#B6E880\", \"size\": [149900], \"sizemode\": \"area\", \"sizeref\": 214.76543209876544, \"symbol\": \"circle\"}, \"mode\": \"markers\", \"name\": \"Professional_Service\", \"showlegend\": true, \"x\": [2013], \"xaxis\": \"x\", \"y\": [149900], \"yaxis\": \"y\", \"type\": \"scatter\"}, {\"hovertemplate\": \"<b>%{hovertext}</b><br><br>Industry=Public_Adminstration <br>Years=%{x}<br>Employment=%{marker.size}<extra></extra>\", \"hovertext\": [427000.0], \"ids\": [\"Public_Adminstration \"], \"legendgroup\": \"Public_Adminstration \", \"marker\": {\"color\": \"#FF97FF\", \"size\": [427000], \"sizemode\": \"area\", \"sizeref\": 214.76543209876544, \"symbol\": \"circle\"}, \"mode\": \"markers\", \"name\": \"Public_Adminstration \", \"showlegend\": true, \"x\": [2013], \"xaxis\": \"x\", \"y\": [427000], \"yaxis\": \"y\", \"type\": \"scatter\"}, {\"hovertemplate\": \"<b>%{hovertext}</b><br><br>Industry=Other_Service<br>Years=%{x}<br>Employment=%{marker.size}<extra></extra>\", \"hovertext\": [75500.0], \"ids\": [\"Other_Service\"], \"legendgroup\": \"Other_Service\", \"marker\": {\"color\": \"#FECB52\", \"size\": [75500], \"sizemode\": \"area\", \"sizeref\": 214.76543209876544, \"symbol\": \"circle\"}, \"mode\": \"markers\", \"name\": \"Other_Service\", \"showlegend\": true, \"x\": [2013], \"xaxis\": \"x\", \"y\": [75500], \"yaxis\": \"y\", \"type\": \"scatter\"}], \"name\": \"2013\"}, {\"data\": [{\"hovertemplate\": \"<b>%{hovertext}</b><br><br>Industry=Agriculture<br>Years=%{x}<br>Employment=%{marker.size}<extra></extra>\", \"hovertext\": [42700.0], \"ids\": [\"Agriculture\"], \"legendgroup\": \"Agriculture\", \"marker\": {\"color\": \"#636efa\", \"size\": [42700], \"sizemode\": \"area\", \"sizeref\": 214.76543209876544, \"symbol\": \"circle\"}, \"mode\": \"markers\", \"name\": \"Agriculture\", \"showlegend\": true, \"x\": [2014], \"xaxis\": \"x\", \"y\": [42700], \"yaxis\": \"y\", \"type\": \"scatter\"}, {\"hovertemplate\": \"<b>%{hovertext}</b><br><br>Industry=Production<br>Years=%{x}<br>Employment=%{marker.size}<extra></extra>\", \"hovertext\": [173300.0], \"ids\": [\"Production\"], \"legendgroup\": \"Production\", \"marker\": {\"color\": \"#EF553B\", \"size\": [173300], \"sizemode\": \"area\", \"sizeref\": 214.76543209876544, \"symbol\": \"circle\"}, \"mode\": \"markers\", \"name\": \"Production\", \"showlegend\": true, \"x\": [2014], \"xaxis\": \"x\", \"y\": [173300], \"yaxis\": \"y\", \"type\": \"scatter\"}, {\"hovertemplate\": \"<b>%{hovertext}</b><br><br>Industry=Construction<br>Years=%{x}<br>Employment=%{marker.size}<extra></extra>\", \"hovertext\": [97000.0], \"ids\": [\"Construction\"], \"legendgroup\": \"Construction\", \"marker\": {\"color\": \"#00cc96\", \"size\": [97000], \"sizemode\": \"area\", \"sizeref\": 214.76543209876544, \"symbol\": \"circle\"}, \"mode\": \"markers\", \"name\": \"Construction\", \"showlegend\": true, \"x\": [2014], \"xaxis\": \"x\", \"y\": [97000], \"yaxis\": \"y\", \"type\": \"scatter\"}, {\"hovertemplate\": \"<b>%{hovertext}</b><br><br>Industry=Retail<br>Years=%{x}<br>Employment=%{marker.size}<extra></extra>\", \"hovertext\": [337300.0], \"ids\": [\"Retail\"], \"legendgroup\": \"Retail\", \"marker\": {\"color\": \"#ab63fa\", \"size\": [337300], \"sizemode\": \"area\", \"sizeref\": 214.76543209876544, \"symbol\": \"circle\"}, \"mode\": \"markers\", \"name\": \"Retail\", \"showlegend\": true, \"x\": [2014], \"xaxis\": \"x\", \"y\": [337300], \"yaxis\": \"y\", \"type\": \"scatter\"}, {\"hovertemplate\": \"<b>%{hovertext}</b><br><br>Industry=ICT<br>Years=%{x}<br>Employment=%{marker.size}<extra></extra>\", \"hovertext\": [35700.0], \"ids\": [\"ICT\"], \"legendgroup\": \"ICT\", \"marker\": {\"color\": \"#FFA15A\", \"size\": [35700], \"sizemode\": \"area\", \"sizeref\": 214.76543209876544, \"symbol\": \"circle\"}, \"mode\": \"markers\", \"name\": \"ICT\", \"showlegend\": true, \"x\": [2014], \"xaxis\": \"x\", \"y\": [35700], \"yaxis\": \"y\", \"type\": \"scatter\"}, {\"hovertemplate\": \"<b>%{hovertext}</b><br><br>Industry=Finance<br>Years=%{x}<br>Employment=%{marker.size}<extra></extra>\", \"hovertext\": [32400.0], \"ids\": [\"Finance\"], \"legendgroup\": \"Finance\", \"marker\": {\"color\": \"#19d3f3\", \"size\": [32400], \"sizemode\": \"area\", \"sizeref\": 214.76543209876544, \"symbol\": \"circle\"}, \"mode\": \"markers\", \"name\": \"Finance\", \"showlegend\": true, \"x\": [2014], \"xaxis\": \"x\", \"y\": [32400], \"yaxis\": \"y\", \"type\": \"scatter\"}, {\"hovertemplate\": \"<b>%{hovertext}</b><br><br>Industry=Real_Estate<br>Years=%{x}<br>Employment=%{marker.size}<extra></extra>\", \"hovertext\": [22200.0], \"ids\": [\"Real_Estate\"], \"legendgroup\": \"Real_Estate\", \"marker\": {\"color\": \"#FF6692\", \"size\": [22200], \"sizemode\": \"area\", \"sizeref\": 214.76543209876544, \"symbol\": \"circle\"}, \"mode\": \"markers\", \"name\": \"Real_Estate\", \"showlegend\": true, \"x\": [2014], \"xaxis\": \"x\", \"y\": [22200], \"yaxis\": \"y\", \"type\": \"scatter\"}, {\"hovertemplate\": \"<b>%{hovertext}</b><br><br>Industry=Professional_Service<br>Years=%{x}<br>Employment=%{marker.size}<extra></extra>\", \"hovertext\": [152900.0], \"ids\": [\"Professional_Service\"], \"legendgroup\": \"Professional_Service\", \"marker\": {\"color\": \"#B6E880\", \"size\": [152900], \"sizemode\": \"area\", \"sizeref\": 214.76543209876544, \"symbol\": \"circle\"}, \"mode\": \"markers\", \"name\": \"Professional_Service\", \"showlegend\": true, \"x\": [2014], \"xaxis\": \"x\", \"y\": [152900], \"yaxis\": \"y\", \"type\": \"scatter\"}, {\"hovertemplate\": \"<b>%{hovertext}</b><br><br>Industry=Public_Adminstration <br>Years=%{x}<br>Employment=%{marker.size}<extra></extra>\", \"hovertext\": [427600.0], \"ids\": [\"Public_Adminstration \"], \"legendgroup\": \"Public_Adminstration \", \"marker\": {\"color\": \"#FF97FF\", \"size\": [427600], \"sizemode\": \"area\", \"sizeref\": 214.76543209876544, \"symbol\": \"circle\"}, \"mode\": \"markers\", \"name\": \"Public_Adminstration \", \"showlegend\": true, \"x\": [2014], \"xaxis\": \"x\", \"y\": [427600], \"yaxis\": \"y\", \"type\": \"scatter\"}, {\"hovertemplate\": \"<b>%{hovertext}</b><br><br>Industry=Other_Service<br>Years=%{x}<br>Employment=%{marker.size}<extra></extra>\", \"hovertext\": [73300.0], \"ids\": [\"Other_Service\"], \"legendgroup\": \"Other_Service\", \"marker\": {\"color\": \"#FECB52\", \"size\": [73300], \"sizemode\": \"area\", \"sizeref\": 214.76543209876544, \"symbol\": \"circle\"}, \"mode\": \"markers\", \"name\": \"Other_Service\", \"showlegend\": true, \"x\": [2014], \"xaxis\": \"x\", \"y\": [73300], \"yaxis\": \"y\", \"type\": \"scatter\"}], \"name\": \"2014\"}, {\"data\": [{\"hovertemplate\": \"<b>%{hovertext}</b><br><br>Industry=Agriculture<br>Years=%{x}<br>Employment=%{marker.size}<extra></extra>\", \"hovertext\": [40700.0], \"ids\": [\"Agriculture\"], \"legendgroup\": \"Agriculture\", \"marker\": {\"color\": \"#636efa\", \"size\": [40700], \"sizemode\": \"area\", \"sizeref\": 214.76543209876544, \"symbol\": \"circle\"}, \"mode\": \"markers\", \"name\": \"Agriculture\", \"showlegend\": true, \"x\": [2015], \"xaxis\": \"x\", \"y\": [40700], \"yaxis\": \"y\", \"type\": \"scatter\"}, {\"hovertemplate\": \"<b>%{hovertext}</b><br><br>Industry=Production<br>Years=%{x}<br>Employment=%{marker.size}<extra></extra>\", \"hovertext\": [172300.0], \"ids\": [\"Production\"], \"legendgroup\": \"Production\", \"marker\": {\"color\": \"#EF553B\", \"size\": [172300], \"sizemode\": \"area\", \"sizeref\": 214.76543209876544, \"symbol\": \"circle\"}, \"mode\": \"markers\", \"name\": \"Production\", \"showlegend\": true, \"x\": [2015], \"xaxis\": \"x\", \"y\": [172300], \"yaxis\": \"y\", \"type\": \"scatter\"}, {\"hovertemplate\": \"<b>%{hovertext}</b><br><br>Industry=Construction<br>Years=%{x}<br>Employment=%{marker.size}<extra></extra>\", \"hovertext\": [92600.0], \"ids\": [\"Construction\"], \"legendgroup\": \"Construction\", \"marker\": {\"color\": \"#00cc96\", \"size\": [92600], \"sizemode\": \"area\", \"sizeref\": 214.76543209876544, \"symbol\": \"circle\"}, \"mode\": \"markers\", \"name\": \"Construction\", \"showlegend\": true, \"x\": [2015], \"xaxis\": \"x\", \"y\": [92600], \"yaxis\": \"y\", \"type\": \"scatter\"}, {\"hovertemplate\": \"<b>%{hovertext}</b><br><br>Industry=Retail<br>Years=%{x}<br>Employment=%{marker.size}<extra></extra>\", \"hovertext\": [357700.0], \"ids\": [\"Retail\"], \"legendgroup\": \"Retail\", \"marker\": {\"color\": \"#ab63fa\", \"size\": [357700], \"sizemode\": \"area\", \"sizeref\": 214.76543209876544, \"symbol\": \"circle\"}, \"mode\": \"markers\", \"name\": \"Retail\", \"showlegend\": true, \"x\": [2015], \"xaxis\": \"x\", \"y\": [357700], \"yaxis\": \"y\", \"type\": \"scatter\"}, {\"hovertemplate\": \"<b>%{hovertext}</b><br><br>Industry=ICT<br>Years=%{x}<br>Employment=%{marker.size}<extra></extra>\", \"hovertext\": [24000.0], \"ids\": [\"ICT\"], \"legendgroup\": \"ICT\", \"marker\": {\"color\": \"#FFA15A\", \"size\": [24000], \"sizemode\": \"area\", \"sizeref\": 214.76543209876544, \"symbol\": \"circle\"}, \"mode\": \"markers\", \"name\": \"ICT\", \"showlegend\": true, \"x\": [2015], \"xaxis\": \"x\", \"y\": [24000], \"yaxis\": \"y\", \"type\": \"scatter\"}, {\"hovertemplate\": \"<b>%{hovertext}</b><br><br>Industry=Finance<br>Years=%{x}<br>Employment=%{marker.size}<extra></extra>\", \"hovertext\": [30800.0], \"ids\": [\"Finance\"], \"legendgroup\": \"Finance\", \"marker\": {\"color\": \"#19d3f3\", \"size\": [30800], \"sizemode\": \"area\", \"sizeref\": 214.76543209876544, \"symbol\": \"circle\"}, \"mode\": \"markers\", \"name\": \"Finance\", \"showlegend\": true, \"x\": [2015], \"xaxis\": \"x\", \"y\": [30800], \"yaxis\": \"y\", \"type\": \"scatter\"}, {\"hovertemplate\": \"<b>%{hovertext}</b><br><br>Industry=Real_Estate<br>Years=%{x}<br>Employment=%{marker.size}<extra></extra>\", \"hovertext\": [19100.0], \"ids\": [\"Real_Estate\"], \"legendgroup\": \"Real_Estate\", \"marker\": {\"color\": \"#FF6692\", \"size\": [19100], \"sizemode\": \"area\", \"sizeref\": 214.76543209876544, \"symbol\": \"circle\"}, \"mode\": \"markers\", \"name\": \"Real_Estate\", \"showlegend\": true, \"x\": [2015], \"xaxis\": \"x\", \"y\": [19100], \"yaxis\": \"y\", \"type\": \"scatter\"}, {\"hovertemplate\": \"<b>%{hovertext}</b><br><br>Industry=Professional_Service<br>Years=%{x}<br>Employment=%{marker.size}<extra></extra>\", \"hovertext\": [166200.0], \"ids\": [\"Professional_Service\"], \"legendgroup\": \"Professional_Service\", \"marker\": {\"color\": \"#B6E880\", \"size\": [166200], \"sizemode\": \"area\", \"sizeref\": 214.76543209876544, \"symbol\": \"circle\"}, \"mode\": \"markers\", \"name\": \"Professional_Service\", \"showlegend\": true, \"x\": [2015], \"xaxis\": \"x\", \"y\": [166200], \"yaxis\": \"y\", \"type\": \"scatter\"}, {\"hovertemplate\": \"<b>%{hovertext}</b><br><br>Industry=Public_Adminstration <br>Years=%{x}<br>Employment=%{marker.size}<extra></extra>\", \"hovertext\": [423200.0], \"ids\": [\"Public_Adminstration \"], \"legendgroup\": \"Public_Adminstration \", \"marker\": {\"color\": \"#FF97FF\", \"size\": [423200], \"sizemode\": \"area\", \"sizeref\": 214.76543209876544, \"symbol\": \"circle\"}, \"mode\": \"markers\", \"name\": \"Public_Adminstration \", \"showlegend\": true, \"x\": [2015], \"xaxis\": \"x\", \"y\": [423200], \"yaxis\": \"y\", \"type\": \"scatter\"}, {\"hovertemplate\": \"<b>%{hovertext}</b><br><br>Industry=Other_Service<br>Years=%{x}<br>Employment=%{marker.size}<extra></extra>\", \"hovertext\": [77200.0], \"ids\": [\"Other_Service\"], \"legendgroup\": \"Other_Service\", \"marker\": {\"color\": \"#FECB52\", \"size\": [77200], \"sizemode\": \"area\", \"sizeref\": 214.76543209876544, \"symbol\": \"circle\"}, \"mode\": \"markers\", \"name\": \"Other_Service\", \"showlegend\": true, \"x\": [2015], \"xaxis\": \"x\", \"y\": [77200], \"yaxis\": \"y\", \"type\": \"scatter\"}], \"name\": \"2015\"}, {\"data\": [{\"hovertemplate\": \"<b>%{hovertext}</b><br><br>Industry=Agriculture<br>Years=%{x}<br>Employment=%{marker.size}<extra></extra>\", \"hovertext\": [43200.0], \"ids\": [\"Agriculture\"], \"legendgroup\": \"Agriculture\", \"marker\": {\"color\": \"#636efa\", \"size\": [43200], \"sizemode\": \"area\", \"sizeref\": 214.76543209876544, \"symbol\": \"circle\"}, \"mode\": \"markers\", \"name\": \"Agriculture\", \"showlegend\": true, \"x\": [2016], \"xaxis\": \"x\", \"y\": [43200], \"yaxis\": \"y\", \"type\": \"scatter\"}, {\"hovertemplate\": \"<b>%{hovertext}</b><br><br>Industry=Production<br>Years=%{x}<br>Employment=%{marker.size}<extra></extra>\", \"hovertext\": [162500.0], \"ids\": [\"Production\"], \"legendgroup\": \"Production\", \"marker\": {\"color\": \"#EF553B\", \"size\": [162500], \"sizemode\": \"area\", \"sizeref\": 214.76543209876544, \"symbol\": \"circle\"}, \"mode\": \"markers\", \"name\": \"Production\", \"showlegend\": true, \"x\": [2016], \"xaxis\": \"x\", \"y\": [162500], \"yaxis\": \"y\", \"type\": \"scatter\"}, {\"hovertemplate\": \"<b>%{hovertext}</b><br><br>Industry=Construction<br>Years=%{x}<br>Employment=%{marker.size}<extra></extra>\", \"hovertext\": [102700.0], \"ids\": [\"Construction\"], \"legendgroup\": \"Construction\", \"marker\": {\"color\": \"#00cc96\", \"size\": [102700], \"sizemode\": \"area\", \"sizeref\": 214.76543209876544, \"symbol\": \"circle\"}, \"mode\": \"markers\", \"name\": \"Construction\", \"showlegend\": true, \"x\": [2016], \"xaxis\": \"x\", \"y\": [102700], \"yaxis\": \"y\", \"type\": \"scatter\"}, {\"hovertemplate\": \"<b>%{hovertext}</b><br><br>Industry=Retail<br>Years=%{x}<br>Employment=%{marker.size}<extra></extra>\", \"hovertext\": [360200.0], \"ids\": [\"Retail\"], \"legendgroup\": \"Retail\", \"marker\": {\"color\": \"#ab63fa\", \"size\": [360200], \"sizemode\": \"area\", \"sizeref\": 214.76543209876544, \"symbol\": \"circle\"}, \"mode\": \"markers\", \"name\": \"Retail\", \"showlegend\": true, \"x\": [2016], \"xaxis\": \"x\", \"y\": [360200], \"yaxis\": \"y\", \"type\": \"scatter\"}, {\"hovertemplate\": \"<b>%{hovertext}</b><br><br>Industry=ICT<br>Years=%{x}<br>Employment=%{marker.size}<extra></extra>\", \"hovertext\": [34400.0], \"ids\": [\"ICT\"], \"legendgroup\": \"ICT\", \"marker\": {\"color\": \"#FFA15A\", \"size\": [34400], \"sizemode\": \"area\", \"sizeref\": 214.76543209876544, \"symbol\": \"circle\"}, \"mode\": \"markers\", \"name\": \"ICT\", \"showlegend\": true, \"x\": [2016], \"xaxis\": \"x\", \"y\": [34400], \"yaxis\": \"y\", \"type\": \"scatter\"}, {\"hovertemplate\": \"<b>%{hovertext}</b><br><br>Industry=Finance<br>Years=%{x}<br>Employment=%{marker.size}<extra></extra>\", \"hovertext\": [31000.0], \"ids\": [\"Finance\"], \"legendgroup\": \"Finance\", \"marker\": {\"color\": \"#19d3f3\", \"size\": [31000], \"sizemode\": \"area\", \"sizeref\": 214.76543209876544, \"symbol\": \"circle\"}, \"mode\": \"markers\", \"name\": \"Finance\", \"showlegend\": true, \"x\": [2016], \"xaxis\": \"x\", \"y\": [31000], \"yaxis\": \"y\", \"type\": \"scatter\"}, {\"hovertemplate\": \"<b>%{hovertext}</b><br><br>Industry=Real_Estate<br>Years=%{x}<br>Employment=%{marker.size}<extra></extra>\", \"hovertext\": [22700.0], \"ids\": [\"Real_Estate\"], \"legendgroup\": \"Real_Estate\", \"marker\": {\"color\": \"#FF6692\", \"size\": [22700], \"sizemode\": \"area\", \"sizeref\": 214.76543209876544, \"symbol\": \"circle\"}, \"mode\": \"markers\", \"name\": \"Real_Estate\", \"showlegend\": true, \"x\": [2016], \"xaxis\": \"x\", \"y\": [22700], \"yaxis\": \"y\", \"type\": \"scatter\"}, {\"hovertemplate\": \"<b>%{hovertext}</b><br><br>Industry=Professional_Service<br>Years=%{x}<br>Employment=%{marker.size}<extra></extra>\", \"hovertext\": [161200.0], \"ids\": [\"Professional_Service\"], \"legendgroup\": \"Professional_Service\", \"marker\": {\"color\": \"#B6E880\", \"size\": [161200], \"sizemode\": \"area\", \"sizeref\": 214.76543209876544, \"symbol\": \"circle\"}, \"mode\": \"markers\", \"name\": \"Professional_Service\", \"showlegend\": true, \"x\": [2016], \"xaxis\": \"x\", \"y\": [161200], \"yaxis\": \"y\", \"type\": \"scatter\"}, {\"hovertemplate\": \"<b>%{hovertext}</b><br><br>Industry=Public_Adminstration <br>Years=%{x}<br>Employment=%{marker.size}<extra></extra>\", \"hovertext\": [418500.0], \"ids\": [\"Public_Adminstration \"], \"legendgroup\": \"Public_Adminstration \", \"marker\": {\"color\": \"#FF97FF\", \"size\": [418500], \"sizemode\": \"area\", \"sizeref\": 214.76543209876544, \"symbol\": \"circle\"}, \"mode\": \"markers\", \"name\": \"Public_Adminstration \", \"showlegend\": true, \"x\": [2016], \"xaxis\": \"x\", \"y\": [418500], \"yaxis\": \"y\", \"type\": \"scatter\"}, {\"hovertemplate\": \"<b>%{hovertext}</b><br><br>Industry=Other_Service<br>Years=%{x}<br>Employment=%{marker.size}<extra></extra>\", \"hovertext\": [72400.0], \"ids\": [\"Other_Service\"], \"legendgroup\": \"Other_Service\", \"marker\": {\"color\": \"#FECB52\", \"size\": [72400], \"sizemode\": \"area\", \"sizeref\": 214.76543209876544, \"symbol\": \"circle\"}, \"mode\": \"markers\", \"name\": \"Other_Service\", \"showlegend\": true, \"x\": [2016], \"xaxis\": \"x\", \"y\": [72400], \"yaxis\": \"y\", \"type\": \"scatter\"}], \"name\": \"2016\"}, {\"data\": [{\"hovertemplate\": \"<b>%{hovertext}</b><br><br>Industry=Agriculture<br>Years=%{x}<br>Employment=%{marker.size}<extra></extra>\", \"hovertext\": [40200.0], \"ids\": [\"Agriculture\"], \"legendgroup\": \"Agriculture\", \"marker\": {\"color\": \"#636efa\", \"size\": [40200], \"sizemode\": \"area\", \"sizeref\": 214.76543209876544, \"symbol\": \"circle\"}, \"mode\": \"markers\", \"name\": \"Agriculture\", \"showlegend\": true, \"x\": [2017], \"xaxis\": \"x\", \"y\": [40200], \"yaxis\": \"y\", \"type\": \"scatter\"}, {\"hovertemplate\": \"<b>%{hovertext}</b><br><br>Industry=Production<br>Years=%{x}<br>Employment=%{marker.size}<extra></extra>\", \"hovertext\": [165100.0], \"ids\": [\"Production\"], \"legendgroup\": \"Production\", \"marker\": {\"color\": \"#EF553B\", \"size\": [165100], \"sizemode\": \"area\", \"sizeref\": 214.76543209876544, \"symbol\": \"circle\"}, \"mode\": \"markers\", \"name\": \"Production\", \"showlegend\": true, \"x\": [2017], \"xaxis\": \"x\", \"y\": [165100], \"yaxis\": \"y\", \"type\": \"scatter\"}, {\"hovertemplate\": \"<b>%{hovertext}</b><br><br>Industry=Construction<br>Years=%{x}<br>Employment=%{marker.size}<extra></extra>\", \"hovertext\": [90800.0], \"ids\": [\"Construction\"], \"legendgroup\": \"Construction\", \"marker\": {\"color\": \"#00cc96\", \"size\": [90800], \"sizemode\": \"area\", \"sizeref\": 214.76543209876544, \"symbol\": \"circle\"}, \"mode\": \"markers\", \"name\": \"Construction\", \"showlegend\": true, \"x\": [2017], \"xaxis\": \"x\", \"y\": [90800], \"yaxis\": \"y\", \"type\": \"scatter\"}, {\"hovertemplate\": \"<b>%{hovertext}</b><br><br>Industry=Retail<br>Years=%{x}<br>Employment=%{marker.size}<extra></extra>\", \"hovertext\": [333500.0], \"ids\": [\"Retail\"], \"legendgroup\": \"Retail\", \"marker\": {\"color\": \"#ab63fa\", \"size\": [333500], \"sizemode\": \"area\", \"sizeref\": 214.76543209876544, \"symbol\": \"circle\"}, \"mode\": \"markers\", \"name\": \"Retail\", \"showlegend\": true, \"x\": [2017], \"xaxis\": \"x\", \"y\": [333500], \"yaxis\": \"y\", \"type\": \"scatter\"}, {\"hovertemplate\": \"<b>%{hovertext}</b><br><br>Industry=ICT<br>Years=%{x}<br>Employment=%{marker.size}<extra></extra>\", \"hovertext\": [58900.0], \"ids\": [\"ICT\"], \"legendgroup\": \"ICT\", \"marker\": {\"color\": \"#FFA15A\", \"size\": [58900], \"sizemode\": \"area\", \"sizeref\": 214.76543209876544, \"symbol\": \"circle\"}, \"mode\": \"markers\", \"name\": \"ICT\", \"showlegend\": true, \"x\": [2017], \"xaxis\": \"x\", \"y\": [58900], \"yaxis\": \"y\", \"type\": \"scatter\"}, {\"hovertemplate\": \"<b>%{hovertext}</b><br><br>Industry=Finance<br>Years=%{x}<br>Employment=%{marker.size}<extra></extra>\", \"hovertext\": [32100.0], \"ids\": [\"Finance\"], \"legendgroup\": \"Finance\", \"marker\": {\"color\": \"#19d3f3\", \"size\": [32100], \"sizemode\": \"area\", \"sizeref\": 214.76543209876544, \"symbol\": \"circle\"}, \"mode\": \"markers\", \"name\": \"Finance\", \"showlegend\": true, \"x\": [2017], \"xaxis\": \"x\", \"y\": [32100], \"yaxis\": \"y\", \"type\": \"scatter\"}, {\"hovertemplate\": \"<b>%{hovertext}</b><br><br>Industry=Real_Estate<br>Years=%{x}<br>Employment=%{marker.size}<extra></extra>\", \"hovertext\": [18200.0], \"ids\": [\"Real_Estate\"], \"legendgroup\": \"Real_Estate\", \"marker\": {\"color\": \"#FF6692\", \"size\": [18200], \"sizemode\": \"area\", \"sizeref\": 214.76543209876544, \"symbol\": \"circle\"}, \"mode\": \"markers\", \"name\": \"Real_Estate\", \"showlegend\": true, \"x\": [2017], \"xaxis\": \"x\", \"y\": [18200], \"yaxis\": \"y\", \"type\": \"scatter\"}, {\"hovertemplate\": \"<b>%{hovertext}</b><br><br>Industry=Professional_Service<br>Years=%{x}<br>Employment=%{marker.size}<extra></extra>\", \"hovertext\": [176400.0], \"ids\": [\"Professional_Service\"], \"legendgroup\": \"Professional_Service\", \"marker\": {\"color\": \"#B6E880\", \"size\": [176400], \"sizemode\": \"area\", \"sizeref\": 214.76543209876544, \"symbol\": \"circle\"}, \"mode\": \"markers\", \"name\": \"Professional_Service\", \"showlegend\": true, \"x\": [2017], \"xaxis\": \"x\", \"y\": [176400], \"yaxis\": \"y\", \"type\": \"scatter\"}, {\"hovertemplate\": \"<b>%{hovertext}</b><br><br>Industry=Public_Adminstration <br>Years=%{x}<br>Employment=%{marker.size}<extra></extra>\", \"hovertext\": [424500.0], \"ids\": [\"Public_Adminstration \"], \"legendgroup\": \"Public_Adminstration \", \"marker\": {\"color\": \"#FF97FF\", \"size\": [424500], \"sizemode\": \"area\", \"sizeref\": 214.76543209876544, \"symbol\": \"circle\"}, \"mode\": \"markers\", \"name\": \"Public_Adminstration \", \"showlegend\": true, \"x\": [2017], \"xaxis\": \"x\", \"y\": [424500], \"yaxis\": \"y\", \"type\": \"scatter\"}, {\"hovertemplate\": \"<b>%{hovertext}</b><br><br>Industry=Other_Service<br>Years=%{x}<br>Employment=%{marker.size}<extra></extra>\", \"hovertext\": [83200.0], \"ids\": [\"Other_Service\"], \"legendgroup\": \"Other_Service\", \"marker\": {\"color\": \"#FECB52\", \"size\": [83200], \"sizemode\": \"area\", \"sizeref\": 214.76543209876544, \"symbol\": \"circle\"}, \"mode\": \"markers\", \"name\": \"Other_Service\", \"showlegend\": true, \"x\": [2017], \"xaxis\": \"x\", \"y\": [83200], \"yaxis\": \"y\", \"type\": \"scatter\"}], \"name\": \"2017\"}, {\"data\": [{\"hovertemplate\": \"<b>%{hovertext}</b><br><br>Industry=Agriculture<br>Years=%{x}<br>Employment=%{marker.size}<extra></extra>\", \"hovertext\": [41100.0], \"ids\": [\"Agriculture\"], \"legendgroup\": \"Agriculture\", \"marker\": {\"color\": \"#636efa\", \"size\": [41100], \"sizemode\": \"area\", \"sizeref\": 214.76543209876544, \"symbol\": \"circle\"}, \"mode\": \"markers\", \"name\": \"Agriculture\", \"showlegend\": true, \"x\": [2018], \"xaxis\": \"x\", \"y\": [41100], \"yaxis\": \"y\", \"type\": \"scatter\"}, {\"hovertemplate\": \"<b>%{hovertext}</b><br><br>Industry=Production<br>Years=%{x}<br>Employment=%{marker.size}<extra></extra>\", \"hovertext\": [165700.0], \"ids\": [\"Production\"], \"legendgroup\": \"Production\", \"marker\": {\"color\": \"#EF553B\", \"size\": [165700], \"sizemode\": \"area\", \"sizeref\": 214.76543209876544, \"symbol\": \"circle\"}, \"mode\": \"markers\", \"name\": \"Production\", \"showlegend\": true, \"x\": [2018], \"xaxis\": \"x\", \"y\": [165700], \"yaxis\": \"y\", \"type\": \"scatter\"}, {\"hovertemplate\": \"<b>%{hovertext}</b><br><br>Industry=Construction<br>Years=%{x}<br>Employment=%{marker.size}<extra></extra>\", \"hovertext\": [101800.0], \"ids\": [\"Construction\"], \"legendgroup\": \"Construction\", \"marker\": {\"color\": \"#00cc96\", \"size\": [101800], \"sizemode\": \"area\", \"sizeref\": 214.76543209876544, \"symbol\": \"circle\"}, \"mode\": \"markers\", \"name\": \"Construction\", \"showlegend\": true, \"x\": [2018], \"xaxis\": \"x\", \"y\": [101800], \"yaxis\": \"y\", \"type\": \"scatter\"}, {\"hovertemplate\": \"<b>%{hovertext}</b><br><br>Industry=Retail<br>Years=%{x}<br>Employment=%{marker.size}<extra></extra>\", \"hovertext\": [347600.0], \"ids\": [\"Retail\"], \"legendgroup\": \"Retail\", \"marker\": {\"color\": \"#ab63fa\", \"size\": [347600], \"sizemode\": \"area\", \"sizeref\": 214.76543209876544, \"symbol\": \"circle\"}, \"mode\": \"markers\", \"name\": \"Retail\", \"showlegend\": true, \"x\": [2018], \"xaxis\": \"x\", \"y\": [347600], \"yaxis\": \"y\", \"type\": \"scatter\"}, {\"hovertemplate\": \"<b>%{hovertext}</b><br><br>Industry=ICT<br>Years=%{x}<br>Employment=%{marker.size}<extra></extra>\", \"hovertext\": [31500.0], \"ids\": [\"ICT\"], \"legendgroup\": \"ICT\", \"marker\": {\"color\": \"#FFA15A\", \"size\": [31500], \"sizemode\": \"area\", \"sizeref\": 214.76543209876544, \"symbol\": \"circle\"}, \"mode\": \"markers\", \"name\": \"ICT\", \"showlegend\": true, \"x\": [2018], \"xaxis\": \"x\", \"y\": [31500], \"yaxis\": \"y\", \"type\": \"scatter\"}, {\"hovertemplate\": \"<b>%{hovertext}</b><br><br>Industry=Finance<br>Years=%{x}<br>Employment=%{marker.size}<extra></extra>\", \"hovertext\": [35500.0], \"ids\": [\"Finance\"], \"legendgroup\": \"Finance\", \"marker\": {\"color\": \"#19d3f3\", \"size\": [35500], \"sizemode\": \"area\", \"sizeref\": 214.76543209876544, \"symbol\": \"circle\"}, \"mode\": \"markers\", \"name\": \"Finance\", \"showlegend\": true, \"x\": [2018], \"xaxis\": \"x\", \"y\": [35500], \"yaxis\": \"y\", \"type\": \"scatter\"}, {\"hovertemplate\": \"<b>%{hovertext}</b><br><br>Industry=Real_Estate<br>Years=%{x}<br>Employment=%{marker.size}<extra></extra>\", \"hovertext\": [25200.0], \"ids\": [\"Real_Estate\"], \"legendgroup\": \"Real_Estate\", \"marker\": {\"color\": \"#FF6692\", \"size\": [25200], \"sizemode\": \"area\", \"sizeref\": 214.76543209876544, \"symbol\": \"circle\"}, \"mode\": \"markers\", \"name\": \"Real_Estate\", \"showlegend\": true, \"x\": [2018], \"xaxis\": \"x\", \"y\": [25200], \"yaxis\": \"y\", \"type\": \"scatter\"}, {\"hovertemplate\": \"<b>%{hovertext}</b><br><br>Industry=Professional_Service<br>Years=%{x}<br>Employment=%{marker.size}<extra></extra>\", \"hovertext\": [187100.0], \"ids\": [\"Professional_Service\"], \"legendgroup\": \"Professional_Service\", \"marker\": {\"color\": \"#B6E880\", \"size\": [187100], \"sizemode\": \"area\", \"sizeref\": 214.76543209876544, \"symbol\": \"circle\"}, \"mode\": \"markers\", \"name\": \"Professional_Service\", \"showlegend\": true, \"x\": [2018], \"xaxis\": \"x\", \"y\": [187100], \"yaxis\": \"y\", \"type\": \"scatter\"}, {\"hovertemplate\": \"<b>%{hovertext}</b><br><br>Industry=Public_Adminstration <br>Years=%{x}<br>Employment=%{marker.size}<extra></extra>\", \"hovertext\": [434900.0], \"ids\": [\"Public_Adminstration \"], \"legendgroup\": \"Public_Adminstration \", \"marker\": {\"color\": \"#FF97FF\", \"size\": [434900], \"sizemode\": \"area\", \"sizeref\": 214.76543209876544, \"symbol\": \"circle\"}, \"mode\": \"markers\", \"name\": \"Public_Adminstration \", \"showlegend\": true, \"x\": [2018], \"xaxis\": \"x\", \"y\": [434900], \"yaxis\": \"y\", \"type\": \"scatter\"}, {\"hovertemplate\": \"<b>%{hovertext}</b><br><br>Industry=Other_Service<br>Years=%{x}<br>Employment=%{marker.size}<extra></extra>\", \"hovertext\": [81800.0], \"ids\": [\"Other_Service\"], \"legendgroup\": \"Other_Service\", \"marker\": {\"color\": \"#FECB52\", \"size\": [81800], \"sizemode\": \"area\", \"sizeref\": 214.76543209876544, \"symbol\": \"circle\"}, \"mode\": \"markers\", \"name\": \"Other_Service\", \"showlegend\": true, \"x\": [2018], \"xaxis\": \"x\", \"y\": [81800], \"yaxis\": \"y\", \"type\": \"scatter\"}], \"name\": \"2018\"}]);\n",
       "                        }).then(function(){\n",
       "                            \n",
       "var gd = document.getElementById('ca8b5057-b219-4b01-a8c5-4cf86778691f');\n",
       "var x = new MutationObserver(function (mutations, observer) {{\n",
       "        var display = window.getComputedStyle(gd).display;\n",
       "        if (!display || display === 'none') {{\n",
       "            console.log([gd, 'removed!']);\n",
       "            Plotly.purge(gd);\n",
       "            observer.disconnect();\n",
       "        }}\n",
       "}});\n",
       "\n",
       "// Listen for the removal of the full notebook cells\n",
       "var notebookContainer = gd.closest('#notebook-container');\n",
       "if (notebookContainer) {{\n",
       "    x.observe(notebookContainer, {childList: true});\n",
       "}}\n",
       "\n",
       "// Listen for the clearing of the current output cell\n",
       "var outputEl = gd.closest('.output');\n",
       "if (outputEl) {{\n",
       "    x.observe(outputEl, {childList: true});\n",
       "}}\n",
       "\n",
       "                        })\n",
       "                };\n",
       "                });\n",
       "            </script>\n",
       "        </div>"
      ]
     },
     "metadata": {},
     "output_type": "display_data"
    }
   ],
   "source": [
    "fig = px.scatter(\n",
    "    new_df,\n",
    "    x=\"Years\",\n",
    "    y=\"Employment\",\n",
    "    animation_frame=\"Years\",\n",
    "    animation_group=\"Industry\",\n",
    "    color=\"Industry\",\n",
    "    hover_name=\"Employment\",\n",
    "    size=\"Employment\",\n",
    "    log_x=True,\n",
    "    size_max=45,\n",
    "    range_x=[2008, 2019],\n",
    "    range_y=[0, 500000],\n",
    ")\n",
    "fig.show()"
   ]
  },
  {
   "cell_type": "markdown",
   "metadata": {},
   "source": [
    "# 4. Correlation/ PCA"
   ]
  },
  {
   "cell_type": "markdown",
   "metadata": {
    "collapsed": true
   },
   "source": [
    "#### 4.1.Undertake a PCA (PC=2; columns should be like PC1, PC2, Industry) and produce a scatter plot.  Write your interpretation about the plot and in relation to the analysis of section 2 & 3 (for example which industries are correlated over the years as well as in PCA etc.)"
   ]
  },
  {
   "cell_type": "code",
   "execution_count": 21,
   "metadata": {},
   "outputs": [],
   "source": [
    "cdata = data.copy()\n",
    "\n",
    "features = cdata.columns[1:].tolist()\n",
    "x = cdata.loc[:, features].values"
   ]
  },
  {
   "cell_type": "code",
   "execution_count": 22,
   "metadata": {},
   "outputs": [],
   "source": [
    "y = cdata.loc[:, [\"Industry\"]].values"
   ]
  },
  {
   "cell_type": "code",
   "execution_count": 23,
   "metadata": {},
   "outputs": [
    {
     "data": {
      "text/html": [
       "<div>\n",
       "<style scoped>\n",
       "    .dataframe tbody tr th:only-of-type {\n",
       "        vertical-align: middle;\n",
       "    }\n",
       "\n",
       "    .dataframe tbody tr th {\n",
       "        vertical-align: top;\n",
       "    }\n",
       "\n",
       "    .dataframe thead th {\n",
       "        text-align: right;\n",
       "    }\n",
       "</style>\n",
       "<table border=\"1\" class=\"dataframe\">\n",
       "  <thead>\n",
       "    <tr style=\"text-align: right;\">\n",
       "      <th></th>\n",
       "      <th>2009</th>\n",
       "      <th>2010</th>\n",
       "      <th>2011</th>\n",
       "      <th>2012</th>\n",
       "      <th>2013</th>\n",
       "      <th>2014</th>\n",
       "      <th>2015</th>\n",
       "      <th>2016</th>\n",
       "      <th>2017</th>\n",
       "      <th>2018</th>\n",
       "    </tr>\n",
       "  </thead>\n",
       "  <tbody>\n",
       "    <tr>\n",
       "      <td>0</td>\n",
       "      <td>-0.722944</td>\n",
       "      <td>-0.712345</td>\n",
       "      <td>-0.734524</td>\n",
       "      <td>-0.730311</td>\n",
       "      <td>-0.739850</td>\n",
       "      <td>-0.731262</td>\n",
       "      <td>-0.732126</td>\n",
       "      <td>-0.729848</td>\n",
       "      <td>-0.785431</td>\n",
       "      <td>-0.769321</td>\n",
       "    </tr>\n",
       "    <tr>\n",
       "      <td>1</td>\n",
       "      <td>0.174046</td>\n",
       "      <td>0.125885</td>\n",
       "      <td>0.178414</td>\n",
       "      <td>0.154620</td>\n",
       "      <td>0.205460</td>\n",
       "      <td>0.255949</td>\n",
       "      <td>0.234445</td>\n",
       "      <td>0.161541</td>\n",
       "      <td>0.175489</td>\n",
       "      <td>0.151322</td>\n",
       "    </tr>\n",
       "    <tr>\n",
       "      <td>2</td>\n",
       "      <td>-0.278972</td>\n",
       "      <td>-0.299239</td>\n",
       "      <td>-0.332831</td>\n",
       "      <td>-0.317393</td>\n",
       "      <td>-0.350299</td>\n",
       "      <td>-0.320806</td>\n",
       "      <td>-0.350933</td>\n",
       "      <td>-0.285274</td>\n",
       "      <td>-0.396139</td>\n",
       "      <td>-0.320821</td>\n",
       "    </tr>\n",
       "    <tr>\n",
       "      <td>3</td>\n",
       "      <td>1.596417</td>\n",
       "      <td>1.588280</td>\n",
       "      <td>1.553410</td>\n",
       "      <td>1.597587</td>\n",
       "      <td>1.547741</td>\n",
       "      <td>1.495632</td>\n",
       "      <td>1.596163</td>\n",
       "      <td>1.638720</td>\n",
       "      <td>1.471078</td>\n",
       "      <td>1.495344</td>\n",
       "    </tr>\n",
       "    <tr>\n",
       "      <td>4</td>\n",
       "      <td>-0.797568</td>\n",
       "      <td>-0.789708</td>\n",
       "      <td>-0.806813</td>\n",
       "      <td>-0.796886</td>\n",
       "      <td>-0.813308</td>\n",
       "      <td>-0.784175</td>\n",
       "      <td>-0.854783</td>\n",
       "      <td>-0.795600</td>\n",
       "      <td>-0.641563</td>\n",
       "      <td>-0.840254</td>\n",
       "    </tr>\n",
       "  </tbody>\n",
       "</table>\n",
       "</div>"
      ],
      "text/plain": [
       "       2009      2010      2011      2012      2013      2014      2015  \\\n",
       "0 -0.722944 -0.712345 -0.734524 -0.730311 -0.739850 -0.731262 -0.732126   \n",
       "1  0.174046  0.125885  0.178414  0.154620  0.205460  0.255949  0.234445   \n",
       "2 -0.278972 -0.299239 -0.332831 -0.317393 -0.350299 -0.320806 -0.350933   \n",
       "3  1.596417  1.588280  1.553410  1.597587  1.547741  1.495632  1.596163   \n",
       "4 -0.797568 -0.789708 -0.806813 -0.796886 -0.813308 -0.784175 -0.854783   \n",
       "\n",
       "       2016      2017      2018  \n",
       "0 -0.729848 -0.785431 -0.769321  \n",
       "1  0.161541  0.175489  0.151322  \n",
       "2 -0.285274 -0.396139 -0.320821  \n",
       "3  1.638720  1.471078  1.495344  \n",
       "4 -0.795600 -0.641563 -0.840254  "
      ]
     },
     "execution_count": 23,
     "metadata": {},
     "output_type": "execute_result"
    }
   ],
   "source": [
    "x = StandardScaler().fit_transform(x)\n",
    "pd.DataFrame(data=x, columns=features).head()"
   ]
  },
  {
   "cell_type": "code",
   "execution_count": 24,
   "metadata": {},
   "outputs": [],
   "source": [
    "pca = PCA(n_components=2)\n",
    "principalComponents = pca.fit_transform(x)\n",
    "principalDf = pd.DataFrame(\n",
    "    data=principalComponents, columns=[\"principal component 1\", \"principal component 2\"]\n",
    ")"
   ]
  },
  {
   "cell_type": "code",
   "execution_count": 25,
   "metadata": {},
   "outputs": [
    {
     "data": {
      "text/html": [
       "<div>\n",
       "<style scoped>\n",
       "    .dataframe tbody tr th:only-of-type {\n",
       "        vertical-align: middle;\n",
       "    }\n",
       "\n",
       "    .dataframe tbody tr th {\n",
       "        vertical-align: top;\n",
       "    }\n",
       "\n",
       "    .dataframe thead th {\n",
       "        text-align: right;\n",
       "    }\n",
       "</style>\n",
       "<table border=\"1\" class=\"dataframe\">\n",
       "  <thead>\n",
       "    <tr style=\"text-align: right;\">\n",
       "      <th></th>\n",
       "      <th>principal component 1</th>\n",
       "      <th>principal component 2</th>\n",
       "      <th>Industry</th>\n",
       "    </tr>\n",
       "  </thead>\n",
       "  <tbody>\n",
       "    <tr>\n",
       "      <td>0</td>\n",
       "      <td>-2.336228</td>\n",
       "      <td>-0.062033</td>\n",
       "      <td>Agriculture</td>\n",
       "    </tr>\n",
       "    <tr>\n",
       "      <td>1</td>\n",
       "      <td>0.574654</td>\n",
       "      <td>0.007002</td>\n",
       "      <td>Production</td>\n",
       "    </tr>\n",
       "    <tr>\n",
       "      <td>2</td>\n",
       "      <td>-1.028544</td>\n",
       "      <td>-0.068697</td>\n",
       "      <td>Construction</td>\n",
       "    </tr>\n",
       "    <tr>\n",
       "      <td>3</td>\n",
       "      <td>4.927032</td>\n",
       "      <td>-0.121161</td>\n",
       "      <td>Retail</td>\n",
       "    </tr>\n",
       "    <tr>\n",
       "      <td>4</td>\n",
       "      <td>-2.504829</td>\n",
       "      <td>0.084791</td>\n",
       "      <td>ICT</td>\n",
       "    </tr>\n",
       "  </tbody>\n",
       "</table>\n",
       "</div>"
      ],
      "text/plain": [
       "   principal component 1  principal component 2      Industry\n",
       "0              -2.336228              -0.062033   Agriculture\n",
       "1               0.574654               0.007002    Production\n",
       "2              -1.028544              -0.068697  Construction\n",
       "3               4.927032              -0.121161        Retail\n",
       "4              -2.504829               0.084791           ICT"
      ]
     },
     "execution_count": 25,
     "metadata": {},
     "output_type": "execute_result"
    }
   ],
   "source": [
    "finalDf = pd.concat([principalDf, cdata[[\"Industry\"]]], axis=1)\n",
    "finalDf.head(5)"
   ]
  },
  {
   "cell_type": "code",
   "execution_count": 26,
   "metadata": {},
   "outputs": [
    {
     "data": {
      "image/png": "[encoded data removed]",
      "text/plain": [
       "<Figure size 576x576 with 1 Axes>"
      ]
     },
     "metadata": {
      "needs_background": "light"
     },
     "output_type": "display_data"
    }
   ],
   "source": [
    "fig = plt.figure(figsize=(8, 8))\n",
    "ax = fig.add_subplot(1, 1, 1)\n",
    "ax.set_xlabel(\"Principal Component 1\", fontsize=15)\n",
    "ax.set_ylabel(\"Principal Component 2\", fontsize=15)\n",
    "ax.set_title(\"2 Component PCA\", fontsize=20)\n",
    "ind = data[\"Industry\"]\n",
    "\n",
    "\n",
    "targets = [\n",
    "    \"Agriculture\",\n",
    "    \"Production\",\n",
    "    \"Construction\",\n",
    "    \"Retail\",\n",
    "    \"ICT\",\n",
    "    \"Finance\",\n",
    "    \"Real_Estate\",\n",
    "    \"Professional_Service\",\n",
    "    \"Public_Adminstration \",\n",
    "    \"Other_Service\",\n",
    "]\n",
    "colors = [\"r\", \"g\", \"b\", \"k\", \"c\", \"m\", \"y\", \"#eeefff\", \"#e612bb\", \"#b290d1\"]\n",
    "for target, color in zip(targets, colors):\n",
    "    indicesToKeep = finalDf[\"Industry\"] == target\n",
    "    ax.scatter(\n",
    "        finalDf.loc[indicesToKeep, \"principal component 1\"],\n",
    "        finalDf.loc[indicesToKeep, \"principal component 2\"],\n",
    "        c=color,\n",
    "        s=50,\n",
    "    )\n",
    "\n",
    "ax.legend(targets)\n",
    "ax.grid()"
   ]
  },
  {
   "cell_type": "code",
   "execution_count": 27,
   "metadata": {},
   "outputs": [
    {
     "data": {
      "text/html": [
       "<div>\n",
       "<style scoped>\n",
       "    .dataframe tbody tr th:only-of-type {\n",
       "        vertical-align: middle;\n",
       "    }\n",
       "\n",
       "    .dataframe tbody tr th {\n",
       "        vertical-align: top;\n",
       "    }\n",
       "\n",
       "    .dataframe thead th {\n",
       "        text-align: right;\n",
       "    }\n",
       "</style>\n",
       "<table border=\"1\" class=\"dataframe\">\n",
       "  <thead>\n",
       "    <tr style=\"text-align: right;\">\n",
       "      <th></th>\n",
       "      <th>principal component 1</th>\n",
       "      <th>principal component 2</th>\n",
       "      <th>Industry</th>\n",
       "    </tr>\n",
       "  </thead>\n",
       "  <tbody>\n",
       "    <tr>\n",
       "      <td>0</td>\n",
       "      <td>-2.336228</td>\n",
       "      <td>-0.062033</td>\n",
       "      <td>Agriculture</td>\n",
       "    </tr>\n",
       "    <tr>\n",
       "      <td>1</td>\n",
       "      <td>0.574654</td>\n",
       "      <td>0.007002</td>\n",
       "      <td>Production</td>\n",
       "    </tr>\n",
       "    <tr>\n",
       "      <td>2</td>\n",
       "      <td>-1.028544</td>\n",
       "      <td>-0.068697</td>\n",
       "      <td>Construction</td>\n",
       "    </tr>\n",
       "    <tr>\n",
       "      <td>3</td>\n",
       "      <td>4.927032</td>\n",
       "      <td>-0.121161</td>\n",
       "      <td>Retail</td>\n",
       "    </tr>\n",
       "    <tr>\n",
       "      <td>4</td>\n",
       "      <td>-2.504829</td>\n",
       "      <td>0.084791</td>\n",
       "      <td>ICT</td>\n",
       "    </tr>\n",
       "    <tr>\n",
       "      <td>5</td>\n",
       "      <td>-2.503685</td>\n",
       "      <td>-0.078178</td>\n",
       "      <td>Finance</td>\n",
       "    </tr>\n",
       "    <tr>\n",
       "      <td>6</td>\n",
       "      <td>-2.816887</td>\n",
       "      <td>-0.057759</td>\n",
       "      <td>Real_Estate</td>\n",
       "    </tr>\n",
       "    <tr>\n",
       "      <td>7</td>\n",
       "      <td>0.438737</td>\n",
       "      <td>0.248729</td>\n",
       "      <td>Professional_Service</td>\n",
       "    </tr>\n",
       "    <tr>\n",
       "      <td>8</td>\n",
       "      <td>6.762305</td>\n",
       "      <td>0.023413</td>\n",
       "      <td>Public_Adminstration</td>\n",
       "    </tr>\n",
       "    <tr>\n",
       "      <td>9</td>\n",
       "      <td>-1.512556</td>\n",
       "      <td>0.023895</td>\n",
       "      <td>Other_Service</td>\n",
       "    </tr>\n",
       "  </tbody>\n",
       "</table>\n",
       "</div>"
      ],
      "text/plain": [
       "   principal component 1  principal component 2               Industry\n",
       "0              -2.336228              -0.062033            Agriculture\n",
       "1               0.574654               0.007002             Production\n",
       "2              -1.028544              -0.068697           Construction\n",
       "3               4.927032              -0.121161                 Retail\n",
       "4              -2.504829               0.084791                    ICT\n",
       "5              -2.503685              -0.078178                Finance\n",
       "6              -2.816887              -0.057759            Real_Estate\n",
       "7               0.438737               0.248729   Professional_Service\n",
       "8               6.762305               0.023413  Public_Adminstration \n",
       "9              -1.512556               0.023895          Other_Service"
      ]
     },
     "execution_count": 27,
     "metadata": {},
     "output_type": "execute_result"
    }
   ],
   "source": [
    "finalDf"
   ]
  },
  {
   "cell_type": "code",
   "execution_count": 28,
   "metadata": {},
   "outputs": [
    {
     "data": {
      "text/plain": [
       "array([0.99808273, 0.00102919])"
      ]
     },
     "execution_count": 28,
     "metadata": {},
     "output_type": "execute_result"
    }
   ],
   "source": [
    "pca.explained_variance_ratio_"
   ]
  },
  {
   "cell_type": "markdown",
   "metadata": {},
   "source": [
    "#### Ans: PCA analysis shows public administration is the most dominant industry and retail is the second. PCA also aligns with the behaviour of data analysis part. Here agriculture, real estate and finance are highly related."
   ]
  },
  {
   "cell_type": "markdown",
   "metadata": {},
   "source": [
    "## 4.2 Make a year wise correlation for each industry.  Does the aforementioned industries are also correlated over the years?"
   ]
  },
  {
   "cell_type": "code",
   "execution_count": 29,
   "metadata": {},
   "outputs": [],
   "source": [
    "cdata = data.copy()\n",
    "cdata = cdata.set_index(\"Industry\")\n",
    "cdata = cdata.T\n",
    "corr_matrix = cdata.corr().abs()"
   ]
  },
  {
   "cell_type": "code",
   "execution_count": 30,
   "metadata": {},
   "outputs": [
    {
     "data": {
      "image/png": "[encoded data removed]",
      "text/plain": [
       "<Figure size 432x288 with 2 Axes>"
      ]
     },
     "metadata": {
      "needs_background": "light"
     },
     "output_type": "display_data"
    }
   ],
   "source": [
    "sns.heatmap(corr_matrix, \n",
    "        xticklabels=corr_matrix.columns,\n",
    "        yticklabels=corr_matrix.columns)\n",
    "plt.show()"
   ]
  },
  {
   "cell_type": "markdown",
   "metadata": {},
   "source": [
    "#### Ans:Aforementioned industries are not related over the years."
   ]
  },
  {
   "cell_type": "markdown",
   "metadata": {},
   "source": [
    "# 5. Clustering (k means & hierarchical)"
   ]
  },
  {
   "cell_type": "markdown",
   "metadata": {
    "collapsed": true
   },
   "source": [
    "### 5.1 Using the best and worst performing year column’s employment data (2.3) undertake a K means clustering analysis (K=2 & 3) and identify industries cluster together."
   ]
  },
  {
   "cell_type": "code",
   "execution_count": 31,
   "metadata": {},
   "outputs": [
    {
     "name": "stdout",
     "output_type": "stream",
     "text": [
      "                Industry    2009    2010    2011    2012    2013    2014  \\\n",
      "0            Agriculture   37700   38200   36100   36100   36800   42700   \n",
      "1             Production  156700  149800  158600  154400  164200  173300   \n",
      "2           Construction   96600   93200   90000   91300   89300   97000   \n",
      "3                 Retail  345400  344500  343100  347300  345100  337300   \n",
      "4                    ICT   27800   27900   26400   27200   26900   35700   \n",
      "5                Finance   33800   29800   33200   31100   32400   32400   \n",
      "6            Real_Estate   13500   14600   17600   18800   18000   22200   \n",
      "7   Professional_Service  144800  145800  143600  137300  149900  152900   \n",
      "8  Public_Adminstration   415600  418600  425600  421000  427000  427600   \n",
      "9          Other_Service   64200   68000   72400   72800   75500   73300   \n",
      "\n",
      "     2015    2016    2017    2018  \n",
      "0   40700   43200   40200   41100  \n",
      "1  172300  162500  165100  165700  \n",
      "2   92600  102700   90800  101800  \n",
      "3  357700  360200  333500  347600  \n",
      "4   24000   34400   58900   31500  \n",
      "5   30800   31000   32100   35500  \n",
      "6   19100   22700   18200   25200  \n",
      "7  166200  161200  176400  187100  \n",
      "8  423200  418500  424500  434900  \n",
      "9   77200   72400   83200   81800  \n"
     ]
    },
    {
     "data": {
      "text/plain": [
       "KMeans(algorithm='auto', copy_x=True, init='k-means++', max_iter=50,\n",
       "       n_clusters=2, n_init=10, n_jobs=None, precompute_distances='auto',\n",
       "       random_state=1, tol=0.0001, verbose=0)"
      ]
     },
     "execution_count": 31,
     "metadata": {},
     "output_type": "execute_result"
    }
   ],
   "source": [
    "cdata = data.copy()\n",
    "print(cdata)\n",
    "ind = cdata[\"Industry\"]\n",
    "ydata = cdata[[\"2010\", \"2018\"]]\n",
    "ydata = ydata.values.astype(\"float32\", copy=False)\n",
    "stscaler = preprocessing.StandardScaler().fit(ydata)\n",
    "ydata = stscaler.transform(ydata)\n",
    "kmeans = KMeans(n_clusters=2, max_iter=50, random_state=1)\n",
    "kmeans.fit(ydata)"
   ]
  },
  {
   "cell_type": "code",
   "execution_count": 32,
   "metadata": {},
   "outputs": [
    {
     "data": {
      "text/html": [
       "<div>\n",
       "<style scoped>\n",
       "    .dataframe tbody tr th:only-of-type {\n",
       "        vertical-align: middle;\n",
       "    }\n",
       "\n",
       "    .dataframe tbody tr th {\n",
       "        vertical-align: top;\n",
       "    }\n",
       "\n",
       "    .dataframe thead th {\n",
       "        text-align: right;\n",
       "    }\n",
       "</style>\n",
       "<table border=\"1\" class=\"dataframe\">\n",
       "  <thead>\n",
       "    <tr style=\"text-align: right;\">\n",
       "      <th></th>\n",
       "      <th>0</th>\n",
       "      <th>1</th>\n",
       "      <th>Industry</th>\n",
       "    </tr>\n",
       "  </thead>\n",
       "  <tbody>\n",
       "    <tr>\n",
       "      <td>0</td>\n",
       "      <td>-0.712345</td>\n",
       "      <td>-0.769321</td>\n",
       "      <td>Agriculture</td>\n",
       "    </tr>\n",
       "    <tr>\n",
       "      <td>1</td>\n",
       "      <td>0.125885</td>\n",
       "      <td>0.151322</td>\n",
       "      <td>Production</td>\n",
       "    </tr>\n",
       "    <tr>\n",
       "      <td>2</td>\n",
       "      <td>-0.299239</td>\n",
       "      <td>-0.320821</td>\n",
       "      <td>Construction</td>\n",
       "    </tr>\n",
       "    <tr>\n",
       "      <td>3</td>\n",
       "      <td>1.588280</td>\n",
       "      <td>1.495344</td>\n",
       "      <td>Retail</td>\n",
       "    </tr>\n",
       "    <tr>\n",
       "      <td>4</td>\n",
       "      <td>-0.789708</td>\n",
       "      <td>-0.840254</td>\n",
       "      <td>ICT</td>\n",
       "    </tr>\n",
       "    <tr>\n",
       "      <td>5</td>\n",
       "      <td>-0.775438</td>\n",
       "      <td>-0.810698</td>\n",
       "      <td>Finance</td>\n",
       "    </tr>\n",
       "    <tr>\n",
       "      <td>6</td>\n",
       "      <td>-0.889605</td>\n",
       "      <td>-0.886803</td>\n",
       "      <td>Real_Estate</td>\n",
       "    </tr>\n",
       "    <tr>\n",
       "      <td>7</td>\n",
       "      <td>0.095841</td>\n",
       "      <td>0.309443</td>\n",
       "      <td>Professional_Service</td>\n",
       "    </tr>\n",
       "    <tr>\n",
       "      <td>8</td>\n",
       "      <td>2.144846</td>\n",
       "      <td>2.140386</td>\n",
       "      <td>Public_Adminstration</td>\n",
       "    </tr>\n",
       "    <tr>\n",
       "      <td>9</td>\n",
       "      <td>-0.488517</td>\n",
       "      <td>-0.468597</td>\n",
       "      <td>Other_Service</td>\n",
       "    </tr>\n",
       "  </tbody>\n",
       "</table>\n",
       "</div>"
      ],
      "text/plain": [
       "          0         1               Industry\n",
       "0 -0.712345 -0.769321            Agriculture\n",
       "1  0.125885  0.151322             Production\n",
       "2 -0.299239 -0.320821           Construction\n",
       "3  1.588280  1.495344                 Retail\n",
       "4 -0.789708 -0.840254                    ICT\n",
       "5 -0.775438 -0.810698                Finance\n",
       "6 -0.889605 -0.886803            Real_Estate\n",
       "7  0.095841  0.309443   Professional_Service\n",
       "8  2.144846  2.140386  Public_Adminstration \n",
       "9 -0.488517 -0.468597          Other_Service"
      ]
     },
     "execution_count": 32,
     "metadata": {},
     "output_type": "execute_result"
    }
   ],
   "source": [
    "k_data = pd.DataFrame(data = ydata)\n",
    "k_data['Industry'] = ind.to_list()\n",
    "k_data"
   ]
  },
  {
   "cell_type": "code",
   "execution_count": 33,
   "metadata": {},
   "outputs": [
    {
     "data": {
      "image/png": "[encoded data removed]",
      "text/plain": [
       "<Figure size 432x288 with 1 Axes>"
      ]
     },
     "metadata": {
      "needs_background": "light"
     },
     "output_type": "display_data"
    }
   ],
   "source": [
    "plt.scatter(ydata[:, 0],ydata[:, 1], c=kmeans.labels_, cmap=\"summer\")\n",
    "plt.show()"
   ]
  },
  {
   "cell_type": "markdown",
   "metadata": {},
   "source": [
    "#### Ans:Here we have created two clusters. Public administration and retail are highly related in one while agriculture, ICT, real estate, construction, other service, professional service and production is related in another."
   ]
  },
  {
   "cell_type": "code",
   "execution_count": 34,
   "metadata": {},
   "outputs": [
    {
     "name": "stdout",
     "output_type": "stream",
     "text": [
      "                Industry    2009    2010    2011    2012    2013    2014  \\\n",
      "0            Agriculture   37700   38200   36100   36100   36800   42700   \n",
      "1             Production  156700  149800  158600  154400  164200  173300   \n",
      "2           Construction   96600   93200   90000   91300   89300   97000   \n",
      "3                 Retail  345400  344500  343100  347300  345100  337300   \n",
      "4                    ICT   27800   27900   26400   27200   26900   35700   \n",
      "5                Finance   33800   29800   33200   31100   32400   32400   \n",
      "6            Real_Estate   13500   14600   17600   18800   18000   22200   \n",
      "7   Professional_Service  144800  145800  143600  137300  149900  152900   \n",
      "8  Public_Adminstration   415600  418600  425600  421000  427000  427600   \n",
      "9          Other_Service   64200   68000   72400   72800   75500   73300   \n",
      "\n",
      "     2015    2016    2017    2018  \n",
      "0   40700   43200   40200   41100  \n",
      "1  172300  162500  165100  165700  \n",
      "2   92600  102700   90800  101800  \n",
      "3  357700  360200  333500  347600  \n",
      "4   24000   34400   58900   31500  \n",
      "5   30800   31000   32100   35500  \n",
      "6   19100   22700   18200   25200  \n",
      "7  166200  161200  176400  187100  \n",
      "8  423200  418500  424500  434900  \n",
      "9   77200   72400   83200   81800  \n"
     ]
    },
    {
     "data": {
      "text/plain": [
       "KMeans(algorithm='auto', copy_x=True, init='k-means++', max_iter=50,\n",
       "       n_clusters=3, n_init=10, n_jobs=None, precompute_distances='auto',\n",
       "       random_state=1, tol=0.0001, verbose=0)"
      ]
     },
     "execution_count": 34,
     "metadata": {},
     "output_type": "execute_result"
    }
   ],
   "source": [
    "cdata = data.copy()\n",
    "print(cdata)\n",
    "ind = cdata[\"Industry\"]\n",
    "ydata = cdata[[\"2010\", \"2018\"]]\n",
    "ydata = ydata.values.astype(\"float32\", copy=False)\n",
    "stscaler = preprocessing.StandardScaler().fit(ydata)\n",
    "ydata = stscaler.transform(ydata)\n",
    "kmeans = KMeans(n_clusters=3, max_iter=50, random_state=1)\n",
    "kmeans.fit(ydata)"
   ]
  },
  {
   "cell_type": "code",
   "execution_count": 35,
   "metadata": {},
   "outputs": [
    {
     "data": {
      "text/html": [
       "<div>\n",
       "<style scoped>\n",
       "    .dataframe tbody tr th:only-of-type {\n",
       "        vertical-align: middle;\n",
       "    }\n",
       "\n",
       "    .dataframe tbody tr th {\n",
       "        vertical-align: top;\n",
       "    }\n",
       "\n",
       "    .dataframe thead th {\n",
       "        text-align: right;\n",
       "    }\n",
       "</style>\n",
       "<table border=\"1\" class=\"dataframe\">\n",
       "  <thead>\n",
       "    <tr style=\"text-align: right;\">\n",
       "      <th></th>\n",
       "      <th>0</th>\n",
       "      <th>1</th>\n",
       "      <th>Industry</th>\n",
       "    </tr>\n",
       "  </thead>\n",
       "  <tbody>\n",
       "    <tr>\n",
       "      <td>0</td>\n",
       "      <td>-0.712345</td>\n",
       "      <td>-0.769321</td>\n",
       "      <td>Agriculture</td>\n",
       "    </tr>\n",
       "    <tr>\n",
       "      <td>1</td>\n",
       "      <td>0.125885</td>\n",
       "      <td>0.151322</td>\n",
       "      <td>Production</td>\n",
       "    </tr>\n",
       "    <tr>\n",
       "      <td>2</td>\n",
       "      <td>-0.299239</td>\n",
       "      <td>-0.320821</td>\n",
       "      <td>Construction</td>\n",
       "    </tr>\n",
       "    <tr>\n",
       "      <td>3</td>\n",
       "      <td>1.588280</td>\n",
       "      <td>1.495344</td>\n",
       "      <td>Retail</td>\n",
       "    </tr>\n",
       "    <tr>\n",
       "      <td>4</td>\n",
       "      <td>-0.789708</td>\n",
       "      <td>-0.840254</td>\n",
       "      <td>ICT</td>\n",
       "    </tr>\n",
       "    <tr>\n",
       "      <td>5</td>\n",
       "      <td>-0.775438</td>\n",
       "      <td>-0.810698</td>\n",
       "      <td>Finance</td>\n",
       "    </tr>\n",
       "    <tr>\n",
       "      <td>6</td>\n",
       "      <td>-0.889605</td>\n",
       "      <td>-0.886803</td>\n",
       "      <td>Real_Estate</td>\n",
       "    </tr>\n",
       "    <tr>\n",
       "      <td>7</td>\n",
       "      <td>0.095841</td>\n",
       "      <td>0.309443</td>\n",
       "      <td>Professional_Service</td>\n",
       "    </tr>\n",
       "    <tr>\n",
       "      <td>8</td>\n",
       "      <td>2.144846</td>\n",
       "      <td>2.140386</td>\n",
       "      <td>Public_Adminstration</td>\n",
       "    </tr>\n",
       "    <tr>\n",
       "      <td>9</td>\n",
       "      <td>-0.488517</td>\n",
       "      <td>-0.468597</td>\n",
       "      <td>Other_Service</td>\n",
       "    </tr>\n",
       "  </tbody>\n",
       "</table>\n",
       "</div>"
      ],
      "text/plain": [
       "          0         1               Industry\n",
       "0 -0.712345 -0.769321            Agriculture\n",
       "1  0.125885  0.151322             Production\n",
       "2 -0.299239 -0.320821           Construction\n",
       "3  1.588280  1.495344                 Retail\n",
       "4 -0.789708 -0.840254                    ICT\n",
       "5 -0.775438 -0.810698                Finance\n",
       "6 -0.889605 -0.886803            Real_Estate\n",
       "7  0.095841  0.309443   Professional_Service\n",
       "8  2.144846  2.140386  Public_Adminstration \n",
       "9 -0.488517 -0.468597          Other_Service"
      ]
     },
     "execution_count": 35,
     "metadata": {},
     "output_type": "execute_result"
    }
   ],
   "source": [
    "k_data = pd.DataFrame(data = ydata)\n",
    "k_data['Industry'] = ind.to_list()\n",
    "k_data"
   ]
  },
  {
   "cell_type": "code",
   "execution_count": 36,
   "metadata": {},
   "outputs": [
    {
     "data": {
      "image/png": "[encoded data removed]",
      "text/plain": [
       "<Figure size 432x288 with 1 Axes>"
      ]
     },
     "metadata": {
      "needs_background": "light"
     },
     "output_type": "display_data"
    }
   ],
   "source": [
    "plt.scatter(ydata[:, 0], ydata[:, 1], c=kmeans.labels_, cmap=\"summer\")\n",
    "plt.show()"
   ]
  },
  {
   "cell_type": "markdown",
   "metadata": {},
   "source": [
    "#### From three clusters public administration and retail are highly related in one and agriculture, ICT, real estate, construction and other service are related in anoter. In the middle cluster professional service and production are related."
   ]
  },
  {
   "cell_type": "markdown",
   "metadata": {},
   "source": [
    "## 5.2 Using the same dataset (best & worst performing) create a hierarchical cluster."
   ]
  },
  {
   "cell_type": "code",
   "execution_count": 37,
   "metadata": {},
   "outputs": [
    {
     "data": {
      "image/png": "[encoded data removed]",
      "text/plain": [
       "<Figure size 432x288 with 1 Axes>"
      ]
     },
     "metadata": {
      "needs_background": "light"
     },
     "output_type": "display_data"
    }
   ],
   "source": [
    "cdata = data.copy()\n",
    "ind = cdata[\"Industry\"]\n",
    "ydata = cdata[[\"2010\", \"2018\"]]\n",
    "Z = hierarchy.linkage(ydata.values, \"complete\")\n",
    "dn = hierarchy.dendrogram(Z, labels=ind.tolist(), orientation=\"right\")"
   ]
  },
  {
   "cell_type": "markdown",
   "metadata": {},
   "source": [
    "#### Hierarchical clustering is visually more appealing from k-means"
   ]
  },
  {
   "cell_type": "markdown",
   "metadata": {},
   "source": [
    "# 6. Discussion"
   ]
  },
  {
   "cell_type": "markdown",
   "metadata": {},
   "source": [
    "##### After data analysis I found that \n",
    "1. Public administration has employed the highest and real estate has employed the lowest over the period.\n",
    "2. Real estate has the highest overall growth and retall has the lowest over the period. \n",
    "3. 2018 is the highest performing year and 2010 is the lowest performing year. \n",
    "\n",
    "##### PCA analysis says that \n",
    "1. First two principal components contain 99.99% of the information. \n",
    "2. The first principal component contains 99.80% of the variance \n",
    "3. The second principal component contains .01% of the variance. The other components contained the rest of the variance of the dataset. \n",
    "\n",
    "##### From clustering\n",
    "1. Three clusters have been found from K-means.\n",
    "2. In one cluster public administration and retail are highly related. \n",
    "3. Agriculture, ICT, real estate, construction in another\n",
    "4. rofessional service and production are related in the other cluster.\n"
   ]
  },
  {
   "cell_type": "code",
   "execution_count": null,
   "metadata": {},
   "outputs": [],
   "source": []
  }
 ],
 "metadata": {
  "kernelspec": {
   "display_name": "Python 3",
   "language": "python",
   "name": "python3"
  },
  "language_info": {
   "codemirror_mode": {
    "name": "ipython",
    "version": 3
   },
   "file_extension": ".py",
   "mimetype": "text/x-python",
   "name": "python",
   "nbconvert_exporter": "python",
   "pygments_lexer": "ipython3",
   "version": "3.7.4"
  }
 },
 "nbformat": 4,
 "nbformat_minor": 2
}
